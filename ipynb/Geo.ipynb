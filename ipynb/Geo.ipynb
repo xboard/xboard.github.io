{
 "cells": [
  {
   "cell_type": "code",
   "execution_count": 1,
   "metadata": {},
   "outputs": [
    {
     "name": "stderr",
     "output_type": "stream",
     "text": [
      "Package `lxml` missing. Pretty print will be disabled\n"
     ]
    }
   ],
   "source": [
    "import pandas as pd\n",
    "import numpy as np\n",
    "import urllib\n",
    "import os\n",
    "import folium\n",
    "from folium import plugins\n",
    "from fastkml.kml import KML\n",
    "from IPython.display import IFrame"
   ]
  },
  {
   "cell_type": "code",
   "execution_count": 2,
   "metadata": {},
   "outputs": [],
   "source": [
    "def read_kml(fname='Preschools.kml'):\n",
    "    kml = KML()\n",
    "    kml.from_string(open(fname).read())\n",
    "    points = dict()\n",
    "    for feature in kml.features():\n",
    "        for placemark in feature.features():\n",
    "            points.update({placemark.name:\n",
    "                            (placemark.geometry.y, placemark.geometry.x, )})\n",
    "    return points"
   ]
  },
  {
   "cell_type": "code",
   "execution_count": 3,
   "metadata": {},
   "outputs": [],
   "source": [
    "ps = read_kml()"
   ]
  },
  {
   "cell_type": "code",
   "execution_count": 4,
   "metadata": {},
   "outputs": [
    {
     "name": "stdout",
     "output_type": "stream",
     "text": [
      "53\n"
     ]
    },
    {
     "data": {
      "text/plain": [
       "{'Tiggers Honeypot': (-33.915571, 151.236203),\n",
       " 'Uniting Frederick Street Preschool Rockdale': (-33.9518685, 151.1332963),\n",
       " \"KU Children's Services\": (-33.869126, 151.193269),\n",
       " 'Waratah Cottage Early Learning Centre': (-34.044405, 150.810212),\n",
       " 'Lansvale Public School': (-33.8916589, 150.9535235),\n",
       " 'Globe Wilkins Preschool': (-33.9014902, 151.1552004),\n",
       " 'KU Killara Park Preschool': (-33.7593637, 151.1715553),\n",
       " 'Uniting Dove Cottage Early Learning Bankstown': (-33.912414, 151.039072),\n",
       " 'Ballykin at Rose Bay': (-33.8707524, 151.2710661),\n",
       " \"Cranbrook School- St Mark's Pre-school\": (-33.874815, 151.237039),\n",
       " \"St Michael's Pre-school\": (-33.8606396, 151.2705937),\n",
       " \"KU Rushcutter's Bay\": (-33.8743913, 151.2282235),\n",
       " 'The Third Bear Preparatory School': (-33.8904917, 151.2499098),\n",
       " 'Woollahra Preschool': (-33.8748835, 151.2464249),\n",
       " 'KU Mosman Community Preschool': (-33.8285277, 151.2381812),\n",
       " 'Neutral Bay Kindergarten': (-33.828413, 151.22516),\n",
       " 'Uniting Forest Pre-school Belrose': (-33.722442, 151.218076),\n",
       " 'St. Stephens Belrose Kindergarten': (-33.7395004, 151.2069525),\n",
       " 'Mowbray Place Early Learning Centre': (-33.804337, 151.206634),\n",
       " 'East Willoughby Pre-School': (-33.795411, 151.20528),\n",
       " 'Glenaeon Rudolf Steiner Extended Hours Preschool': (-33.7979544, 151.194356),\n",
       " 'Only About Children North Sydney': (-33.8372194, 151.207922),\n",
       " 'Walker Street Early Learning Centre': (-33.8382862, 151.209288),\n",
       " 'St Thomas North Sydney Preschool': (-33.8344583, 151.2063175),\n",
       " 'St. Thomas Child Care Centre': (-33.8636297, 151.1704426),\n",
       " 'KU Grandstand Preschool': (-33.83105, 151.209318),\n",
       " 'KU Killarney Heights Preschool': (-33.774358, 151.21774),\n",
       " 'UnitingCare Forestville Pre-school': (-33.762209, 151.213567),\n",
       " 'Little Learning School': (-33.8241133, 151.1929545),\n",
       " 'KU Chatswood West Preschool': (-33.804798, 151.174298),\n",
       " 'KU Chatswood Community Preschool': (-33.799022, 151.182614),\n",
       " 'Waterford Pre-School': (-33.9005268, 151.2572876),\n",
       " 'Lalor Park Preschool': (-33.7614818, 150.9324933),\n",
       " 'Little Learning School Wahroonga': (-33.7037043, 151.1113356),\n",
       " 'MindChamps Early Learning Centre Hornsby': (-33.7016818, 151.0970007),\n",
       " 'KU Grevillea Preschool': (-33.678009, 151.09859),\n",
       " 'Balamara Preschool': (-33.7069397, 151.110719),\n",
       " 'Asquith Norwood Community Pre-School': (-33.6894749, 151.1162831),\n",
       " 'SDN Childrens Services': (-33.8278728, 151.2079994),\n",
       " 'Uniting Shirley Road Pre-school Crows Nest': (-33.82819, 151.199679),\n",
       " 'Willoughby Community Pre-School': (-33.816016, 151.201862),\n",
       " 'Atchison Preschool': (-33.822832, 151.201836),\n",
       " 'Crows Nest Kindergarten': (-33.8291954, 151.2046542),\n",
       " 'KU Greenwich Community Preschool': (-33.8291447, 151.188385),\n",
       " 'Possums Corner Child Care Centre': (-33.8034096, 151.147372),\n",
       " 'KU Osborne Park Preschool': (-33.8228652, 151.1750205),\n",
       " 'Birrahlee Preschool': (-33.815375, 151.167126),\n",
       " 'Kidzville': (-33.9087455, 151.1523406),\n",
       " 'KU Crusader Preschool': (-33.9079266, 151.156133),\n",
       " 'Marrickville Rd Preschool': (-33.9087632, 151.1518914),\n",
       " 'FROEBEL St Leonards Early Learning Centre': (-33.8248064, 151.1978633),\n",
       " 'Berry Cottage Childcare': (-33.8182345, 151.1954088),\n",
       " 'Concord West Rhodes Preschool': (-33.8350386, 151.0905241)}"
      ]
     },
     "execution_count": 4,
     "metadata": {},
     "output_type": "execute_result"
    }
   ],
   "source": [
    "print(len(ps))\n",
    "ps"
   ]
  },
  {
   "cell_type": "code",
   "execution_count": 18,
   "metadata": {},
   "outputs": [],
   "source": [
    "m = folium.Map(location=[-33.87, 151.2], zoom_start=12, tiles='stamentoner') #'cartodbpositron')\n",
    "\n",
    "# mark each preschool as a point\n",
    "for key, val in ps.items():\n",
    "    folium.CircleMarker(val,\n",
    "                        radius=5,\n",
    "                        tooltip=key.replace(\"'\",\"´\"),\n",
    "                        fill_color=\"#3db7e4\", # divvy color\n",
    "                        ).add_to(m)"
   ]
  },
  {
   "cell_type": "code",
   "execution_count": 20,
   "metadata": {},
   "outputs": [
    {
     "data": {
      "text/html": [
       "\n",
       "        <iframe\n",
       "            width=\"800\"\n",
       "            height=\"600\"\n",
       "            src=\"sydney_ps.html\"\n",
       "            frameborder=\"0\"\n",
       "            allowfullscreen\n",
       "        ></iframe>\n",
       "        "
      ],
      "text/plain": [
       "<IPython.lib.display.IFrame at 0x11ac68f1ba8>"
      ]
     },
     "execution_count": 20,
     "metadata": {},
     "output_type": "execute_result"
    }
   ],
   "source": [
    "ps_array = np.array(list(ps.values()))\n",
    "m.add_child(plugins.HeatMap(ps_array, radius=20))\n",
    "m.save(outfile=\"sydney_ps.html\")\n",
    "IFrame(src='sydney_ps.html', width=800, height=600)"
   ]
  },
  {
   "cell_type": "code",
   "execution_count": null,
   "metadata": {},
   "outputs": [],
   "source": []
  },
  {
   "cell_type": "code",
   "execution_count": null,
   "metadata": {},
   "outputs": [],
   "source": []
  },
  {
   "cell_type": "code",
   "execution_count": null,
   "metadata": {
    "scrolled": true
   },
   "outputs": [],
   "source": [
    "\n",
    "state_geo = 'sydney.geojson'\n",
    "\n",
    "state_unemployment = 'US_Unemployment_Oct2012.csv'\n",
    "state_data = pd.read_csv(state_unemployment)\n",
    "\n",
    "m = folium.Map(location=[-33.87, 151.2], zoom_start=12, tiles='cartodbpositron')\n",
    "\n",
    "m.choropleth(\n",
    "    geo_data=state_geo,\n",
    "    name='choropleth',\n",
    "    data=state_data,\n",
    "    columns=['State', 'Unemployment'],\n",
    "    key_on='feature.id',\n",
    "    fill_color='YlGn',\n",
    "    fill_opacity=0.7,\n",
    "    line_opacity=0.2,\n",
    "    legend_name='Unemployment Rate (%)'\n",
    ")\n",
    "\n",
    "\n",
    "folium.LayerControl().add_to(m)\n",
    "m.save(outfile=\"sydney.html\")\n",
    "\n",
    "#https://github.com/qingkaikong/blog/blob/master/19_folium_map_3_heatmap/Folium-3%20heatmap.ipynb"
   ]
  },
  {
   "cell_type": "code",
   "execution_count": null,
   "metadata": {},
   "outputs": [],
   "source": [
    "\n",
    "IFrame(src='sydney.html', width=500, height=600)"
   ]
  },
  {
   "cell_type": "code",
   "execution_count": null,
   "metadata": {},
   "outputs": [],
   "source": []
  }
 ],
 "metadata": {
  "kernelspec": {
   "display_name": "Python 3",
   "language": "python",
   "name": "python3"
  },
  "language_info": {
   "codemirror_mode": {
    "name": "ipython",
    "version": 3
   },
   "file_extension": ".py",
   "mimetype": "text/x-python",
   "name": "python",
   "nbconvert_exporter": "python",
   "pygments_lexer": "ipython3",
   "version": "3.7.0"
  }
 },
 "nbformat": 4,
 "nbformat_minor": 2
}
