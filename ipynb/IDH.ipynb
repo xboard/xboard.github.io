{
 "cells": [
  {
   "cell_type": "markdown",
   "metadata": {},
   "source": [
    "#IDH"
   ]
  },
  {
   "cell_type": "markdown",
   "metadata": {},
   "source": [
    "#### Fontes\n",
    "\n",
    "Municípios: http://www.pnud.org.br/atlas/ranking/Ranking-IDHM-Municipios-2010.aspx\n",
    "\n",
    "Estados: http://pt.wikipedia.org/wiki/Lista_de_unidades_federativas_do_Brasil_por_IDH\n"
   ]
  },
  {
   "cell_type": "code",
   "execution_count": 1,
   "metadata": {
    "collapsed": true
   },
   "outputs": [],
   "source": [
    "%matplotlib inline\n",
    "import pandas as pd\n",
    "import requests as req\n",
    "import numpy as np\n",
    "import seaborn as sns\n",
    "import matplotlib.pyplot as plt\n",
    "from scipy.stats import ttest_ind, ttest_rel\n",
    "\n",
    "np.set_printoptions(precision=3)"
   ]
  },
  {
   "cell_type": "markdown",
   "metadata": {},
   "source": [
    "### Carregando dados de IDH-M da Wikipedia"
   ]
  },
  {
   "cell_type": "code",
   "execution_count": 2,
   "metadata": {
    "collapsed": true
   },
   "outputs": [],
   "source": [
    "url = 'http://pt.wikipedia.org/wiki/Lista_de_unidades_federativas_do_Brasil_por_IDH'"
   ]
  },
  {
   "cell_type": "code",
   "execution_count": 3,
   "metadata": {
    "collapsed": false
   },
   "outputs": [],
   "source": [
    "html_text = req.get(url).text"
   ]
  },
  {
   "cell_type": "code",
   "execution_count": 4,
   "metadata": {
    "collapsed": false
   },
   "outputs": [],
   "source": [
    "table = pd.read_html(html_text, attrs={\"class\":\"wikitable\"})[0]"
   ]
  },
  {
   "cell_type": "code",
   "execution_count": 5,
   "metadata": {
    "collapsed": true
   },
   "outputs": [],
   "source": [
    "def idh_format(str):\n",
    "    num = float(str)/1000.0\n",
    "    return num"
   ]
  },
  {
   "cell_type": "markdown",
   "metadata": {},
   "source": [
    "### Pré-Processando IDH-M Data"
   ]
  },
  {
   "cell_type": "code",
   "execution_count": 6,
   "metadata": {
    "collapsed": false
   },
   "outputs": [],
   "source": [
    "\"\"\"\n",
    "  0,800 – 1 (Muito alto) - idh_level = 0\n",
    "  0,700 - 0,799 (Alto)   - idh_level = 0\n",
    "  0,600 - 0,699 (Médio)  - idh_level = 1\n",
    "  0,500 - 0,599 (Baixo)  - idh_level = 2\n",
    "  0 - 0,499 (Muito baixo)- idh_level = 3\n",
    "\"\"\"\n",
    "def idh_level(x):\n",
    "    if x >= 0.7:\n",
    "        return 0\n",
    "    elif 0.6 <= x < 0.7:\n",
    "        return 1\n",
    "    elif 0.5 <= x < 0.6:\n",
    "        return 2\n",
    "    elif 0.4 <= x < 0.5:\n",
    "        return 3\n",
    "    else: raise Exception(\"Invalid!\")\n",
    "    \n",
    "\"\"\"\n",
    "  Abaixo da mediana de 2000 = level 0\n",
    "  Igual ou acima da mediana de 2000 = level 1\n",
    "\"\"\"\n",
    "def idh_level2(x):\n",
    "    if x >= table[4][2:].apply(idh_format).median():\n",
    "        return 1\n",
    "    else: return 0   \n"
   ]
  },
  {
   "cell_type": "code",
   "execution_count": 7,
   "metadata": {
    "collapsed": false
   },
   "outputs": [],
   "source": [
    "idhm_df = pd.DataFrame({u'Estado':table[2][2:].tolist(),u'2010':table[3][2:].apply(idh_format).tolist(),u'2000':table[4][2:].apply(idh_format).tolist()})\n",
    "idhm_df[\"Ratio\"] = idhm_df[\"2010\"]/idhm_df[\"2000\"]\n",
    "idhm_df[\"idh_level_2000\"] = idhm_df[\"2000\"].apply(idh_level2)"
   ]
  },
  {
   "cell_type": "code",
   "execution_count": 8,
   "metadata": {
    "collapsed": false,
    "scrolled": true
   },
   "outputs": [
    {
     "data": {
      "text/html": [
       "<div style=\"max-height:1000px;max-width:1500px;overflow:auto;\">\n",
       "<table border=\"1\" class=\"dataframe\">\n",
       "  <thead>\n",
       "    <tr style=\"text-align: right;\">\n",
       "      <th></th>\n",
       "      <th>2000</th>\n",
       "      <th>2010</th>\n",
       "      <th>Estado</th>\n",
       "      <th>Ratio</th>\n",
       "      <th>idh_level_2000</th>\n",
       "    </tr>\n",
       "  </thead>\n",
       "  <tbody>\n",
       "    <tr>\n",
       "      <th>0</th>\n",
       "      <td>0.725</td>\n",
       "      <td>0.824</td>\n",
       "      <td>Distrito Federal</td>\n",
       "      <td>1.136552</td>\n",
       "      <td>1</td>\n",
       "    </tr>\n",
       "    <tr>\n",
       "      <th>1</th>\n",
       "      <td>0.702</td>\n",
       "      <td>0.783</td>\n",
       "      <td>São Paulo</td>\n",
       "      <td>1.115385</td>\n",
       "      <td>1</td>\n",
       "    </tr>\n",
       "    <tr>\n",
       "      <th>2</th>\n",
       "      <td>0.674</td>\n",
       "      <td>0.774</td>\n",
       "      <td>Santa Catarina</td>\n",
       "      <td>1.148368</td>\n",
       "      <td>1</td>\n",
       "    </tr>\n",
       "    <tr>\n",
       "      <th>3</th>\n",
       "      <td>0.664</td>\n",
       "      <td>0.761</td>\n",
       "      <td>Rio de Janeiro</td>\n",
       "      <td>1.146084</td>\n",
       "      <td>1</td>\n",
       "    </tr>\n",
       "    <tr>\n",
       "      <th>4</th>\n",
       "      <td>0.650</td>\n",
       "      <td>0.749</td>\n",
       "      <td>Paraná</td>\n",
       "      <td>1.152308</td>\n",
       "      <td>1</td>\n",
       "    </tr>\n",
       "    <tr>\n",
       "      <th>5</th>\n",
       "      <td>0.664</td>\n",
       "      <td>0.746</td>\n",
       "      <td>Rio Grande do Sul</td>\n",
       "      <td>1.123494</td>\n",
       "      <td>1</td>\n",
       "    </tr>\n",
       "    <tr>\n",
       "      <th>6</th>\n",
       "      <td>0.640</td>\n",
       "      <td>0.740</td>\n",
       "      <td>Espírito Santo</td>\n",
       "      <td>1.156250</td>\n",
       "      <td>1</td>\n",
       "    </tr>\n",
       "    <tr>\n",
       "      <th>7</th>\n",
       "      <td>0.615</td>\n",
       "      <td>0.735</td>\n",
       "      <td>Goiás</td>\n",
       "      <td>1.195122</td>\n",
       "      <td>1</td>\n",
       "    </tr>\n",
       "    <tr>\n",
       "      <th>8</th>\n",
       "      <td>0.624</td>\n",
       "      <td>0.731</td>\n",
       "      <td>Minas Gerais</td>\n",
       "      <td>1.171474</td>\n",
       "      <td>1</td>\n",
       "    </tr>\n",
       "    <tr>\n",
       "      <th>9</th>\n",
       "      <td>0.613</td>\n",
       "      <td>0.729</td>\n",
       "      <td>Mato Grosso do Sul</td>\n",
       "      <td>1.189233</td>\n",
       "      <td>1</td>\n",
       "    </tr>\n",
       "    <tr>\n",
       "      <th>10</th>\n",
       "      <td>0.601</td>\n",
       "      <td>0.725</td>\n",
       "      <td>Mato Grosso</td>\n",
       "      <td>1.206323</td>\n",
       "      <td>1</td>\n",
       "    </tr>\n",
       "    <tr>\n",
       "      <th>11</th>\n",
       "      <td>0.577</td>\n",
       "      <td>0.708</td>\n",
       "      <td>Amapá</td>\n",
       "      <td>1.227036</td>\n",
       "      <td>1</td>\n",
       "    </tr>\n",
       "    <tr>\n",
       "      <th>12</th>\n",
       "      <td>0.598</td>\n",
       "      <td>0.707</td>\n",
       "      <td>Roraima</td>\n",
       "      <td>1.182274</td>\n",
       "      <td>1</td>\n",
       "    </tr>\n",
       "    <tr>\n",
       "      <th>13</th>\n",
       "      <td>0.525</td>\n",
       "      <td>0.699</td>\n",
       "      <td>Tocantins</td>\n",
       "      <td>1.331429</td>\n",
       "      <td>0</td>\n",
       "    </tr>\n",
       "    <tr>\n",
       "      <th>14</th>\n",
       "      <td>0.537</td>\n",
       "      <td>0.690</td>\n",
       "      <td>Rondônia</td>\n",
       "      <td>1.284916</td>\n",
       "      <td>0</td>\n",
       "    </tr>\n",
       "    <tr>\n",
       "      <th>15</th>\n",
       "      <td>0.552</td>\n",
       "      <td>0.684</td>\n",
       "      <td>Rio Grande do Norte</td>\n",
       "      <td>1.239130</td>\n",
       "      <td>1</td>\n",
       "    </tr>\n",
       "    <tr>\n",
       "      <th>16</th>\n",
       "      <td>0.541</td>\n",
       "      <td>0.682</td>\n",
       "      <td>Ceará</td>\n",
       "      <td>1.260628</td>\n",
       "      <td>0</td>\n",
       "    </tr>\n",
       "    <tr>\n",
       "      <th>17</th>\n",
       "      <td>0.515</td>\n",
       "      <td>0.674</td>\n",
       "      <td>Amazonas</td>\n",
       "      <td>1.308738</td>\n",
       "      <td>0</td>\n",
       "    </tr>\n",
       "    <tr>\n",
       "      <th>18</th>\n",
       "      <td>0.544</td>\n",
       "      <td>0.673</td>\n",
       "      <td>Pernambuco</td>\n",
       "      <td>1.237132</td>\n",
       "      <td>0</td>\n",
       "    </tr>\n",
       "    <tr>\n",
       "      <th>19</th>\n",
       "      <td>0.518</td>\n",
       "      <td>0.665</td>\n",
       "      <td>Sergipe</td>\n",
       "      <td>1.283784</td>\n",
       "      <td>0</td>\n",
       "    </tr>\n",
       "    <tr>\n",
       "      <th>20</th>\n",
       "      <td>0.517</td>\n",
       "      <td>0.663</td>\n",
       "      <td>Acre</td>\n",
       "      <td>1.282398</td>\n",
       "      <td>0</td>\n",
       "    </tr>\n",
       "    <tr>\n",
       "      <th>21</th>\n",
       "      <td>0.512</td>\n",
       "      <td>0.660</td>\n",
       "      <td>Bahia</td>\n",
       "      <td>1.289062</td>\n",
       "      <td>0</td>\n",
       "    </tr>\n",
       "    <tr>\n",
       "      <th>22</th>\n",
       "      <td>0.506</td>\n",
       "      <td>0.658</td>\n",
       "      <td>Paraíba</td>\n",
       "      <td>1.300395</td>\n",
       "      <td>0</td>\n",
       "    </tr>\n",
       "    <tr>\n",
       "      <th>23</th>\n",
       "      <td>0.484</td>\n",
       "      <td>0.646</td>\n",
       "      <td>Piauí</td>\n",
       "      <td>1.334711</td>\n",
       "      <td>0</td>\n",
       "    </tr>\n",
       "    <tr>\n",
       "      <th>24</th>\n",
       "      <td>0.518</td>\n",
       "      <td>0.646</td>\n",
       "      <td>Pará</td>\n",
       "      <td>1.247104</td>\n",
       "      <td>0</td>\n",
       "    </tr>\n",
       "    <tr>\n",
       "      <th>25</th>\n",
       "      <td>0.476</td>\n",
       "      <td>0.639</td>\n",
       "      <td>Maranhão</td>\n",
       "      <td>1.342437</td>\n",
       "      <td>0</td>\n",
       "    </tr>\n",
       "    <tr>\n",
       "      <th>26</th>\n",
       "      <td>0.471</td>\n",
       "      <td>0.631</td>\n",
       "      <td>Alagoas</td>\n",
       "      <td>1.339703</td>\n",
       "      <td>0</td>\n",
       "    </tr>\n",
       "  </tbody>\n",
       "</table>\n",
       "</div>"
      ],
      "text/plain": [
       "     2000   2010               Estado     Ratio  idh_level_2000\n",
       "0   0.725  0.824     Distrito Federal  1.136552               1\n",
       "1   0.702  0.783            São Paulo  1.115385               1\n",
       "2   0.674  0.774       Santa Catarina  1.148368               1\n",
       "3   0.664  0.761       Rio de Janeiro  1.146084               1\n",
       "4   0.650  0.749               Paraná  1.152308               1\n",
       "5   0.664  0.746    Rio Grande do Sul  1.123494               1\n",
       "6   0.640  0.740       Espírito Santo  1.156250               1\n",
       "7   0.615  0.735                Goiás  1.195122               1\n",
       "8   0.624  0.731         Minas Gerais  1.171474               1\n",
       "9   0.613  0.729   Mato Grosso do Sul  1.189233               1\n",
       "10  0.601  0.725          Mato Grosso  1.206323               1\n",
       "11  0.577  0.708                Amapá  1.227036               1\n",
       "12  0.598  0.707              Roraima  1.182274               1\n",
       "13  0.525  0.699            Tocantins  1.331429               0\n",
       "14  0.537  0.690             Rondônia  1.284916               0\n",
       "15  0.552  0.684  Rio Grande do Norte  1.239130               1\n",
       "16  0.541  0.682                Ceará  1.260628               0\n",
       "17  0.515  0.674             Amazonas  1.308738               0\n",
       "18  0.544  0.673           Pernambuco  1.237132               0\n",
       "19  0.518  0.665              Sergipe  1.283784               0\n",
       "20  0.517  0.663                 Acre  1.282398               0\n",
       "21  0.512  0.660                Bahia  1.289062               0\n",
       "22  0.506  0.658              Paraíba  1.300395               0\n",
       "23  0.484  0.646                Piauí  1.334711               0\n",
       "24  0.518  0.646                 Pará  1.247104               0\n",
       "25  0.476  0.639             Maranhão  1.342437               0\n",
       "26  0.471  0.631              Alagoas  1.339703               0"
      ]
     },
     "execution_count": 8,
     "metadata": {},
     "output_type": "execute_result"
    }
   ],
   "source": [
    "idhm_df"
   ]
  },
  {
   "cell_type": "markdown",
   "metadata": {},
   "source": [
    "### Análise Descritiva"
   ]
  },
  {
   "cell_type": "code",
   "execution_count": 9,
   "metadata": {
    "collapsed": false
   },
   "outputs": [
    {
     "data": {
      "text/html": [
       "<div style=\"max-height:1000px;max-width:1500px;overflow:auto;\">\n",
       "<table border=\"1\" class=\"dataframe\">\n",
       "  <thead>\n",
       "    <tr style=\"text-align: right;\">\n",
       "      <th></th>\n",
       "      <th>2000</th>\n",
       "      <th>2010</th>\n",
       "      <th>Ratio</th>\n",
       "      <th>idh_level_2000</th>\n",
       "    </tr>\n",
       "  </thead>\n",
       "  <tbody>\n",
       "    <tr>\n",
       "      <th>count</th>\n",
       "      <td>27.000000</td>\n",
       "      <td>27.000000</td>\n",
       "      <td>27.000000</td>\n",
       "      <td>27.000000</td>\n",
       "    </tr>\n",
       "    <tr>\n",
       "      <th>mean</th>\n",
       "      <td>0.576407</td>\n",
       "      <td>0.704519</td>\n",
       "      <td>1.230795</td>\n",
       "      <td>0.518519</td>\n",
       "    </tr>\n",
       "    <tr>\n",
       "      <th>std</th>\n",
       "      <td>0.072960</td>\n",
       "      <td>0.049284</td>\n",
       "      <td>0.072885</td>\n",
       "      <td>0.509175</td>\n",
       "    </tr>\n",
       "    <tr>\n",
       "      <th>min</th>\n",
       "      <td>0.471000</td>\n",
       "      <td>0.631000</td>\n",
       "      <td>1.115385</td>\n",
       "      <td>0.000000</td>\n",
       "    </tr>\n",
       "    <tr>\n",
       "      <th>25%</th>\n",
       "      <td>0.517500</td>\n",
       "      <td>0.664000</td>\n",
       "      <td>1.163862</td>\n",
       "      <td>0.000000</td>\n",
       "    </tr>\n",
       "    <tr>\n",
       "      <th>50%</th>\n",
       "      <td>0.552000</td>\n",
       "      <td>0.699000</td>\n",
       "      <td>1.237132</td>\n",
       "      <td>1.000000</td>\n",
       "    </tr>\n",
       "    <tr>\n",
       "      <th>75%</th>\n",
       "      <td>0.632000</td>\n",
       "      <td>0.737500</td>\n",
       "      <td>1.286989</td>\n",
       "      <td>1.000000</td>\n",
       "    </tr>\n",
       "    <tr>\n",
       "      <th>max</th>\n",
       "      <td>0.725000</td>\n",
       "      <td>0.824000</td>\n",
       "      <td>1.342437</td>\n",
       "      <td>1.000000</td>\n",
       "    </tr>\n",
       "  </tbody>\n",
       "</table>\n",
       "</div>"
      ],
      "text/plain": [
       "            2000       2010      Ratio  idh_level_2000\n",
       "count  27.000000  27.000000  27.000000       27.000000\n",
       "mean    0.576407   0.704519   1.230795        0.518519\n",
       "std     0.072960   0.049284   0.072885        0.509175\n",
       "min     0.471000   0.631000   1.115385        0.000000\n",
       "25%     0.517500   0.664000   1.163862        0.000000\n",
       "50%     0.552000   0.699000   1.237132        1.000000\n",
       "75%     0.632000   0.737500   1.286989        1.000000\n",
       "max     0.725000   0.824000   1.342437        1.000000"
      ]
     },
     "execution_count": 9,
     "metadata": {},
     "output_type": "execute_result"
    }
   ],
   "source": [
    "idhm_df.describe()"
   ]
  },
  {
   "cell_type": "code",
   "execution_count": 10,
   "metadata": {
    "collapsed": false
   },
   "outputs": [
    {
     "data": {
      "text/plain": [
       "array([[<matplotlib.axes._subplots.AxesSubplot object at 0x7f5e108dd6a0>,\n",
       "        <matplotlib.axes._subplots.AxesSubplot object at 0x7f5e1086b390>],\n",
       "       [<matplotlib.axes._subplots.AxesSubplot object at 0x7f5e108302b0>,\n",
       "        <matplotlib.axes._subplots.AxesSubplot object at 0x7f5df46329b0>]], dtype=object)"
      ]
     },
     "execution_count": 10,
     "metadata": {},
     "output_type": "execute_result"
    },
    {
     "data": {
      "text/plain": [
       "<matplotlib.figure.Figure at 0x7f5e108ddba8>"
      ]
     },
     "metadata": {},
     "output_type": "display_data"
    },
    {
     "data": {
      "image/png": "[encoded data removed]",
      "text/plain": [
       "<matplotlib.figure.Figure at 0x7f5e1093bac8>"
      ]
     },
     "metadata": {},
     "output_type": "display_data"
    }
   ],
   "source": [
    "f = plt.figure(14)\n",
    "idhm_df[[\"2000\",\"2010\",\"Ratio\"]].hist(bins=15)"
   ]
  },
  {
   "cell_type": "markdown",
   "metadata": {},
   "source": [
    "### Testando hipótese"
   ]
  },
  {
   "cell_type": "markdown",
   "metadata": {},
   "source": [
    "#### A diferença média entre os IDHs de 2000 e 2010 é estatisticamente significativa?"
   ]
  },
  {
   "cell_type": "code",
   "execution_count": 11,
   "metadata": {
    "collapsed": false
   },
   "outputs": [
    {
     "data": {
      "text/plain": [
       "(-24.939064182558965, 1.1042795294978112e-19)"
      ]
     },
     "execution_count": 11,
     "metadata": {},
     "output_type": "execute_result"
    }
   ],
   "source": [
    "ttest_rel(idhm_df['2000'], idhm_df['2010'])"
   ]
  },
  {
   "cell_type": "code",
   "execution_count": 12,
   "metadata": {
    "collapsed": false
   },
   "outputs": [
    {
     "name": "stdout",
     "output_type": "stream",
     "text": [
      "IDHM 2000 mean 95% confidence interval. Low=0.550\tHigh=0.604\n",
      "IDHM 2010 mean 95% confidence interval. Low=0.687\tHigh=0.724\n",
      "IDHM ratio mean 95% confidence interval. Low=1.204\tHigh=1.257\n"
     ]
    }
   ],
   "source": [
    "import scipy  \n",
    "import scikits.bootstrap as bootstrap\n",
    "  \n",
    "# compute 95% confidence intervals around the mean  \n",
    "CIs00 = bootstrap.ci(data=idhm_df[\"2000\"])  \n",
    "CIs10 = bootstrap.ci(data=idhm_df[\"2010\"])\n",
    "CIsR  = bootstrap.ci(data=idhm_df[\"Ratio\"])\n",
    "\n",
    "print(\"IDHM 2000 mean 95% confidence interval. Low={0:.3f}\\tHigh={1:.3f}\".format(*tuple(CIs00)))\n",
    "print(\"IDHM 2010 mean 95% confidence interval. Low={0:.3f}\\tHigh={1:.3f}\".format(*tuple(CIs10)))\n",
    "print(\"IDHM ratio mean 95% confidence interval. Low={0:.3f}\\tHigh={1:.3f}\".format(*tuple(CIsR)))"
   ]
  },
  {
   "cell_type": "code",
   "execution_count": 13,
   "metadata": {
    "collapsed": false
   },
   "outputs": [
    {
     "name": "stdout",
     "output_type": "stream",
     "text": [
      "IDHM 2000 median 95% confidence interval. Low=0.518\tHigh=0.613\n",
      "IDHM 2010 median 95% confidence interval. Low=0.665\tHigh=0.729\n",
      "IDHM ratio median 95% confidence interval. Low=1.171\tHigh=1.282\n"
     ]
    }
   ],
   "source": [
    "CIs00 = bootstrap.ci(data=idhm_df[\"2000\"], statfunction=scipy.median)  \n",
    "CIs10 = bootstrap.ci(data=idhm_df[\"2010\"], statfunction=scipy.median)\n",
    "CIsR  = bootstrap.ci(data=idhm_df[\"Ratio\"], statfunction=scipy.median)\n",
    "\n",
    "print(\"IDHM 2000 median 95% confidence interval. Low={0:.3f}\\tHigh={1:.3f}\".format(*tuple(CIs00)))\n",
    "print(\"IDHM 2010 median 95% confidence interval. Low={0:.3f}\\tHigh={1:.3f}\".format(*tuple(CIs10)))\n",
    "print(\"IDHM ratio median 95% confidence interval. Low={0:.3f}\\tHigh={1:.3f}\".format(*tuple(CIsR)))"
   ]
  },
  {
   "cell_type": "markdown",
   "metadata": {},
   "source": [
    "A resposta de diversos testes, para um nível de 5% de significância, mostra que há fortes evidências que **sim**."
   ]
  },
  {
   "cell_type": "markdown",
   "metadata": {},
   "source": [
    "### Montando percentual de impacto da administração de cada partido em cada Estado da Federação."
   ]
  },
  {
   "cell_type": "code",
   "execution_count": 14,
   "metadata": {
    "collapsed": false
   },
   "outputs": [],
   "source": [
    "state_parties = pd.DataFrame({\"Estado\":idhm_df.Estado,\"PT\":np.repeat(0.0,27),\"PSDB\":np.repeat(0.0,27),\"Outros\":np.repeat(0.0,27)})"
   ]
  },
  {
   "cell_type": "code",
   "execution_count": 15,
   "metadata": {
    "collapsed": false
   },
   "outputs": [],
   "source": [
    "st_pa = np.array([\n",
    "        [u\"Distrito Federal\", 0.0, 0.0, 1.0],\n",
    "        [u\"São Paulo\", 0.0, 0.925, 0.075],\n",
    "        [u\"Santa Catarina\", 0.0, 0.0, 1.0],\n",
    "        [u\"Rio de Janeiro\", 0.4, 0.0, 0.6],\n",
    "        [u\"Paraná\", 0.0, 0.0, 1.0],\n",
    "        [u\"Rio Grande do Sul\", 0.2, 0.4, 0.4],\n",
    "        [u\"Espírito Santo\", 0.0, 0.2, 0.8],\n",
    "        [u\"Goiás\", 0.0, 0.6, 0.4],\n",
    "        [u\"Minas Gerais\", 0.0, 0.8, 0.2],\n",
    "        [u\"Mato Grosso do Sul\", 0.0, 0.6, 0.4],\n",
    "        [u\"Mato Grosso\", 0.0, 0.2, 0.8],\n",
    "        [u\"Amapá\", 0.075, 0.0, 0.925],\n",
    "        [u\"Roraima\", 0.275, 0.4, 0.325], # double check\n",
    "        [u\"Tocantins\", 0.0, 0.2, 0.8], \n",
    "        [u\"Rondônia\", 0.0, 0.4, 0.6],\n",
    "        [u\"Rio Grande do Norte\", 0.0, 0.0, 1.0],\n",
    "        [u\"Ceará\", 0.6, 0.0, 0.4],\n",
    "        [u\"Amazonas\", 0.0, 0.0, 1.0],\n",
    "        [u\"Pernambuco\", 0.0, 0.0, 1.0],\n",
    "        [u\"Sergipe\", 0.4, 0.2, 0.4],\n",
    "        [u\"Acre\", 1.0, 0.0, 0.0],\n",
    "        [u\"Bahia\", 0.4, 0.0, 0.6],\n",
    "        [u\"Paraíba\", 0.0, 0.55, 0.45],\n",
    "        [u\"Piauí\", 0.8, 0.0, 0.2],\n",
    "        [u\"Pará\", 0.4, 0.6, 0.0],\n",
    "        [u\"Maranhão\", 0.0, 0.0, 1.0],\n",
    "        [u\"Alagoas\", 0.0, 0.0, 1.0],\n",
    "       ])"
   ]
  },
  {
   "cell_type": "code",
   "execution_count": 16,
   "metadata": {
    "collapsed": false
   },
   "outputs": [
    {
     "data": {
      "text/plain": [
       "array([ 1.,  1.,  1.,  1.,  1.,  1.,  1.,  1.,  1.,  1.,  1.,  1.,  1.,\n",
       "        1.,  1.,  1.,  1.,  1.,  1.,  1.,  1.,  1.,  1.,  1.,  1.,  1.,  1.])"
      ]
     },
     "execution_count": 16,
     "metadata": {},
     "output_type": "execute_result"
    }
   ],
   "source": [
    "np.float64(st_pa[:,1:]).sum(axis=1)"
   ]
  },
  {
   "cell_type": "code",
   "execution_count": 17,
   "metadata": {
    "collapsed": false
   },
   "outputs": [
    {
     "data": {
      "text/plain": [
       "array([  4.55 ,   6.075,  16.375])"
      ]
     },
     "execution_count": 17,
     "metadata": {},
     "output_type": "execute_result"
    }
   ],
   "source": [
    "np.float64(st_pa[:,1:]).sum(axis=0)"
   ]
  },
  {
   "cell_type": "code",
   "execution_count": 18,
   "metadata": {
    "collapsed": false
   },
   "outputs": [],
   "source": [
    "state_parties_df = pd.DataFrame({\"Estado\":st_pa[:,0],\"PSDB\":np.float64(st_pa[:,2]),\"PT\":np.float64(st_pa[:,1]),\"Outros\":np.float64(st_pa[:,3])})"
   ]
  },
  {
   "cell_type": "code",
   "execution_count": 19,
   "metadata": {
    "collapsed": false
   },
   "outputs": [
    {
     "data": {
      "text/html": [
       "<div style=\"max-height:1000px;max-width:1500px;overflow:auto;\">\n",
       "<table border=\"1\" class=\"dataframe\">\n",
       "  <thead>\n",
       "    <tr style=\"text-align: right;\">\n",
       "      <th></th>\n",
       "      <th>Estado</th>\n",
       "      <th>Outros</th>\n",
       "      <th>PSDB</th>\n",
       "      <th>PT</th>\n",
       "    </tr>\n",
       "  </thead>\n",
       "  <tbody>\n",
       "    <tr>\n",
       "      <th>0</th>\n",
       "      <td>Distrito Federal</td>\n",
       "      <td>1.000</td>\n",
       "      <td>0.000</td>\n",
       "      <td>0.000</td>\n",
       "    </tr>\n",
       "    <tr>\n",
       "      <th>1</th>\n",
       "      <td>São Paulo</td>\n",
       "      <td>0.075</td>\n",
       "      <td>0.925</td>\n",
       "      <td>0.000</td>\n",
       "    </tr>\n",
       "    <tr>\n",
       "      <th>2</th>\n",
       "      <td>Santa Catarina</td>\n",
       "      <td>1.000</td>\n",
       "      <td>0.000</td>\n",
       "      <td>0.000</td>\n",
       "    </tr>\n",
       "    <tr>\n",
       "      <th>3</th>\n",
       "      <td>Rio de Janeiro</td>\n",
       "      <td>0.600</td>\n",
       "      <td>0.000</td>\n",
       "      <td>0.400</td>\n",
       "    </tr>\n",
       "    <tr>\n",
       "      <th>4</th>\n",
       "      <td>Paraná</td>\n",
       "      <td>1.000</td>\n",
       "      <td>0.000</td>\n",
       "      <td>0.000</td>\n",
       "    </tr>\n",
       "    <tr>\n",
       "      <th>5</th>\n",
       "      <td>Rio Grande do Sul</td>\n",
       "      <td>0.400</td>\n",
       "      <td>0.400</td>\n",
       "      <td>0.200</td>\n",
       "    </tr>\n",
       "    <tr>\n",
       "      <th>6</th>\n",
       "      <td>Espírito Santo</td>\n",
       "      <td>0.800</td>\n",
       "      <td>0.200</td>\n",
       "      <td>0.000</td>\n",
       "    </tr>\n",
       "    <tr>\n",
       "      <th>7</th>\n",
       "      <td>Goiás</td>\n",
       "      <td>0.400</td>\n",
       "      <td>0.600</td>\n",
       "      <td>0.000</td>\n",
       "    </tr>\n",
       "    <tr>\n",
       "      <th>8</th>\n",
       "      <td>Minas Gerais</td>\n",
       "      <td>0.200</td>\n",
       "      <td>0.800</td>\n",
       "      <td>0.000</td>\n",
       "    </tr>\n",
       "    <tr>\n",
       "      <th>9</th>\n",
       "      <td>Mato Grosso do Sul</td>\n",
       "      <td>0.400</td>\n",
       "      <td>0.600</td>\n",
       "      <td>0.000</td>\n",
       "    </tr>\n",
       "    <tr>\n",
       "      <th>10</th>\n",
       "      <td>Mato Grosso</td>\n",
       "      <td>0.800</td>\n",
       "      <td>0.200</td>\n",
       "      <td>0.000</td>\n",
       "    </tr>\n",
       "    <tr>\n",
       "      <th>11</th>\n",
       "      <td>Amapá</td>\n",
       "      <td>0.925</td>\n",
       "      <td>0.000</td>\n",
       "      <td>0.075</td>\n",
       "    </tr>\n",
       "    <tr>\n",
       "      <th>12</th>\n",
       "      <td>Roraima</td>\n",
       "      <td>0.325</td>\n",
       "      <td>0.400</td>\n",
       "      <td>0.275</td>\n",
       "    </tr>\n",
       "    <tr>\n",
       "      <th>13</th>\n",
       "      <td>Tocantins</td>\n",
       "      <td>0.800</td>\n",
       "      <td>0.200</td>\n",
       "      <td>0.000</td>\n",
       "    </tr>\n",
       "    <tr>\n",
       "      <th>14</th>\n",
       "      <td>Rondônia</td>\n",
       "      <td>0.600</td>\n",
       "      <td>0.400</td>\n",
       "      <td>0.000</td>\n",
       "    </tr>\n",
       "    <tr>\n",
       "      <th>15</th>\n",
       "      <td>Rio Grande do Norte</td>\n",
       "      <td>1.000</td>\n",
       "      <td>0.000</td>\n",
       "      <td>0.000</td>\n",
       "    </tr>\n",
       "    <tr>\n",
       "      <th>16</th>\n",
       "      <td>Ceará</td>\n",
       "      <td>0.400</td>\n",
       "      <td>0.000</td>\n",
       "      <td>0.600</td>\n",
       "    </tr>\n",
       "    <tr>\n",
       "      <th>17</th>\n",
       "      <td>Amazonas</td>\n",
       "      <td>1.000</td>\n",
       "      <td>0.000</td>\n",
       "      <td>0.000</td>\n",
       "    </tr>\n",
       "    <tr>\n",
       "      <th>18</th>\n",
       "      <td>Pernambuco</td>\n",
       "      <td>1.000</td>\n",
       "      <td>0.000</td>\n",
       "      <td>0.000</td>\n",
       "    </tr>\n",
       "    <tr>\n",
       "      <th>19</th>\n",
       "      <td>Sergipe</td>\n",
       "      <td>0.400</td>\n",
       "      <td>0.200</td>\n",
       "      <td>0.400</td>\n",
       "    </tr>\n",
       "    <tr>\n",
       "      <th>20</th>\n",
       "      <td>Acre</td>\n",
       "      <td>0.000</td>\n",
       "      <td>0.000</td>\n",
       "      <td>1.000</td>\n",
       "    </tr>\n",
       "    <tr>\n",
       "      <th>21</th>\n",
       "      <td>Bahia</td>\n",
       "      <td>0.600</td>\n",
       "      <td>0.000</td>\n",
       "      <td>0.400</td>\n",
       "    </tr>\n",
       "    <tr>\n",
       "      <th>22</th>\n",
       "      <td>Paraíba</td>\n",
       "      <td>0.450</td>\n",
       "      <td>0.550</td>\n",
       "      <td>0.000</td>\n",
       "    </tr>\n",
       "    <tr>\n",
       "      <th>23</th>\n",
       "      <td>Piauí</td>\n",
       "      <td>0.200</td>\n",
       "      <td>0.000</td>\n",
       "      <td>0.800</td>\n",
       "    </tr>\n",
       "    <tr>\n",
       "      <th>24</th>\n",
       "      <td>Pará</td>\n",
       "      <td>0.000</td>\n",
       "      <td>0.600</td>\n",
       "      <td>0.400</td>\n",
       "    </tr>\n",
       "    <tr>\n",
       "      <th>25</th>\n",
       "      <td>Maranhão</td>\n",
       "      <td>1.000</td>\n",
       "      <td>0.000</td>\n",
       "      <td>0.000</td>\n",
       "    </tr>\n",
       "    <tr>\n",
       "      <th>26</th>\n",
       "      <td>Alagoas</td>\n",
       "      <td>1.000</td>\n",
       "      <td>0.000</td>\n",
       "      <td>0.000</td>\n",
       "    </tr>\n",
       "  </tbody>\n",
       "</table>\n",
       "</div>"
      ],
      "text/plain": [
       "                 Estado  Outros   PSDB     PT\n",
       "0      Distrito Federal   1.000  0.000  0.000\n",
       "1             São Paulo   0.075  0.925  0.000\n",
       "2        Santa Catarina   1.000  0.000  0.000\n",
       "3        Rio de Janeiro   0.600  0.000  0.400\n",
       "4                Paraná   1.000  0.000  0.000\n",
       "5     Rio Grande do Sul   0.400  0.400  0.200\n",
       "6        Espírito Santo   0.800  0.200  0.000\n",
       "7                 Goiás   0.400  0.600  0.000\n",
       "8          Minas Gerais   0.200  0.800  0.000\n",
       "9    Mato Grosso do Sul   0.400  0.600  0.000\n",
       "10          Mato Grosso   0.800  0.200  0.000\n",
       "11                Amapá   0.925  0.000  0.075\n",
       "12              Roraima   0.325  0.400  0.275\n",
       "13            Tocantins   0.800  0.200  0.000\n",
       "14             Rondônia   0.600  0.400  0.000\n",
       "15  Rio Grande do Norte   1.000  0.000  0.000\n",
       "16                Ceará   0.400  0.000  0.600\n",
       "17             Amazonas   1.000  0.000  0.000\n",
       "18           Pernambuco   1.000  0.000  0.000\n",
       "19              Sergipe   0.400  0.200  0.400\n",
       "20                 Acre   0.000  0.000  1.000\n",
       "21                Bahia   0.600  0.000  0.400\n",
       "22              Paraíba   0.450  0.550  0.000\n",
       "23                Piauí   0.200  0.000  0.800\n",
       "24                 Pará   0.000  0.600  0.400\n",
       "25             Maranhão   1.000  0.000  0.000\n",
       "26              Alagoas   1.000  0.000  0.000"
      ]
     },
     "execution_count": 19,
     "metadata": {},
     "output_type": "execute_result"
    }
   ],
   "source": [
    "state_parties_df"
   ]
  },
  {
   "cell_type": "code",
   "execution_count": 20,
   "metadata": {
    "collapsed": false,
    "scrolled": true
   },
   "outputs": [
    {
     "data": {
      "text/html": [
       "<div style=\"max-height:1000px;max-width:1500px;overflow:auto;\">\n",
       "<table border=\"1\" class=\"dataframe\">\n",
       "  <thead>\n",
       "    <tr style=\"text-align: right;\">\n",
       "      <th></th>\n",
       "      <th>2000</th>\n",
       "      <th>2010</th>\n",
       "      <th>Estado</th>\n",
       "      <th>Ratio</th>\n",
       "      <th>idh_level_2000</th>\n",
       "      <th>Outros</th>\n",
       "      <th>PSDB</th>\n",
       "      <th>PT</th>\n",
       "    </tr>\n",
       "  </thead>\n",
       "  <tbody>\n",
       "    <tr>\n",
       "      <th>0</th>\n",
       "      <td>0.725</td>\n",
       "      <td>0.824</td>\n",
       "      <td>Distrito Federal</td>\n",
       "      <td>1.136552</td>\n",
       "      <td>1</td>\n",
       "      <td>1.000</td>\n",
       "      <td>0.000</td>\n",
       "      <td>0.000</td>\n",
       "    </tr>\n",
       "    <tr>\n",
       "      <th>1</th>\n",
       "      <td>0.702</td>\n",
       "      <td>0.783</td>\n",
       "      <td>São Paulo</td>\n",
       "      <td>1.115385</td>\n",
       "      <td>1</td>\n",
       "      <td>0.075</td>\n",
       "      <td>0.925</td>\n",
       "      <td>0.000</td>\n",
       "    </tr>\n",
       "    <tr>\n",
       "      <th>2</th>\n",
       "      <td>0.674</td>\n",
       "      <td>0.774</td>\n",
       "      <td>Santa Catarina</td>\n",
       "      <td>1.148368</td>\n",
       "      <td>1</td>\n",
       "      <td>1.000</td>\n",
       "      <td>0.000</td>\n",
       "      <td>0.000</td>\n",
       "    </tr>\n",
       "    <tr>\n",
       "      <th>3</th>\n",
       "      <td>0.664</td>\n",
       "      <td>0.761</td>\n",
       "      <td>Rio de Janeiro</td>\n",
       "      <td>1.146084</td>\n",
       "      <td>1</td>\n",
       "      <td>0.600</td>\n",
       "      <td>0.000</td>\n",
       "      <td>0.400</td>\n",
       "    </tr>\n",
       "    <tr>\n",
       "      <th>4</th>\n",
       "      <td>0.650</td>\n",
       "      <td>0.749</td>\n",
       "      <td>Paraná</td>\n",
       "      <td>1.152308</td>\n",
       "      <td>1</td>\n",
       "      <td>1.000</td>\n",
       "      <td>0.000</td>\n",
       "      <td>0.000</td>\n",
       "    </tr>\n",
       "    <tr>\n",
       "      <th>5</th>\n",
       "      <td>0.664</td>\n",
       "      <td>0.746</td>\n",
       "      <td>Rio Grande do Sul</td>\n",
       "      <td>1.123494</td>\n",
       "      <td>1</td>\n",
       "      <td>0.400</td>\n",
       "      <td>0.400</td>\n",
       "      <td>0.200</td>\n",
       "    </tr>\n",
       "    <tr>\n",
       "      <th>6</th>\n",
       "      <td>0.640</td>\n",
       "      <td>0.740</td>\n",
       "      <td>Espírito Santo</td>\n",
       "      <td>1.156250</td>\n",
       "      <td>1</td>\n",
       "      <td>0.800</td>\n",
       "      <td>0.200</td>\n",
       "      <td>0.000</td>\n",
       "    </tr>\n",
       "    <tr>\n",
       "      <th>7</th>\n",
       "      <td>0.615</td>\n",
       "      <td>0.735</td>\n",
       "      <td>Goiás</td>\n",
       "      <td>1.195122</td>\n",
       "      <td>1</td>\n",
       "      <td>0.400</td>\n",
       "      <td>0.600</td>\n",
       "      <td>0.000</td>\n",
       "    </tr>\n",
       "    <tr>\n",
       "      <th>8</th>\n",
       "      <td>0.624</td>\n",
       "      <td>0.731</td>\n",
       "      <td>Minas Gerais</td>\n",
       "      <td>1.171474</td>\n",
       "      <td>1</td>\n",
       "      <td>0.200</td>\n",
       "      <td>0.800</td>\n",
       "      <td>0.000</td>\n",
       "    </tr>\n",
       "    <tr>\n",
       "      <th>9</th>\n",
       "      <td>0.613</td>\n",
       "      <td>0.729</td>\n",
       "      <td>Mato Grosso do Sul</td>\n",
       "      <td>1.189233</td>\n",
       "      <td>1</td>\n",
       "      <td>0.400</td>\n",
       "      <td>0.600</td>\n",
       "      <td>0.000</td>\n",
       "    </tr>\n",
       "    <tr>\n",
       "      <th>10</th>\n",
       "      <td>0.601</td>\n",
       "      <td>0.725</td>\n",
       "      <td>Mato Grosso</td>\n",
       "      <td>1.206323</td>\n",
       "      <td>1</td>\n",
       "      <td>0.800</td>\n",
       "      <td>0.200</td>\n",
       "      <td>0.000</td>\n",
       "    </tr>\n",
       "    <tr>\n",
       "      <th>11</th>\n",
       "      <td>0.577</td>\n",
       "      <td>0.708</td>\n",
       "      <td>Amapá</td>\n",
       "      <td>1.227036</td>\n",
       "      <td>1</td>\n",
       "      <td>0.925</td>\n",
       "      <td>0.000</td>\n",
       "      <td>0.075</td>\n",
       "    </tr>\n",
       "    <tr>\n",
       "      <th>12</th>\n",
       "      <td>0.598</td>\n",
       "      <td>0.707</td>\n",
       "      <td>Roraima</td>\n",
       "      <td>1.182274</td>\n",
       "      <td>1</td>\n",
       "      <td>0.325</td>\n",
       "      <td>0.400</td>\n",
       "      <td>0.275</td>\n",
       "    </tr>\n",
       "    <tr>\n",
       "      <th>13</th>\n",
       "      <td>0.525</td>\n",
       "      <td>0.699</td>\n",
       "      <td>Tocantins</td>\n",
       "      <td>1.331429</td>\n",
       "      <td>0</td>\n",
       "      <td>0.800</td>\n",
       "      <td>0.200</td>\n",
       "      <td>0.000</td>\n",
       "    </tr>\n",
       "    <tr>\n",
       "      <th>14</th>\n",
       "      <td>0.537</td>\n",
       "      <td>0.690</td>\n",
       "      <td>Rondônia</td>\n",
       "      <td>1.284916</td>\n",
       "      <td>0</td>\n",
       "      <td>0.600</td>\n",
       "      <td>0.400</td>\n",
       "      <td>0.000</td>\n",
       "    </tr>\n",
       "    <tr>\n",
       "      <th>15</th>\n",
       "      <td>0.552</td>\n",
       "      <td>0.684</td>\n",
       "      <td>Rio Grande do Norte</td>\n",
       "      <td>1.239130</td>\n",
       "      <td>1</td>\n",
       "      <td>1.000</td>\n",
       "      <td>0.000</td>\n",
       "      <td>0.000</td>\n",
       "    </tr>\n",
       "    <tr>\n",
       "      <th>16</th>\n",
       "      <td>0.541</td>\n",
       "      <td>0.682</td>\n",
       "      <td>Ceará</td>\n",
       "      <td>1.260628</td>\n",
       "      <td>0</td>\n",
       "      <td>0.400</td>\n",
       "      <td>0.000</td>\n",
       "      <td>0.600</td>\n",
       "    </tr>\n",
       "    <tr>\n",
       "      <th>17</th>\n",
       "      <td>0.515</td>\n",
       "      <td>0.674</td>\n",
       "      <td>Amazonas</td>\n",
       "      <td>1.308738</td>\n",
       "      <td>0</td>\n",
       "      <td>1.000</td>\n",
       "      <td>0.000</td>\n",
       "      <td>0.000</td>\n",
       "    </tr>\n",
       "    <tr>\n",
       "      <th>18</th>\n",
       "      <td>0.544</td>\n",
       "      <td>0.673</td>\n",
       "      <td>Pernambuco</td>\n",
       "      <td>1.237132</td>\n",
       "      <td>0</td>\n",
       "      <td>1.000</td>\n",
       "      <td>0.000</td>\n",
       "      <td>0.000</td>\n",
       "    </tr>\n",
       "    <tr>\n",
       "      <th>19</th>\n",
       "      <td>0.518</td>\n",
       "      <td>0.665</td>\n",
       "      <td>Sergipe</td>\n",
       "      <td>1.283784</td>\n",
       "      <td>0</td>\n",
       "      <td>0.400</td>\n",
       "      <td>0.200</td>\n",
       "      <td>0.400</td>\n",
       "    </tr>\n",
       "    <tr>\n",
       "      <th>20</th>\n",
       "      <td>0.517</td>\n",
       "      <td>0.663</td>\n",
       "      <td>Acre</td>\n",
       "      <td>1.282398</td>\n",
       "      <td>0</td>\n",
       "      <td>0.000</td>\n",
       "      <td>0.000</td>\n",
       "      <td>1.000</td>\n",
       "    </tr>\n",
       "    <tr>\n",
       "      <th>21</th>\n",
       "      <td>0.512</td>\n",
       "      <td>0.660</td>\n",
       "      <td>Bahia</td>\n",
       "      <td>1.289062</td>\n",
       "      <td>0</td>\n",
       "      <td>0.600</td>\n",
       "      <td>0.000</td>\n",
       "      <td>0.400</td>\n",
       "    </tr>\n",
       "    <tr>\n",
       "      <th>22</th>\n",
       "      <td>0.506</td>\n",
       "      <td>0.658</td>\n",
       "      <td>Paraíba</td>\n",
       "      <td>1.300395</td>\n",
       "      <td>0</td>\n",
       "      <td>0.450</td>\n",
       "      <td>0.550</td>\n",
       "      <td>0.000</td>\n",
       "    </tr>\n",
       "    <tr>\n",
       "      <th>23</th>\n",
       "      <td>0.484</td>\n",
       "      <td>0.646</td>\n",
       "      <td>Piauí</td>\n",
       "      <td>1.334711</td>\n",
       "      <td>0</td>\n",
       "      <td>0.200</td>\n",
       "      <td>0.000</td>\n",
       "      <td>0.800</td>\n",
       "    </tr>\n",
       "    <tr>\n",
       "      <th>24</th>\n",
       "      <td>0.518</td>\n",
       "      <td>0.646</td>\n",
       "      <td>Pará</td>\n",
       "      <td>1.247104</td>\n",
       "      <td>0</td>\n",
       "      <td>0.000</td>\n",
       "      <td>0.600</td>\n",
       "      <td>0.400</td>\n",
       "    </tr>\n",
       "    <tr>\n",
       "      <th>25</th>\n",
       "      <td>0.476</td>\n",
       "      <td>0.639</td>\n",
       "      <td>Maranhão</td>\n",
       "      <td>1.342437</td>\n",
       "      <td>0</td>\n",
       "      <td>1.000</td>\n",
       "      <td>0.000</td>\n",
       "      <td>0.000</td>\n",
       "    </tr>\n",
       "    <tr>\n",
       "      <th>26</th>\n",
       "      <td>0.471</td>\n",
       "      <td>0.631</td>\n",
       "      <td>Alagoas</td>\n",
       "      <td>1.339703</td>\n",
       "      <td>0</td>\n",
       "      <td>1.000</td>\n",
       "      <td>0.000</td>\n",
       "      <td>0.000</td>\n",
       "    </tr>\n",
       "  </tbody>\n",
       "</table>\n",
       "</div>"
      ],
      "text/plain": [
       "     2000   2010               Estado     Ratio  idh_level_2000  Outros  \\\n",
       "0   0.725  0.824     Distrito Federal  1.136552               1   1.000   \n",
       "1   0.702  0.783            São Paulo  1.115385               1   0.075   \n",
       "2   0.674  0.774       Santa Catarina  1.148368               1   1.000   \n",
       "3   0.664  0.761       Rio de Janeiro  1.146084               1   0.600   \n",
       "4   0.650  0.749               Paraná  1.152308               1   1.000   \n",
       "5   0.664  0.746    Rio Grande do Sul  1.123494               1   0.400   \n",
       "6   0.640  0.740       Espírito Santo  1.156250               1   0.800   \n",
       "7   0.615  0.735                Goiás  1.195122               1   0.400   \n",
       "8   0.624  0.731         Minas Gerais  1.171474               1   0.200   \n",
       "9   0.613  0.729   Mato Grosso do Sul  1.189233               1   0.400   \n",
       "10  0.601  0.725          Mato Grosso  1.206323               1   0.800   \n",
       "11  0.577  0.708                Amapá  1.227036               1   0.925   \n",
       "12  0.598  0.707              Roraima  1.182274               1   0.325   \n",
       "13  0.525  0.699            Tocantins  1.331429               0   0.800   \n",
       "14  0.537  0.690             Rondônia  1.284916               0   0.600   \n",
       "15  0.552  0.684  Rio Grande do Norte  1.239130               1   1.000   \n",
       "16  0.541  0.682                Ceará  1.260628               0   0.400   \n",
       "17  0.515  0.674             Amazonas  1.308738               0   1.000   \n",
       "18  0.544  0.673           Pernambuco  1.237132               0   1.000   \n",
       "19  0.518  0.665              Sergipe  1.283784               0   0.400   \n",
       "20  0.517  0.663                 Acre  1.282398               0   0.000   \n",
       "21  0.512  0.660                Bahia  1.289062               0   0.600   \n",
       "22  0.506  0.658              Paraíba  1.300395               0   0.450   \n",
       "23  0.484  0.646                Piauí  1.334711               0   0.200   \n",
       "24  0.518  0.646                 Pará  1.247104               0   0.000   \n",
       "25  0.476  0.639             Maranhão  1.342437               0   1.000   \n",
       "26  0.471  0.631              Alagoas  1.339703               0   1.000   \n",
       "\n",
       "     PSDB     PT  \n",
       "0   0.000  0.000  \n",
       "1   0.925  0.000  \n",
       "2   0.000  0.000  \n",
       "3   0.000  0.400  \n",
       "4   0.000  0.000  \n",
       "5   0.400  0.200  \n",
       "6   0.200  0.000  \n",
       "7   0.600  0.000  \n",
       "8   0.800  0.000  \n",
       "9   0.600  0.000  \n",
       "10  0.200  0.000  \n",
       "11  0.000  0.075  \n",
       "12  0.400  0.275  \n",
       "13  0.200  0.000  \n",
       "14  0.400  0.000  \n",
       "15  0.000  0.000  \n",
       "16  0.000  0.600  \n",
       "17  0.000  0.000  \n",
       "18  0.000  0.000  \n",
       "19  0.200  0.400  \n",
       "20  0.000  1.000  \n",
       "21  0.000  0.400  \n",
       "22  0.550  0.000  \n",
       "23  0.000  0.800  \n",
       "24  0.600  0.400  \n",
       "25  0.000  0.000  \n",
       "26  0.000  0.000  "
      ]
     },
     "execution_count": 20,
     "metadata": {},
     "output_type": "execute_result"
    }
   ],
   "source": [
    "df = idhm_df.merge(state_parties_df, on=\"Estado\")\n",
    "df"
   ]
  },
  {
   "cell_type": "code",
   "execution_count": 21,
   "metadata": {
    "collapsed": false
   },
   "outputs": [
    {
     "data": {
      "text/plain": [
       "<seaborn.axisgrid.PairGrid at 0x7f5df3c73390>"
      ]
     },
     "execution_count": 21,
     "metadata": {},
     "output_type": "execute_result"
    },
    {
     "data": {
      "image/png": "[encoded data removed]",
      "text/plain": [
       "<matplotlib.figure.Figure at 0x7f5df3c73c88>"
      ]
     },
     "metadata": {},
     "output_type": "display_data"
    }
   ],
   "source": [
    "sns.set()\n",
    "sns.pairplot(df, hue=\"idh_level_2000\", size=2.5)"
   ]
  },
  {
   "cell_type": "markdown",
   "metadata": {},
   "source": [
    "### Impacto por partido ou nível do IDH-M em 2000"
   ]
  },
  {
   "cell_type": "code",
   "execution_count": 22,
   "metadata": {
    "collapsed": false
   },
   "outputs": [
    {
     "data": {
      "image/png": "[encoded data removed]",
      "text/plain": [
       "<matplotlib.figure.Figure at 0x7f5ded155b38>"
      ]
     },
     "metadata": {},
     "output_type": "display_data"
    },
    {
     "data": {
      "image/png": "[encoded data removed]",
      "text/plain": [
       "<matplotlib.figure.Figure at 0x7f5ded340a20>"
      ]
     },
     "metadata": {},
     "output_type": "display_data"
    },
    {
     "data": {
      "image/png": "[encoded data removed]",
      "text/plain": [
       "<matplotlib.figure.Figure at 0x7f5dedccd5f8>"
      ]
     },
     "metadata": {},
     "output_type": "display_data"
    },
    {
     "data": {
      "image/png": "[encoded data removed]",
      "text/plain": [
       "<matplotlib.figure.Figure at 0x7f5dedc4d518>"
      ]
     },
     "metadata": {},
     "output_type": "display_data"
    }
   ],
   "source": [
    "sns.coefplot(\"center(Ratio) ~ center(PT) + center(PSDB) + center(Outros) + idh_level_2000\", df, palette=\"Set1\");\n",
    "sns.coefplot(\"center(Ratio) ~ center(PT) + center(PSDB) + idh_level_2000\", df, palette=\"Set1\");\n",
    "sns.coefplot(\"center(Ratio) ~ center(PT) + center(PSDB) + idh_level_2000\", df, palette=\"Set1\");\n",
    "sns.coefplot(\"center(Ratio) ~ center(PT) + center(PSDB) + idh_level_2000\", df, palette=\"Set1\");"
   ]
  },
  {
   "cell_type": "code",
   "execution_count": 23,
   "metadata": {
    "collapsed": true
   },
   "outputs": [],
   "source": [
    "from statsmodels.formula.api import ols\n"
   ]
  },
  {
   "cell_type": "code",
   "execution_count": 24,
   "metadata": {
    "collapsed": false
   },
   "outputs": [
    {
     "data": {
      "text/html": [
       "<table class=\"simpletable\">\n",
       "<caption>OLS Regression Results</caption>\n",
       "<tr>\n",
       "  <th>Dep. Variable:</th>      <td>center(Ratio)</td>  <th>  R-squared:         </th> <td>   0.786</td>\n",
       "</tr>\n",
       "<tr>\n",
       "  <th>Model:</th>                   <td>OLS</td>       <th>  Adj. R-squared:    </th> <td>   0.758</td>\n",
       "</tr>\n",
       "<tr>\n",
       "  <th>Method:</th>             <td>Least Squares</td>  <th>  F-statistic:       </th> <td>   28.17</td>\n",
       "</tr>\n",
       "<tr>\n",
       "  <th>Date:</th>             <td>Sun, 19 Apr 2015</td> <th>  Prob (F-statistic):</th> <td>7.03e-08</td>\n",
       "</tr>\n",
       "<tr>\n",
       "  <th>Time:</th>                 <td>10:59:20</td>     <th>  Log-Likelihood:    </th> <td>  53.727</td>\n",
       "</tr>\n",
       "<tr>\n",
       "  <th>No. Observations:</th>      <td>    27</td>      <th>  AIC:               </th> <td>  -99.45</td>\n",
       "</tr>\n",
       "<tr>\n",
       "  <th>Df Residuals:</th>          <td>    23</td>      <th>  BIC:               </th> <td>  -94.27</td>\n",
       "</tr>\n",
       "<tr>\n",
       "  <th>Df Model:</th>              <td>     3</td>      <th>                     </th>     <td> </td>   \n",
       "</tr>\n",
       "<tr>\n",
       "  <th>Covariance Type:</th>      <td>nonrobust</td>    <th>                     </th>     <td> </td>   \n",
       "</tr>\n",
       "</table>\n",
       "<table class=\"simpletable\">\n",
       "<tr>\n",
       "         <td></td>           <th>coef</th>     <th>std err</th>      <th>t</th>      <th>P>|t|</th> <th>[95.0% Conf. Int.]</th> \n",
       "</tr>\n",
       "<tr>\n",
       "  <th>Intercept</th>      <td>    0.0655</td> <td>    0.010</td> <td>    6.253</td> <td> 0.000</td> <td>    0.044     0.087</td>\n",
       "</tr>\n",
       "<tr>\n",
       "  <th>center(PT)</th>     <td>   -0.0089</td> <td>    0.019</td> <td>   -0.463</td> <td> 0.648</td> <td>   -0.048     0.031</td>\n",
       "</tr>\n",
       "<tr>\n",
       "  <th>center(PSDB)</th>   <td>   -0.0130</td> <td>    0.018</td> <td>   -0.719</td> <td> 0.479</td> <td>   -0.050     0.024</td>\n",
       "</tr>\n",
       "<tr>\n",
       "  <th>center(Outros)</th> <td>    0.0218</td> <td>    0.014</td> <td>    1.600</td> <td> 0.123</td> <td>   -0.006     0.050</td>\n",
       "</tr>\n",
       "<tr>\n",
       "  <th>idh_level_2000</th> <td>   -0.1263</td> <td>    0.015</td> <td>   -8.309</td> <td> 0.000</td> <td>   -0.158    -0.095</td>\n",
       "</tr>\n",
       "</table>\n",
       "<table class=\"simpletable\">\n",
       "<tr>\n",
       "  <th>Omnibus:</th>       <td> 1.722</td> <th>  Durbin-Watson:     </th> <td>   1.385</td>\n",
       "</tr>\n",
       "<tr>\n",
       "  <th>Prob(Omnibus):</th> <td> 0.423</td> <th>  Jarque-Bera (JB):  </th> <td>   1.085</td>\n",
       "</tr>\n",
       "<tr>\n",
       "  <th>Skew:</th>          <td>-0.142</td> <th>  Prob(JB):          </th> <td>   0.581</td>\n",
       "</tr>\n",
       "<tr>\n",
       "  <th>Kurtosis:</th>      <td> 2.060</td> <th>  Cond. No.          </th> <td>2.14e+16</td>\n",
       "</tr>\n",
       "</table>"
      ],
      "text/plain": [
       "<class 'statsmodels.iolib.summary.Summary'>\n",
       "\"\"\"\n",
       "                            OLS Regression Results                            \n",
       "==============================================================================\n",
       "Dep. Variable:          center(Ratio)   R-squared:                       0.786\n",
       "Model:                            OLS   Adj. R-squared:                  0.758\n",
       "Method:                 Least Squares   F-statistic:                     28.17\n",
       "Date:                Sun, 19 Apr 2015   Prob (F-statistic):           7.03e-08\n",
       "Time:                        10:59:20   Log-Likelihood:                 53.727\n",
       "No. Observations:                  27   AIC:                            -99.45\n",
       "Df Residuals:                      23   BIC:                            -94.27\n",
       "Df Model:                           3                                         \n",
       "Covariance Type:            nonrobust                                         \n",
       "==================================================================================\n",
       "                     coef    std err          t      P>|t|      [95.0% Conf. Int.]\n",
       "----------------------------------------------------------------------------------\n",
       "Intercept          0.0655      0.010      6.253      0.000         0.044     0.087\n",
       "center(PT)        -0.0089      0.019     -0.463      0.648        -0.048     0.031\n",
       "center(PSDB)      -0.0130      0.018     -0.719      0.479        -0.050     0.024\n",
       "center(Outros)     0.0218      0.014      1.600      0.123        -0.006     0.050\n",
       "idh_level_2000    -0.1263      0.015     -8.309      0.000        -0.158    -0.095\n",
       "==============================================================================\n",
       "Omnibus:                        1.722   Durbin-Watson:                   1.385\n",
       "Prob(Omnibus):                  0.423   Jarque-Bera (JB):                1.085\n",
       "Skew:                          -0.142   Prob(JB):                        0.581\n",
       "Kurtosis:                       2.060   Cond. No.                     2.14e+16\n",
       "==============================================================================\n",
       "\n",
       "Warnings:\n",
       "[1] Standard Errors assume that the covariance matrix of the errors is correctly specified.\n",
       "[2] The smallest eigenvalue is 7.86e-32. This might indicate that there are\n",
       "strong multicollinearity problems or that the design matrix is singular.\n",
       "\"\"\""
      ]
     },
     "execution_count": 24,
     "metadata": {},
     "output_type": "execute_result"
    }
   ],
   "source": [
    "formula = \"center(Ratio) ~ center(PT) + center(PSDB) + center(Outros) + idh_level_2000\"\n",
    "model = ols(formula, df).fit()\n",
    "model.summary()"
   ]
  },
  {
   "cell_type": "markdown",
   "metadata": {},
   "source": [
    "**Não foi possível observar diferença significantiva entre os partidos.**"
   ]
  },
  {
   "cell_type": "markdown",
   "metadata": {},
   "source": [
    "### Modelo com *pooling*"
   ]
  },
  {
   "cell_type": "markdown",
   "metadata": {},
   "source": [
    "Será que existe diferença para quem está acima da média de IDH?"
   ]
  },
  {
   "cell_type": "code",
   "execution_count": 25,
   "metadata": {
    "collapsed": false
   },
   "outputs": [
    {
     "data": {
      "image/png": "[encoded data removed]",
      "text/plain": [
       "<matplotlib.figure.Figure at 0x7f5dedb26978>"
      ]
     },
     "metadata": {},
     "output_type": "display_data"
    },
    {
     "data": {
      "image/png": "[encoded data removed]",
      "text/plain": [
       "<matplotlib.figure.Figure at 0x7f5dedb01630>"
      ]
     },
     "metadata": {},
     "output_type": "display_data"
    },
    {
     "data": {
      "image/png": "[encoded data removed]",
      "text/plain": [
       "<matplotlib.figure.Figure at 0x7f5dedaa8a20>"
      ]
     },
     "metadata": {},
     "output_type": "display_data"
    },
    {
     "data": {
      "image/png": "[encoded data removed]",
      "text/plain": [
       "<matplotlib.figure.Figure at 0x7f5deda7b198>"
      ]
     },
     "metadata": {},
     "output_type": "display_data"
    }
   ],
   "source": [
    "sns.coefplot(\"center(Ratio) ~ center(PT) + center(PSDB) + center(Outros)\",df[df.idh_level_2000==0], palette=\"Set1\");\n",
    "sns.coefplot(\"center(Ratio) ~ center(PT) + center(PSDB)\", df[df.idh_level_2000==0], palette=\"Set1\");\n",
    "sns.coefplot(\"center(Ratio) ~ center(PT) + center(Outros)\", df[df.idh_level_2000==0], palette=\"Set1\");\n",
    "sns.coefplot(\"center(Ratio) ~ center(Outros) + center(PSDB)\", df[df.idh_level_2000==0], palette=\"Set1\");"
   ]
  },
  {
   "cell_type": "code",
   "execution_count": 26,
   "metadata": {
    "collapsed": false
   },
   "outputs": [
    {
     "name": "stderr",
     "output_type": "stream",
     "text": [
      "/home/regis/Documents/DataAnalysis/lib/python3.4/site-packages/scipy/stats/stats.py:1233: UserWarning: kurtosistest only valid for n>=20 ... continuing anyway, n=13\n",
      "  int(n))\n"
     ]
    },
    {
     "data": {
      "text/html": [
       "<table class=\"simpletable\">\n",
       "<caption>OLS Regression Results</caption>\n",
       "<tr>\n",
       "  <th>Dep. Variable:</th>      <td>center(Ratio)</td>  <th>  R-squared:         </th> <td>   0.149</td>\n",
       "</tr>\n",
       "<tr>\n",
       "  <th>Model:</th>                   <td>OLS</td>       <th>  Adj. R-squared:    </th> <td>  -0.006</td>\n",
       "</tr>\n",
       "<tr>\n",
       "  <th>Method:</th>             <td>Least Squares</td>  <th>  F-statistic:       </th> <td>  0.9613</td>\n",
       "</tr>\n",
       "<tr>\n",
       "  <th>Date:</th>             <td>Sun, 19 Apr 2015</td> <th>  Prob (F-statistic):</th>  <td> 0.412</td> \n",
       "</tr>\n",
       "<tr>\n",
       "  <th>Time:</th>                 <td>10:59:20</td>     <th>  Log-Likelihood:    </th> <td>  26.742</td>\n",
       "</tr>\n",
       "<tr>\n",
       "  <th>No. Observations:</th>      <td>    13</td>      <th>  AIC:               </th> <td>  -49.48</td>\n",
       "</tr>\n",
       "<tr>\n",
       "  <th>Df Residuals:</th>          <td>    11</td>      <th>  BIC:               </th> <td>  -48.35</td>\n",
       "</tr>\n",
       "<tr>\n",
       "  <th>Df Model:</th>              <td>     2</td>      <th>                     </th>     <td> </td>   \n",
       "</tr>\n",
       "<tr>\n",
       "  <th>Covariance Type:</th>      <td>nonrobust</td>    <th>                     </th>     <td> </td>   \n",
       "</tr>\n",
       "</table>\n",
       "<table class=\"simpletable\">\n",
       "<tr>\n",
       "        <td></td>          <th>coef</th>     <th>std err</th>      <th>t</th>      <th>P>|t|</th> <th>[95.0% Conf. Int.]</th> \n",
       "</tr>\n",
       "<tr>\n",
       "  <th>center(PT)</th>   <td>   -0.0277</td> <td>    0.028</td> <td>   -0.976</td> <td> 0.350</td> <td>   -0.090     0.035</td>\n",
       "</tr>\n",
       "<tr>\n",
       "  <th>center(PSDB)</th> <td>   -0.0524</td> <td>    0.044</td> <td>   -1.184</td> <td> 0.261</td> <td>   -0.150     0.045</td>\n",
       "</tr>\n",
       "</table>\n",
       "<table class=\"simpletable\">\n",
       "<tr>\n",
       "  <th>Omnibus:</th>       <td> 2.725</td> <th>  Durbin-Watson:     </th> <td>   1.764</td>\n",
       "</tr>\n",
       "<tr>\n",
       "  <th>Prob(Omnibus):</th> <td> 0.256</td> <th>  Jarque-Bera (JB):  </th> <td>   1.097</td>\n",
       "</tr>\n",
       "<tr>\n",
       "  <th>Skew:</th>          <td>-0.702</td> <th>  Prob(JB):          </th> <td>   0.578</td>\n",
       "</tr>\n",
       "<tr>\n",
       "  <th>Kurtosis:</th>      <td> 3.236</td> <th>  Cond. No.          </th> <td>    1.66</td>\n",
       "</tr>\n",
       "</table>"
      ],
      "text/plain": [
       "<class 'statsmodels.iolib.summary.Summary'>\n",
       "\"\"\"\n",
       "                            OLS Regression Results                            \n",
       "==============================================================================\n",
       "Dep. Variable:          center(Ratio)   R-squared:                       0.149\n",
       "Model:                            OLS   Adj. R-squared:                 -0.006\n",
       "Method:                 Least Squares   F-statistic:                    0.9613\n",
       "Date:                Sun, 19 Apr 2015   Prob (F-statistic):              0.412\n",
       "Time:                        10:59:20   Log-Likelihood:                 26.742\n",
       "No. Observations:                  13   AIC:                            -49.48\n",
       "Df Residuals:                      11   BIC:                            -48.35\n",
       "Df Model:                           2                                         \n",
       "Covariance Type:            nonrobust                                         \n",
       "================================================================================\n",
       "                   coef    std err          t      P>|t|      [95.0% Conf. Int.]\n",
       "--------------------------------------------------------------------------------\n",
       "center(PT)      -0.0277      0.028     -0.976      0.350        -0.090     0.035\n",
       "center(PSDB)    -0.0524      0.044     -1.184      0.261        -0.150     0.045\n",
       "==============================================================================\n",
       "Omnibus:                        2.725   Durbin-Watson:                   1.764\n",
       "Prob(Omnibus):                  0.256   Jarque-Bera (JB):                1.097\n",
       "Skew:                          -0.702   Prob(JB):                        0.578\n",
       "Kurtosis:                       3.236   Cond. No.                         1.66\n",
       "==============================================================================\n",
       "\n",
       "Warnings:\n",
       "[1] Standard Errors assume that the covariance matrix of the errors is correctly specified.\n",
       "\"\"\""
      ]
     },
     "execution_count": 26,
     "metadata": {},
     "output_type": "execute_result"
    }
   ],
   "source": [
    "formula = \"center(Ratio) ~ center(PT) + center(PSDB) - 1\"\n",
    "model = ols(formula, df[df.idh_level_2000==0]).fit()\n",
    "model.summary()"
   ]
  },
  {
   "cell_type": "markdown",
   "metadata": {},
   "source": [
    "Não foi possível identificar diferença nesse caso também.\n",
    "\n",
    "\n",
    "Será que existe diferença então para quem está *abaixo* da média de IDH?"
   ]
  },
  {
   "cell_type": "code",
   "execution_count": 27,
   "metadata": {
    "collapsed": false
   },
   "outputs": [
    {
     "data": {
      "image/png": "[encoded data removed]",
      "text/plain": [
       "<matplotlib.figure.Figure at 0x7f5deda61ba8>"
      ]
     },
     "metadata": {},
     "output_type": "display_data"
    },
    {
     "data": {
      "image/png": "[encoded data removed]",
      "text/plain": [
       "<matplotlib.figure.Figure at 0x7f5deda61390>"
      ]
     },
     "metadata": {},
     "output_type": "display_data"
    },
    {
     "data": {
      "image/png": "[encoded data removed]",
      "text/plain": [
       "<matplotlib.figure.Figure at 0x7f5ded8ae6a0>"
      ]
     },
     "metadata": {},
     "output_type": "display_data"
    },
    {
     "data": {
      "image/png": "[encoded data removed]",
      "text/plain": [
       "<matplotlib.figure.Figure at 0x7f5deda0a518>"
      ]
     },
     "metadata": {},
     "output_type": "display_data"
    }
   ],
   "source": [
    "sns.coefplot(\"center(Ratio) ~ center(PT) + center(PSDB) + center(Outros)\",df[df.idh_level_2000==1], palette=\"Set1\");\n",
    "sns.coefplot(\"center(Ratio) ~ center(PT) + center(PSDB)\", df[df.idh_level_2000==1], palette=\"Set1\");\n",
    "sns.coefplot(\"center(Ratio) ~ center(PT) + center(Outros)\", df[df.idh_level_2000==1], palette=\"Set1\");\n",
    "sns.coefplot(\"center(Ratio) ~ center(Outros) + center(PSDB)\", df[df.idh_level_2000==1], palette=\"Set1\");"
   ]
  },
  {
   "cell_type": "code",
   "execution_count": 28,
   "metadata": {
    "collapsed": false
   },
   "outputs": [
    {
     "name": "stderr",
     "output_type": "stream",
     "text": [
      "/home/regis/Documents/DataAnalysis/lib/python3.4/site-packages/scipy/stats/stats.py:1233: UserWarning: kurtosistest only valid for n>=20 ... continuing anyway, n=14\n",
      "  int(n))\n"
     ]
    },
    {
     "data": {
      "text/html": [
       "<table class=\"simpletable\">\n",
       "<caption>OLS Regression Results</caption>\n",
       "<tr>\n",
       "  <th>Dep. Variable:</th>      <td>scale(Ratio)</td>   <th>  R-squared:         </th> <td>   0.043</td>\n",
       "</tr>\n",
       "<tr>\n",
       "  <th>Model:</th>                   <td>OLS</td>       <th>  Adj. R-squared:    </th> <td>  -0.117</td>\n",
       "</tr>\n",
       "<tr>\n",
       "  <th>Method:</th>             <td>Least Squares</td>  <th>  F-statistic:       </th> <td>  0.2675</td>\n",
       "</tr>\n",
       "<tr>\n",
       "  <th>Date:</th>             <td>Sun, 19 Apr 2015</td> <th>  Prob (F-statistic):</th>  <td> 0.770</td> \n",
       "</tr>\n",
       "<tr>\n",
       "  <th>Time:</th>                 <td>10:59:22</td>     <th>  Log-Likelihood:    </th> <td> -19.560</td>\n",
       "</tr>\n",
       "<tr>\n",
       "  <th>No. Observations:</th>      <td>    14</td>      <th>  AIC:               </th> <td>   43.12</td>\n",
       "</tr>\n",
       "<tr>\n",
       "  <th>Df Residuals:</th>          <td>    12</td>      <th>  BIC:               </th> <td>   44.40</td>\n",
       "</tr>\n",
       "<tr>\n",
       "  <th>Df Model:</th>              <td>     2</td>      <th>                     </th>     <td> </td>   \n",
       "</tr>\n",
       "<tr>\n",
       "  <th>Covariance Type:</th>      <td>nonrobust</td>    <th>                     </th>     <td> </td>   \n",
       "</tr>\n",
       "</table>\n",
       "<table class=\"simpletable\">\n",
       "<tr>\n",
       "    <td></td>      <th>coef</th>     <th>std err</th>      <th>t</th>      <th>P>|t|</th> <th>[95.0% Conf. Int.]</th> \n",
       "</tr>\n",
       "<tr>\n",
       "  <th>PT</th>   <td>   -0.9633</td> <td>    2.044</td> <td>   -0.471</td> <td> 0.646</td> <td>   -5.416     3.489</td>\n",
       "</tr>\n",
       "<tr>\n",
       "  <th>PSDB</th> <td>   -0.2955</td> <td>    0.670</td> <td>   -0.441</td> <td> 0.667</td> <td>   -1.756     1.165</td>\n",
       "</tr>\n",
       "</table>\n",
       "<table class=\"simpletable\">\n",
       "<tr>\n",
       "  <th>Omnibus:</th>       <td> 1.497</td> <th>  Durbin-Watson:     </th> <td>   0.450</td>\n",
       "</tr>\n",
       "<tr>\n",
       "  <th>Prob(Omnibus):</th> <td> 0.473</td> <th>  Jarque-Bera (JB):  </th> <td>   0.917</td>\n",
       "</tr>\n",
       "<tr>\n",
       "  <th>Skew:</th>          <td> 0.265</td> <th>  Prob(JB):          </th> <td>   0.632</td>\n",
       "</tr>\n",
       "<tr>\n",
       "  <th>Kurtosis:</th>      <td> 1.864</td> <th>  Cond. No.          </th> <td>    3.15</td>\n",
       "</tr>\n",
       "</table>"
      ],
      "text/plain": [
       "<class 'statsmodels.iolib.summary.Summary'>\n",
       "\"\"\"\n",
       "                            OLS Regression Results                            \n",
       "==============================================================================\n",
       "Dep. Variable:           scale(Ratio)   R-squared:                       0.043\n",
       "Model:                            OLS   Adj. R-squared:                 -0.117\n",
       "Method:                 Least Squares   F-statistic:                    0.2675\n",
       "Date:                Sun, 19 Apr 2015   Prob (F-statistic):              0.770\n",
       "Time:                        10:59:22   Log-Likelihood:                -19.560\n",
       "No. Observations:                  14   AIC:                             43.12\n",
       "Df Residuals:                      12   BIC:                             44.40\n",
       "Df Model:                           2                                         \n",
       "Covariance Type:            nonrobust                                         \n",
       "==============================================================================\n",
       "                 coef    std err          t      P>|t|      [95.0% Conf. Int.]\n",
       "------------------------------------------------------------------------------\n",
       "PT            -0.9633      2.044     -0.471      0.646        -5.416     3.489\n",
       "PSDB          -0.2955      0.670     -0.441      0.667        -1.756     1.165\n",
       "==============================================================================\n",
       "Omnibus:                        1.497   Durbin-Watson:                   0.450\n",
       "Prob(Omnibus):                  0.473   Jarque-Bera (JB):                0.917\n",
       "Skew:                           0.265   Prob(JB):                        0.632\n",
       "Kurtosis:                       1.864   Cond. No.                         3.15\n",
       "==============================================================================\n",
       "\n",
       "Warnings:\n",
       "[1] Standard Errors assume that the covariance matrix of the errors is correctly specified.\n",
       "\"\"\""
      ]
     },
     "execution_count": 28,
     "metadata": {},
     "output_type": "execute_result"
    }
   ],
   "source": [
    "formula = \"scale(Ratio) ~ PT + PSDB - 1\"\n",
    "model = ols(formula, df[df.idh_level_2000==1]).fit()\n",
    "model.summary()"
   ]
  },
  {
   "cell_type": "markdown",
   "metadata": {},
   "source": [
    "Também não foi possível identificar diferença estatisticamente relevante."
   ]
  },
  {
   "cell_type": "code",
   "execution_count": null,
   "metadata": {
    "collapsed": true
   },
   "outputs": [],
   "source": []
  }
 ],
 "metadata": {
  "kernelspec": {
   "display_name": "Python 3",
   "language": "python",
   "name": "python3"
  },
  "language_info": {
   "codemirror_mode": {
    "name": "ipython",
    "version": 3
   },
   "file_extension": ".py",
   "mimetype": "text/x-python",
   "name": "python",
   "nbconvert_exporter": "python",
   "pygments_lexer": "ipython3",
   "version": "3.4.0"
  }
 },
 "nbformat": 4,
 "nbformat_minor": 0
}
