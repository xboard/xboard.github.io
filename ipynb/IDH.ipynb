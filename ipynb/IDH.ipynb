{
 "cells": [
  {
   "cell_type": "markdown",
   "metadata": {},
   "source": [
    "# IDH"
   ]
  },
  {
   "cell_type": "markdown",
   "metadata": {},
   "source": [
    "\n"
   ]
  },
  {
   "cell_type": "code",
   "execution_count": 1,
   "metadata": {
    "collapsed": true
   },
   "outputs": [],
   "source": [
    "%matplotlib inline\n",
    "import pandas as pd\n",
    "import requests as req\n",
    "import numpy as np\n",
    "import seaborn as sns\n",
    "import matplotlib.pyplot as plt\n",
    "from scipy.stats import ttest_ind, ttest_rel\n",
    "from scipy.stats import gaussian_kde\n",
    "from statsmodels.formula.api import ols, mixedlm, gee\n",
    "from statsmodels.stats.outliers_influence import OLSInfluence\n",
    "from statsmodels.regression.linear_model import OLSResults\n",
    "from patsy import dmatrix\n",
    "\n",
    "np.set_printoptions(precision=3)"
   ]
  },
  {
   "cell_type": "markdown",
   "metadata": {},
   "source": [
    "### Carregando dados de IDH-M da Wikipedia"
   ]
  },
  {
   "cell_type": "markdown",
   "metadata": {},
   "source": [
    "#### Fontes\n",
    "\n",
    "Estados: http://pt.wikipedia.org/wiki/Lista_de_unidades_federativas_do_Brasil_por_IDH"
   ]
  },
  {
   "cell_type": "code",
   "execution_count": 2,
   "metadata": {
    "collapsed": false,
    "scrolled": true
   },
   "outputs": [
    {
     "data": {
      "text/html": [
       "<div style=\"max-height:1000px;max-width:1500px;overflow:auto;\">\n",
       "<table border=\"1\" class=\"dataframe\">\n",
       "  <thead>\n",
       "    <tr style=\"text-align: right;\">\n",
       "      <th></th>\n",
       "      <th>Estado</th>\n",
       "      <th>I2000</th>\n",
       "      <th>I2010</th>\n",
       "      <th>Ratio</th>\n",
       "      <th>idh_level_2000</th>\n",
       "    </tr>\n",
       "  </thead>\n",
       "  <tbody>\n",
       "    <tr>\n",
       "      <th>0</th>\n",
       "      <td>Distrito Federal</td>\n",
       "      <td>0.725</td>\n",
       "      <td>0.824</td>\n",
       "      <td>1.136552</td>\n",
       "      <td>1</td>\n",
       "    </tr>\n",
       "    <tr>\n",
       "      <th>1</th>\n",
       "      <td>São Paulo</td>\n",
       "      <td>0.702</td>\n",
       "      <td>0.783</td>\n",
       "      <td>1.115385</td>\n",
       "      <td>1</td>\n",
       "    </tr>\n",
       "    <tr>\n",
       "      <th>2</th>\n",
       "      <td>Santa Catarina</td>\n",
       "      <td>0.674</td>\n",
       "      <td>0.774</td>\n",
       "      <td>1.148368</td>\n",
       "      <td>1</td>\n",
       "    </tr>\n",
       "    <tr>\n",
       "      <th>3</th>\n",
       "      <td>Rio de Janeiro</td>\n",
       "      <td>0.664</td>\n",
       "      <td>0.761</td>\n",
       "      <td>1.146084</td>\n",
       "      <td>1</td>\n",
       "    </tr>\n",
       "    <tr>\n",
       "      <th>4</th>\n",
       "      <td>Paraná</td>\n",
       "      <td>0.650</td>\n",
       "      <td>0.749</td>\n",
       "      <td>1.152308</td>\n",
       "      <td>1</td>\n",
       "    </tr>\n",
       "    <tr>\n",
       "      <th>5</th>\n",
       "      <td>Rio Grande do Sul</td>\n",
       "      <td>0.664</td>\n",
       "      <td>0.746</td>\n",
       "      <td>1.123494</td>\n",
       "      <td>1</td>\n",
       "    </tr>\n",
       "    <tr>\n",
       "      <th>6</th>\n",
       "      <td>Espírito Santo</td>\n",
       "      <td>0.640</td>\n",
       "      <td>0.740</td>\n",
       "      <td>1.156250</td>\n",
       "      <td>1</td>\n",
       "    </tr>\n",
       "    <tr>\n",
       "      <th>7</th>\n",
       "      <td>Goiás</td>\n",
       "      <td>0.615</td>\n",
       "      <td>0.735</td>\n",
       "      <td>1.195122</td>\n",
       "      <td>1</td>\n",
       "    </tr>\n",
       "    <tr>\n",
       "      <th>8</th>\n",
       "      <td>Minas Gerais</td>\n",
       "      <td>0.624</td>\n",
       "      <td>0.731</td>\n",
       "      <td>1.171474</td>\n",
       "      <td>1</td>\n",
       "    </tr>\n",
       "    <tr>\n",
       "      <th>9</th>\n",
       "      <td>Mato Grosso do Sul</td>\n",
       "      <td>0.613</td>\n",
       "      <td>0.729</td>\n",
       "      <td>1.189233</td>\n",
       "      <td>1</td>\n",
       "    </tr>\n",
       "    <tr>\n",
       "      <th>10</th>\n",
       "      <td>Mato Grosso</td>\n",
       "      <td>0.601</td>\n",
       "      <td>0.725</td>\n",
       "      <td>1.206323</td>\n",
       "      <td>1</td>\n",
       "    </tr>\n",
       "    <tr>\n",
       "      <th>11</th>\n",
       "      <td>Amapá</td>\n",
       "      <td>0.577</td>\n",
       "      <td>0.708</td>\n",
       "      <td>1.227036</td>\n",
       "      <td>1</td>\n",
       "    </tr>\n",
       "    <tr>\n",
       "      <th>12</th>\n",
       "      <td>Roraima</td>\n",
       "      <td>0.598</td>\n",
       "      <td>0.707</td>\n",
       "      <td>1.182274</td>\n",
       "      <td>1</td>\n",
       "    </tr>\n",
       "    <tr>\n",
       "      <th>13</th>\n",
       "      <td>Tocantins</td>\n",
       "      <td>0.525</td>\n",
       "      <td>0.699</td>\n",
       "      <td>1.331429</td>\n",
       "      <td>0</td>\n",
       "    </tr>\n",
       "    <tr>\n",
       "      <th>14</th>\n",
       "      <td>Rondônia</td>\n",
       "      <td>0.537</td>\n",
       "      <td>0.690</td>\n",
       "      <td>1.284916</td>\n",
       "      <td>0</td>\n",
       "    </tr>\n",
       "    <tr>\n",
       "      <th>15</th>\n",
       "      <td>Rio Grande do Norte</td>\n",
       "      <td>0.552</td>\n",
       "      <td>0.684</td>\n",
       "      <td>1.239130</td>\n",
       "      <td>1</td>\n",
       "    </tr>\n",
       "    <tr>\n",
       "      <th>16</th>\n",
       "      <td>Ceará</td>\n",
       "      <td>0.541</td>\n",
       "      <td>0.682</td>\n",
       "      <td>1.260628</td>\n",
       "      <td>0</td>\n",
       "    </tr>\n",
       "    <tr>\n",
       "      <th>17</th>\n",
       "      <td>Amazonas</td>\n",
       "      <td>0.515</td>\n",
       "      <td>0.674</td>\n",
       "      <td>1.308738</td>\n",
       "      <td>0</td>\n",
       "    </tr>\n",
       "    <tr>\n",
       "      <th>18</th>\n",
       "      <td>Pernambuco</td>\n",
       "      <td>0.544</td>\n",
       "      <td>0.673</td>\n",
       "      <td>1.237132</td>\n",
       "      <td>0</td>\n",
       "    </tr>\n",
       "    <tr>\n",
       "      <th>19</th>\n",
       "      <td>Sergipe</td>\n",
       "      <td>0.518</td>\n",
       "      <td>0.665</td>\n",
       "      <td>1.283784</td>\n",
       "      <td>0</td>\n",
       "    </tr>\n",
       "    <tr>\n",
       "      <th>20</th>\n",
       "      <td>Acre</td>\n",
       "      <td>0.517</td>\n",
       "      <td>0.663</td>\n",
       "      <td>1.282398</td>\n",
       "      <td>0</td>\n",
       "    </tr>\n",
       "    <tr>\n",
       "      <th>21</th>\n",
       "      <td>Bahia</td>\n",
       "      <td>0.512</td>\n",
       "      <td>0.660</td>\n",
       "      <td>1.289062</td>\n",
       "      <td>0</td>\n",
       "    </tr>\n",
       "    <tr>\n",
       "      <th>22</th>\n",
       "      <td>Paraíba</td>\n",
       "      <td>0.506</td>\n",
       "      <td>0.658</td>\n",
       "      <td>1.300395</td>\n",
       "      <td>0</td>\n",
       "    </tr>\n",
       "    <tr>\n",
       "      <th>23</th>\n",
       "      <td>Piauí</td>\n",
       "      <td>0.484</td>\n",
       "      <td>0.646</td>\n",
       "      <td>1.334711</td>\n",
       "      <td>0</td>\n",
       "    </tr>\n",
       "    <tr>\n",
       "      <th>24</th>\n",
       "      <td>Pará</td>\n",
       "      <td>0.518</td>\n",
       "      <td>0.646</td>\n",
       "      <td>1.247104</td>\n",
       "      <td>0</td>\n",
       "    </tr>\n",
       "    <tr>\n",
       "      <th>25</th>\n",
       "      <td>Maranhão</td>\n",
       "      <td>0.476</td>\n",
       "      <td>0.639</td>\n",
       "      <td>1.342437</td>\n",
       "      <td>0</td>\n",
       "    </tr>\n",
       "    <tr>\n",
       "      <th>26</th>\n",
       "      <td>Alagoas</td>\n",
       "      <td>0.471</td>\n",
       "      <td>0.631</td>\n",
       "      <td>1.339703</td>\n",
       "      <td>0</td>\n",
       "    </tr>\n",
       "  </tbody>\n",
       "</table>\n",
       "</div>"
      ],
      "text/plain": [
       "                 Estado  I2000  I2010     Ratio  idh_level_2000\n",
       "0      Distrito Federal  0.725  0.824  1.136552               1\n",
       "1             São Paulo  0.702  0.783  1.115385               1\n",
       "2        Santa Catarina  0.674  0.774  1.148368               1\n",
       "3        Rio de Janeiro  0.664  0.761  1.146084               1\n",
       "4                Paraná  0.650  0.749  1.152308               1\n",
       "5     Rio Grande do Sul  0.664  0.746  1.123494               1\n",
       "6        Espírito Santo  0.640  0.740  1.156250               1\n",
       "7                 Goiás  0.615  0.735  1.195122               1\n",
       "8          Minas Gerais  0.624  0.731  1.171474               1\n",
       "9    Mato Grosso do Sul  0.613  0.729  1.189233               1\n",
       "10          Mato Grosso  0.601  0.725  1.206323               1\n",
       "11                Amapá  0.577  0.708  1.227036               1\n",
       "12              Roraima  0.598  0.707  1.182274               1\n",
       "13            Tocantins  0.525  0.699  1.331429               0\n",
       "14             Rondônia  0.537  0.690  1.284916               0\n",
       "15  Rio Grande do Norte  0.552  0.684  1.239130               1\n",
       "16                Ceará  0.541  0.682  1.260628               0\n",
       "17             Amazonas  0.515  0.674  1.308738               0\n",
       "18           Pernambuco  0.544  0.673  1.237132               0\n",
       "19              Sergipe  0.518  0.665  1.283784               0\n",
       "20                 Acre  0.517  0.663  1.282398               0\n",
       "21                Bahia  0.512  0.660  1.289062               0\n",
       "22              Paraíba  0.506  0.658  1.300395               0\n",
       "23                Piauí  0.484  0.646  1.334711               0\n",
       "24                 Pará  0.518  0.646  1.247104               0\n",
       "25             Maranhão  0.476  0.639  1.342437               0\n",
       "26              Alagoas  0.471  0.631  1.339703               0"
      ]
     },
     "execution_count": 2,
     "metadata": {},
     "output_type": "execute_result"
    }
   ],
   "source": [
    "idhm_df = pd.read_csv(\"../data/brazil_states_idh_2000_2010.csv\", index_col=0)\n",
    "idhm_df"
   ]
  },
  {
   "cell_type": "markdown",
   "metadata": {},
   "source": [
    "### Análise"
   ]
  },
  {
   "cell_type": "code",
   "execution_count": 3,
   "metadata": {
    "collapsed": false
   },
   "outputs": [
    {
     "data": {
      "text/html": [
       "<div style=\"max-height:1000px;max-width:1500px;overflow:auto;\">\n",
       "<table border=\"1\" class=\"dataframe\">\n",
       "  <thead>\n",
       "    <tr style=\"text-align: right;\">\n",
       "      <th></th>\n",
       "      <th>I2000</th>\n",
       "      <th>I2010</th>\n",
       "      <th>Ratio</th>\n",
       "      <th>idh_level_2000</th>\n",
       "    </tr>\n",
       "  </thead>\n",
       "  <tbody>\n",
       "    <tr>\n",
       "      <th>count</th>\n",
       "      <td>27.000000</td>\n",
       "      <td>27.000000</td>\n",
       "      <td>27.000000</td>\n",
       "      <td>27.000000</td>\n",
       "    </tr>\n",
       "    <tr>\n",
       "      <th>mean</th>\n",
       "      <td>0.576407</td>\n",
       "      <td>0.704519</td>\n",
       "      <td>1.230795</td>\n",
       "      <td>0.518519</td>\n",
       "    </tr>\n",
       "    <tr>\n",
       "      <th>std</th>\n",
       "      <td>0.072960</td>\n",
       "      <td>0.049284</td>\n",
       "      <td>0.072885</td>\n",
       "      <td>0.509175</td>\n",
       "    </tr>\n",
       "    <tr>\n",
       "      <th>min</th>\n",
       "      <td>0.471000</td>\n",
       "      <td>0.631000</td>\n",
       "      <td>1.115385</td>\n",
       "      <td>0.000000</td>\n",
       "    </tr>\n",
       "    <tr>\n",
       "      <th>25%</th>\n",
       "      <td>0.517500</td>\n",
       "      <td>0.664000</td>\n",
       "      <td>1.163862</td>\n",
       "      <td>0.000000</td>\n",
       "    </tr>\n",
       "    <tr>\n",
       "      <th>50%</th>\n",
       "      <td>0.552000</td>\n",
       "      <td>0.699000</td>\n",
       "      <td>1.237132</td>\n",
       "      <td>1.000000</td>\n",
       "    </tr>\n",
       "    <tr>\n",
       "      <th>75%</th>\n",
       "      <td>0.632000</td>\n",
       "      <td>0.737500</td>\n",
       "      <td>1.286989</td>\n",
       "      <td>1.000000</td>\n",
       "    </tr>\n",
       "    <tr>\n",
       "      <th>max</th>\n",
       "      <td>0.725000</td>\n",
       "      <td>0.824000</td>\n",
       "      <td>1.342437</td>\n",
       "      <td>1.000000</td>\n",
       "    </tr>\n",
       "  </tbody>\n",
       "</table>\n",
       "</div>"
      ],
      "text/plain": [
       "           I2000      I2010      Ratio  idh_level_2000\n",
       "count  27.000000  27.000000  27.000000       27.000000\n",
       "mean    0.576407   0.704519   1.230795        0.518519\n",
       "std     0.072960   0.049284   0.072885        0.509175\n",
       "min     0.471000   0.631000   1.115385        0.000000\n",
       "25%     0.517500   0.664000   1.163862        0.000000\n",
       "50%     0.552000   0.699000   1.237132        1.000000\n",
       "75%     0.632000   0.737500   1.286989        1.000000\n",
       "max     0.725000   0.824000   1.342437        1.000000"
      ]
     },
     "execution_count": 3,
     "metadata": {},
     "output_type": "execute_result"
    }
   ],
   "source": [
    "idhm_df.describe()"
   ]
  },
  {
   "cell_type": "code",
   "execution_count": 4,
   "metadata": {
    "collapsed": false
   },
   "outputs": [
    {
     "data": {
      "image/png": "[encoded data removed]",
      "text/plain": [
       "<matplotlib.figure.Figure at 0x7feef2d71320>"
      ]
     },
     "metadata": {},
     "output_type": "display_data"
    },
    {
     "data": {
      "text/plain": [
       "<matplotlib.figure.Figure at 0x7feef4dc2b70>"
      ]
     },
     "metadata": {},
     "output_type": "display_data"
    },
    {
     "data": {
      "image/png": "[encoded data removed]",
      "text/plain": [
       "<matplotlib.figure.Figure at 0x7feef2d71438>"
      ]
     },
     "metadata": {},
     "output_type": "display_data"
    }
   ],
   "source": [
    "f = plt.figure(14)\n",
    "idhm_df[[\"I2000\",\"I2010\",\"Ratio\"]].hist(bins=10)\n",
    "plt.figure()\n",
    "sns.kdeplot(idhm_df[\"I2000\"], shade=True);\n",
    "sns.kdeplot(idhm_df[\"I2010\"], shade=True);\n",
    "sns.kdeplot(idhm_df[\"Ratio\"], shade=True);"
   ]
  },
  {
   "cell_type": "code",
   "execution_count": 5,
   "metadata": {
    "collapsed": false
   },
   "outputs": [
    {
     "ename": "NameError",
     "evalue": "name 'df' is not defined",
     "output_type": "error",
     "traceback": [
      "\u001b[1;31m---------------------------------------------------------------------------\u001b[0m",
      "\u001b[1;31mNameError\u001b[0m                                 Traceback (most recent call last)",
      "\u001b[1;32m<ipython-input-5-ccb537312c75>\u001b[0m in \u001b[0;36m<module>\u001b[1;34m()\u001b[0m\n\u001b[1;32m----> 1\u001b[1;33m \u001b[0msns\u001b[0m\u001b[1;33m.\u001b[0m\u001b[0mfactorplot\u001b[0m\u001b[1;33m(\u001b[0m\u001b[1;34m\"Regiao\"\u001b[0m\u001b[1;33m,\u001b[0m\u001b[1;34m\"Ratio\"\u001b[0m\u001b[1;33m,\u001b[0m\u001b[0mdata\u001b[0m\u001b[1;33m=\u001b[0m\u001b[0mdf\u001b[0m\u001b[1;33m,\u001b[0m \u001b[0mkind\u001b[0m\u001b[1;33m=\u001b[0m\u001b[1;34m\"box\"\u001b[0m\u001b[1;33m)\u001b[0m\u001b[1;33m\u001b[0m\u001b[0m\n\u001b[0m",
      "\u001b[1;31mNameError\u001b[0m: name 'df' is not defined"
     ]
    }
   ],
   "source": [
    "sns.factorplot(\"Regiao\",\"Ratio\",data=df, kind=\"box\")"
   ]
  },
  {
   "cell_type": "code",
   "execution_count": null,
   "metadata": {
    "collapsed": false
   },
   "outputs": [],
   "source": [
    "sns.factorplot(\"idh_level_2000\",\"Ratio\",data=df, kind=\"box\")"
   ]
  },
  {
   "cell_type": "markdown",
   "metadata": {},
   "source": [
    "### Testando hipótese"
   ]
  },
  {
   "cell_type": "markdown",
   "metadata": {},
   "source": [
    "#### A diferença média entre os IDHs de 2000 e 2010 é estatisticamente significativa?"
   ]
  },
  {
   "cell_type": "code",
   "execution_count": null,
   "metadata": {
    "collapsed": false
   },
   "outputs": [],
   "source": [
    "ttest_rel(idhm_df['I2000'], idhm_df['I2010'])"
   ]
  },
  {
   "cell_type": "code",
   "execution_count": null,
   "metadata": {
    "collapsed": false
   },
   "outputs": [],
   "source": [
    "import scipy  \n",
    "import scikits.bootstrap as bootstrap\n",
    "  \n",
    "# compute 95% confidence intervals around the mean  \n",
    "CIs00 = bootstrap.ci(data=idhm_df[\"I2000\"])  \n",
    "CIs10 = bootstrap.ci(data=idhm_df[\"I2010\"])\n",
    "CIsR  = bootstrap.ci(data=idhm_df[\"Ratio\"])\n",
    "\n",
    "print(\"IDHM 2000 mean 95% confidence interval. Low={0:.3f}\\tHigh={1:.3f}\".format(*tuple(CIs00)))\n",
    "print(\"IDHM 2010 mean 95% confidence interval. Low={0:.3f}\\tHigh={1:.3f}\".format(*tuple(CIs10)))\n",
    "print(\"IDHM ratio mean 95% confidence interval. Low={0:.3f}\\tHigh={1:.3f}\".format(*tuple(CIsR)))"
   ]
  },
  {
   "cell_type": "code",
   "execution_count": null,
   "metadata": {
    "collapsed": false
   },
   "outputs": [],
   "source": [
    "CIs00 = bootstrap.ci(data=idhm_df[\"I2000\"], statfunction=scipy.median)  \n",
    "CIs10 = bootstrap.ci(data=idhm_df[\"I2010\"], statfunction=scipy.median)\n",
    "CIsR  = bootstrap.ci(data=idhm_df[\"Ratio\"], statfunction=scipy.median)\n",
    "\n",
    "print(\"IDHM 2000 median 95% confidence interval. Low={0:.3f}\\tHigh={1:.3f}\".format(*tuple(CIs00)))\n",
    "print(\"IDHM 2010 median 95% confidence interval. Low={0:.3f}\\tHigh={1:.3f}\".format(*tuple(CIs10)))\n",
    "print(\"IDHM ratio median 95% confidence interval. Low={0:.3f}\\tHigh={1:.3f}\".format(*tuple(CIsR)))"
   ]
  },
  {
   "cell_type": "markdown",
   "metadata": {},
   "source": [
    "A resposta de diversos testes, para um nível de 5% de significância, mostra que há fortes evidências que **sim**."
   ]
  },
  {
   "cell_type": "markdown",
   "metadata": {},
   "source": [
    "### Montando percentual de impacto da administração de cada partido em cada Estado da Federação."
   ]
  },
  {
   "cell_type": "code",
   "execution_count": null,
   "metadata": {
    "collapsed": false
   },
   "outputs": [],
   "source": [
    "state_parties = pd.DataFrame({\"Estado\":idhm_df.Estado,\"PT\":np.repeat(0.0,27),\"PSDB\":np.repeat(0.0,27),\"Outros\":np.repeat(0.0,27)})"
   ]
  },
  {
   "cell_type": "code",
   "execution_count": null,
   "metadata": {
    "collapsed": false
   },
   "outputs": [],
   "source": [
    "st_pa = np.array([\n",
    "        [u\"Distrito Federal\", 0.0, 0.0, 1.0],\n",
    "        [u\"São Paulo\", 0.0, 0.925, 0.075],\n",
    "        [u\"Santa Catarina\", 0.0, 0.0, 1.0],\n",
    "        [u\"Rio de Janeiro\", 0.4, 0.0, 0.6],\n",
    "        [u\"Paraná\", 0.0, 0.0, 1.0],\n",
    "        [u\"Rio Grande do Sul\", 0.2, 0.4, 0.4],\n",
    "        [u\"Espírito Santo\", 0.0, 0.2, 0.8],\n",
    "        [u\"Goiás\", 0.0, 0.6, 0.4],\n",
    "        [u\"Minas Gerais\", 0.0, 0.8, 0.2],\n",
    "        [u\"Mato Grosso do Sul\", 0.0, 0.6, 0.4],\n",
    "        [u\"Mato Grosso\", 0.0, 0.2, 0.8],\n",
    "        [u\"Amapá\", 0.075, 0.0, 0.925],\n",
    "        [u\"Roraima\", 0.275, 0.4, 0.325], # double check\n",
    "        [u\"Tocantins\", 0.0, 0.2, 0.8], \n",
    "        [u\"Rondônia\", 0.0, 0.4, 0.6],\n",
    "        [u\"Rio Grande do Norte\", 0.0, 0.0, 1.0],\n",
    "        [u\"Ceará\", 0.6, 0.0, 0.4],\n",
    "        [u\"Amazonas\", 0.0, 0.0, 1.0],\n",
    "        [u\"Pernambuco\", 0.0, 0.0, 1.0],\n",
    "        [u\"Sergipe\", 0.4, 0.2, 0.4],\n",
    "        [u\"Acre\", 1.0, 0.0, 0.0],\n",
    "        [u\"Bahia\", 0.4, 0.0, 0.6],\n",
    "        [u\"Paraíba\", 0.0, 0.55, 0.45],\n",
    "        [u\"Piauí\", 0.8, 0.0, 0.2],\n",
    "        [u\"Pará\", 0.4, 0.6, 0.0],\n",
    "        [u\"Maranhão\", 0.0, 0.0, 1.0],\n",
    "        [u\"Alagoas\", 0.0, 0.0, 1.0],\n",
    "       ])"
   ]
  },
  {
   "cell_type": "markdown",
   "metadata": {},
   "source": [
    "Sanity checks"
   ]
  },
  {
   "cell_type": "code",
   "execution_count": null,
   "metadata": {
    "collapsed": false
   },
   "outputs": [],
   "source": [
    "np.float64(st_pa[:,1:]).sum(axis=1)"
   ]
  },
  {
   "cell_type": "code",
   "execution_count": null,
   "metadata": {
    "collapsed": false
   },
   "outputs": [],
   "source": [
    "np.float64(st_pa[:,1:]).sum(axis=0)"
   ]
  },
  {
   "cell_type": "code",
   "execution_count": null,
   "metadata": {
    "collapsed": false
   },
   "outputs": [],
   "source": [
    "#state_parties_df = pd.DataFrame({\"Estado\":st_pa[:,0],\"PSDB\":np.float64(st_pa[:,2]),\"PT\":np.float64(st_pa[:,1]),\"Outros\":np.float64(st_pa[:,3])})\n",
    "state_parties_df = pd.read_csv(\"../data/brazil_states_parties_2000-2010.csv\", index_col=0)\n"
   ]
  },
  {
   "cell_type": "code",
   "execution_count": null,
   "metadata": {
    "collapsed": false
   },
   "outputs": [],
   "source": [
    "state_parties_df"
   ]
  },
  {
   "cell_type": "code",
   "execution_count": null,
   "metadata": {
    "collapsed": false
   },
   "outputs": [],
   "source": [
    "state_regions_df = pd.read_csv(\"../data/brazil_states_regions.csv\", index_col=0)\n",
    "state_regions_df"
   ]
  },
  {
   "cell_type": "code",
   "execution_count": null,
   "metadata": {
    "collapsed": false,
    "scrolled": true
   },
   "outputs": [],
   "source": [
    "df = idhm_df.merge(state_parties_df, on=\"Estado\")\n",
    "df = df.merge(state_regions_df, on=\"Estado\")\n",
    "df"
   ]
  },
  {
   "cell_type": "code",
   "execution_count": null,
   "metadata": {
    "collapsed": false
   },
   "outputs": [],
   "source": [
    "sns.set()\n",
    "sns.pairplot(df, hue=\"idh_level_2000\", size=2.5)"
   ]
  },
  {
   "cell_type": "code",
   "execution_count": null,
   "metadata": {
    "collapsed": false
   },
   "outputs": [],
   "source": [
    "sns.coefplot(\"Ratio ~ PT + PSDB + Outros + C(idh_level_2000) - 1\", df, palette=\"Set1\");"
   ]
  },
  {
   "cell_type": "code",
   "execution_count": null,
   "metadata": {
    "collapsed": false
   },
   "outputs": [],
   "source": [
    "sns.coefplot(\"Ratio ~ Outros==0 + Outros - 1\", df, palette=\"Set1\");"
   ]
  },
  {
   "cell_type": "code",
   "execution_count": null,
   "metadata": {
    "collapsed": false
   },
   "outputs": [],
   "source": [
    "sns.set(style=\"whitegrid\")\n",
    "sns.residplot(df.Outros,df.Ratio, color=\"navy\", lowess=True, order=1)"
   ]
  },
  {
   "cell_type": "code",
   "execution_count": null,
   "metadata": {
    "collapsed": false
   },
   "outputs": [],
   "source": [
    "sns.coefplot(\"Ratio ~ PT==0 + PT - 1\", df, palette=\"Set1\");"
   ]
  },
  {
   "cell_type": "code",
   "execution_count": null,
   "metadata": {
    "collapsed": false
   },
   "outputs": [],
   "source": [
    "sns.set(style=\"whitegrid\")\n",
    "sns.residplot(df[df.PT>0].PT, df[df.PT>0].Ratio, color=\"navy\", order=1)"
   ]
  },
  {
   "cell_type": "code",
   "execution_count": null,
   "metadata": {
    "collapsed": false
   },
   "outputs": [],
   "source": [
    "sns.coefplot(\"Ratio ~ PSDB==0 + PSDB + np.multiply(PSDB, PSDB) - 1\", df, palette=\"Set1\");"
   ]
  },
  {
   "cell_type": "code",
   "execution_count": null,
   "metadata": {
    "collapsed": false
   },
   "outputs": [],
   "source": [
    "sns.set(style=\"whitegrid\")\n",
    "sns.residplot(df[df.PSDB>0].PSDB, df[df.PSDB>0].Ratio, color=\"navy\", lowess=True, order=2)"
   ]
  },
  {
   "cell_type": "markdown",
   "metadata": {},
   "source": [
    "### Impacto por partido ou nível do IDH-M em 2000"
   ]
  },
  {
   "cell_type": "code",
   "execution_count": null,
   "metadata": {
    "collapsed": false
   },
   "outputs": [],
   "source": [
    "sns.coefplot(\"Ratio ~ PT + PSDB + Outros + C(idh_level_2000) - 1\", df, palette=\"Set1\");\n",
    "sns.coefplot(\"Ratio ~ PT + PSDB + C(idh_level_2000)\", df, palette=\"Set1\");\n",
    "sns.coefplot(\"Ratio ~ PT + Outros + C(idh_level_2000)\", df, palette=\"Set1\");\n",
    "sns.coefplot(\"Ratio ~ PSDB + Outros + C(idh_level_2000)\", df, palette=\"Set1\");"
   ]
  },
  {
   "cell_type": "code",
   "execution_count": null,
   "metadata": {
    "collapsed": false
   },
   "outputs": [],
   "source": [
    "formula = \"Ratio ~ PT + PSDB + C(idh_level_2000) + C(Regiao)\"\n",
    "model = ols(formula, df).fit()\n",
    "model.summary()"
   ]
  },
  {
   "cell_type": "markdown",
   "metadata": {},
   "source": [
    "**Não foi possível observar diferença significantiva entre os partidos.**"
   ]
  },
  {
   "cell_type": "markdown",
   "metadata": {},
   "source": [
    "### Quais estados possuem diferença significativa?"
   ]
  },
  {
   "cell_type": "markdown",
   "metadata": {},
   "source": [
    "Comparando 2010 com 2000"
   ]
  },
  {
   "cell_type": "code",
   "execution_count": null,
   "metadata": {
    "collapsed": false
   },
   "outputs": [],
   "source": [
    "sns.lmplot(\"I2000\", \"I2010\", data=df, legend=True, size=10, n_boot=10000, ci=95)"
   ]
  },
  {
   "cell_type": "code",
   "execution_count": null,
   "metadata": {
    "collapsed": false
   },
   "outputs": [],
   "source": [
    "sns.jointplot(\"I2000\", \"I2010\", data=df, kind='resid',color=sns.color_palette()[2], size=10)"
   ]
  },
  {
   "cell_type": "code",
   "execution_count": null,
   "metadata": {
    "collapsed": false
   },
   "outputs": [],
   "source": [
    "sns.coefplot(\"I2010 ~ I2000\", data=df, intercept=True)\n",
    "sns.coefplot(\"I2010 ~ I2000\", data=df, groupby=\"idh_level_2000\", intercept=True)"
   ]
  },
  {
   "cell_type": "code",
   "execution_count": null,
   "metadata": {
    "collapsed": false
   },
   "outputs": [],
   "source": [
    "sns.lmplot(\"I2000\", \"I2010\", data=df, hue=\"idh_level_2000\", col=\"idh_level_2000\", legend=True, size=6, n_boot=10000, ci=99)\n",
    "sns.lmplot(\"I2000\", \"I2010\", data=df, hue=\"Regiao\", col=\"Regiao\", col_wrap=2, legend=True, size=6, n_boot=10000, ci=99)"
   ]
  },
  {
   "cell_type": "code",
   "execution_count": null,
   "metadata": {
    "collapsed": false
   },
   "outputs": [],
   "source": [
    "md = ols(\"I2010 ~ I2000 + C(Regiao)\", df).fit()\n",
    "print(md.summary())"
   ]
  },
  {
   "cell_type": "code",
   "execution_count": null,
   "metadata": {
    "collapsed": false
   },
   "outputs": [],
   "source": [
    "rrr = md.get_robustcov_results()\n",
    "rrp = rrr.outlier_test(\"fdr_bh\", 0.1)\n",
    "idx = rrp[rrp[\"fdr_bh(p)\"] <= 0.1].index\n",
    "print(\"Estados fora da média:\\n\",df.ix[idx.values])\n",
    "rrp[rrp[\"fdr_bh(p)\"] <= 0.1]"
   ]
  },
  {
   "cell_type": "markdown",
   "metadata": {},
   "source": [
    "### GEE"
   ]
  },
  {
   "cell_type": "code",
   "execution_count": null,
   "metadata": {
    "collapsed": false
   },
   "outputs": [],
   "source": [
    "import statsmodels.api as sm\n",
    "md = gee(\"Ratio ~ PT + PSDB \", df.idh_level_2000, df, cov_struct=sm.cov_struct.Exchangeable()) \n",
    "mdf = md.fit() \n",
    "print(mdf.summary())\n",
    "print(mdf.cov_struct.summary())"
   ]
  },
  {
   "cell_type": "code",
   "execution_count": null,
   "metadata": {
    "collapsed": false
   },
   "outputs": [],
   "source": [
    "plt.plot(mdf.fittedvalues, mdf.resid, 'o', alpha=0.5)\n",
    "plt.xlabel(\"Fitted values\", size=17)\n",
    "plt.ylabel(\"Residuals\", size=17)"
   ]
  },
  {
   "cell_type": "code",
   "execution_count": null,
   "metadata": {
    "collapsed": false
   },
   "outputs": [],
   "source": [
    "sns.jointplot(mdf.fittedvalues, mdf.resid, size=10, kind=\"kde\")"
   ]
  },
  {
   "cell_type": "code",
   "execution_count": null,
   "metadata": {
    "collapsed": true
   },
   "outputs": [],
   "source": []
  },
  {
   "cell_type": "code",
   "execution_count": null,
   "metadata": {
    "collapsed": true
   },
   "outputs": [],
   "source": []
  }
 ],
 "metadata": {
  "kernelspec": {
   "display_name": "Python 3",
   "language": "python",
   "name": "python3"
  },
  "language_info": {
   "codemirror_mode": {
    "name": "ipython",
    "version": 3
   },
   "file_extension": ".py",
   "mimetype": "text/x-python",
   "name": "python",
   "nbconvert_exporter": "python",
   "pygments_lexer": "ipython3",
   "version": "3.4.0"
  }
 },
 "nbformat": 4,
 "nbformat_minor": 0
}
