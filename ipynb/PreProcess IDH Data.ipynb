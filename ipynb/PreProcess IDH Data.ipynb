{
 "cells": [
  {
   "cell_type": "code",
   "execution_count": 5,
   "metadata": {
    "collapsed": true
   },
   "outputs": [],
   "source": [
    "%matplotlib inline\n",
    "import pandas as pd\n",
    "import requests as req\n",
    "import numpy as np\n",
    "import seaborn as sns\n",
    "import matplotlib.pyplot as plt\n",
    "from scipy.stats import ttest_ind, ttest_rel\n",
    "\n",
    "np.set_printoptions(precision=3)\n"
   ]
  },
  {
   "cell_type": "code",
   "execution_count": 10,
   "metadata": {
    "collapsed": false
   },
   "outputs": [],
   "source": [
    "\n",
    "url = 'http://pt.wikipedia.org/wiki/Lista_de_unidades_federativas_do_Brasil_por_IDH'\n",
    "\n",
    "\n",
    "# In[3]:\n",
    "\n",
    "html_text = req.get(url).text\n",
    "\n",
    "\n",
    "# In[4]:\n",
    "\n",
    "table = pd.read_html(html_text, attrs={\"class\":\"wikitable\"})[0]\n",
    "\n",
    "\n",
    "# In[5]:\n",
    "\n",
    "def idh_format(str):\n",
    "    num = float(str)/1000.0\n",
    "    return num\n",
    "\n",
    "\n",
    "# ### Pré-Processando IDH-M Data\n",
    "\n",
    "# In[6]:\n",
    "\n",
    "\"\"\"\n",
    "  0,800 – 1 (Muito alto) - idh_level = 0\n",
    "  0,700 - 0,799 (Alto)   - idh_level = 0\n",
    "  0,600 - 0,699 (Médio)  - idh_level = 1\n",
    "  0,500 - 0,599 (Baixo)  - idh_level = 2\n",
    "  0 - 0,499 (Muito baixo)- idh_level = 3\n",
    "\"\"\"\n",
    "def idh_level(x):\n",
    "    if x >= 0.7:\n",
    "        return 0\n",
    "    elif 0.6 <= x < 0.7:\n",
    "        return 1\n",
    "    elif 0.5 <= x < 0.6:\n",
    "        return 2\n",
    "    elif 0.4 <= x < 0.5:\n",
    "        return 3\n",
    "    else: raise Exception(\"Invalid!\")\n",
    "    \n",
    "\"\"\"\n",
    "  Abaixo da mediana de 2000 = level 0\n",
    "  Igual ou acima da mediana de 2000 = level 1\n",
    "\"\"\"\n",
    "def idh_level2(x):\n",
    "    if x >= table[4][2:].apply(idh_format).median():\n",
    "        return 1\n",
    "    else: return 0   \n",
    "\n",
    "\n",
    "# In[7]:\n",
    "\n",
    "idhm_df = pd.DataFrame({u'Estado':table[2][2:].tolist(),u'I2010':table[3][2:].apply(idh_format).tolist(),u'I2000':table[4][2:].apply(idh_format).tolist()})\n",
    "idhm_df[\"Ratio\"] = idhm_df[\"I2010\"]/idhm_df[\"I2000\"]\n",
    "idhm_df[\"idh_level_2000\"] = idhm_df[\"I2000\"].apply(idh_level2)\n",
    "\n",
    "\n",
    "\n",
    "# In[15]:\n",
    "\n",
    "st_pa = np.array([\n",
    "        [u\"Distrito Federal\", 0.0, 0.0, 1.0],\n",
    "        [u\"São Paulo\", 0.0, 0.925, 0.075],\n",
    "        [u\"Santa Catarina\", 0.0, 0.0, 1.0],\n",
    "        [u\"Rio de Janeiro\", 0.4, 0.0, 0.6],\n",
    "        [u\"Paraná\", 0.0, 0.0, 1.0],\n",
    "        [u\"Rio Grande do Sul\", 0.2, 0.4, 0.4],\n",
    "        [u\"Espírito Santo\", 0.0, 0.2, 0.8],\n",
    "        [u\"Goiás\", 0.0, 0.6, 0.4],\n",
    "        [u\"Minas Gerais\", 0.0, 0.8, 0.2],\n",
    "        [u\"Mato Grosso do Sul\", 0.0, 0.6, 0.4],\n",
    "        [u\"Mato Grosso\", 0.0, 0.2, 0.8],\n",
    "        [u\"Amapá\", 0.075, 0.0, 0.925],\n",
    "        [u\"Roraima\", 0.275, 0.4, 0.325], # double check\n",
    "        [u\"Tocantins\", 0.0, 0.2, 0.8], \n",
    "        [u\"Rondônia\", 0.0, 0.4, 0.6],\n",
    "        [u\"Rio Grande do Norte\", 0.0, 0.0, 1.0],\n",
    "        [u\"Ceará\", 0.6, 0.0, 0.4],\n",
    "        [u\"Amazonas\", 0.0, 0.0, 1.0],\n",
    "        [u\"Pernambuco\", 0.0, 0.0, 1.0],\n",
    "        [u\"Sergipe\", 0.4, 0.2, 0.4],\n",
    "        [u\"Acre\", 1.0, 0.0, 0.0],\n",
    "        [u\"Bahia\", 0.4, 0.0, 0.6],\n",
    "        [u\"Paraíba\", 0.0, 0.55, 0.45],\n",
    "        [u\"Piauí\", 0.8, 0.0, 0.2],\n",
    "        [u\"Pará\", 0.4, 0.6, 0.0],\n",
    "        [u\"Maranhão\", 0.0, 0.0, 1.0],\n",
    "        [u\"Alagoas\", 0.0, 0.0, 1.0],\n",
    "       ])\n",
    "\n",
    "\n",
    "st_re = np.array([\n",
    "        [u\"Distrito Federal\", u\"Centro-Oeste\"],\n",
    "        [u\"São Paulo\", u\"Sudeste\"],\n",
    "        [u\"Santa Catarina\", u\"Sul\"],\n",
    "        [u\"Rio de Janeiro\", u\"Sudeste\"],\n",
    "        [u\"Paraná\", u\"Sul\"],\n",
    "        [u\"Rio Grande do Sul\", u\"Sul\"],\n",
    "        [u\"Espírito Santo\", u\"Sudeste\"],\n",
    "        [u\"Goiás\", u\"Centro-Oeste\"],\n",
    "        [u\"Minas Gerais\", u\"Sudeste\"],\n",
    "        [u\"Mato Grosso do Sul\", u\"Centro-Oeste\"],\n",
    "        [u\"Mato Grosso\", u\"Centro-Oeste\"],\n",
    "        [u\"Amapá\", u\"Norte\"],\n",
    "        [u\"Roraima\", u\"Norte\"], # double check\n",
    "        [u\"Tocantins\", u\"Norte\"], \n",
    "        [u\"Rondônia\", u\"Norte\"],\n",
    "        [u\"Rio Grande do Norte\", u\"Nordeste\"],\n",
    "        [u\"Ceará\", u\"Nordeste\"],\n",
    "        [u\"Amazonas\", u\"Norte\"],\n",
    "        [u\"Pernambuco\", u\"Nordeste\"],\n",
    "        [u\"Sergipe\", u\"Nordeste\"],\n",
    "        [u\"Acre\", u\"Norte\"],\n",
    "        [u\"Bahia\", u\"Nordeste\"],\n",
    "        [u\"Paraíba\", u\"Nordeste\"],\n",
    "        [u\"Piauí\", u\"Nordeste\"],\n",
    "        [u\"Pará\", u\"Norte\"],\n",
    "        [u\"Maranhão\", u\"Nordeste\"],\n",
    "        [u\"Alagoas\", u\"Nordeste\"],\n",
    "       ])\n",
    "\n",
    "\n",
    "state_parties_df = pd.DataFrame({\"Estado\":st_pa[:,0],\"PSDB\":np.float64(st_pa[:,2]),\"PT\":np.float64(st_pa[:,1]),\"Outros\":np.float64(st_pa[:,3])})\n",
    "state_regions_df = pd.DataFrame({\"Estado\":st_re[:,0],\"Regiao\":st_re[:,1]})\n",
    "\n",
    "#df = idhm_df.merge(state_parties_df, on=\"Estado\")\n",
    "#df"
   ]
  },
  {
   "cell_type": "code",
   "execution_count": 11,
   "metadata": {
    "collapsed": true
   },
   "outputs": [],
   "source": [
    "idhm_df.to_csv(\"../data/brazil_states_idh_2000_2010.csv\")"
   ]
  },
  {
   "cell_type": "code",
   "execution_count": 12,
   "metadata": {
    "collapsed": true
   },
   "outputs": [],
   "source": [
    "state_parties_df.to_csv(\"../data/brazil_states_parties_2000-2010.csv\")"
   ]
  },
  {
   "cell_type": "code",
   "execution_count": 13,
   "metadata": {
    "collapsed": true
   },
   "outputs": [],
   "source": [
    "state_regions_df.to_csv(\"../data/brazil_states_regions.csv\")"
   ]
  },
  {
   "cell_type": "code",
   "execution_count": null,
   "metadata": {
    "collapsed": true
   },
   "outputs": [],
   "source": []
  }
 ],
 "metadata": {
  "kernelspec": {
   "display_name": "Python 3",
   "language": "python",
   "name": "python3"
  },
  "language_info": {
   "codemirror_mode": {
    "name": "ipython",
    "version": 3
   },
   "file_extension": ".py",
   "mimetype": "text/x-python",
   "name": "python",
   "nbconvert_exporter": "python",
   "pygments_lexer": "ipython3",
   "version": "3.4.0"
  }
 },
 "nbformat": 4,
 "nbformat_minor": 0
}
