{
 "cells": [
  {
   "cell_type": "code",
   "execution_count": 1,
   "metadata": {
    "collapsed": false
   },
   "outputs": [],
   "source": [
    "import pandas as pd\n",
    "import numpy as np\n",
    "import scipy as sp\n",
    "import seaborn as sns\n",
    "import matplotlib.pyplot as plt\n",
    "%matplotlib inline"
   ]
  },
  {
   "cell_type": "markdown",
   "metadata": {},
   "source": [
    "## Carrega dados do FMI referentes ao Brasil"
   ]
  },
  {
   "cell_type": "code",
   "execution_count": 2,
   "metadata": {
    "collapsed": false
   },
   "outputs": [],
   "source": [
    "df = pd.read_csv(\"../data/brazil_gdp_inflation_ir.csv\", dtype={'Time':np.int32, 'GDP':np.float64, 'Inflation':np.float64, 'Interest':np.float64}, index_col=\"Time\")"
   ]
  },
  {
   "cell_type": "markdown",
   "metadata": {},
   "source": [
    "#### Exibimos série histórica"
   ]
  },
  {
   "cell_type": "code",
   "execution_count": 3,
   "metadata": {
    "collapsed": false,
    "scrolled": true
   },
   "outputs": [
    {
     "data": {
      "text/html": [
       "<div style=\"max-height:1000px;max-width:1500px;overflow:auto;\">\n",
       "<table border=\"1\" class=\"dataframe\">\n",
       "  <thead>\n",
       "    <tr style=\"text-align: right;\">\n",
       "      <th></th>\n",
       "      <th>GDP</th>\n",
       "      <th>Inflation</th>\n",
       "      <th>Interest</th>\n",
       "      <th>RInterest</th>\n",
       "    </tr>\n",
       "    <tr>\n",
       "      <th>Time</th>\n",
       "      <th></th>\n",
       "      <th></th>\n",
       "      <th></th>\n",
       "      <th></th>\n",
       "    </tr>\n",
       "  </thead>\n",
       "  <tbody>\n",
       "    <tr>\n",
       "      <th>1981</th>\n",
       "      <td>-4.233655</td>\n",
       "      <td>101.724821</td>\n",
       "      <td>NaN</td>\n",
       "      <td>NaN</td>\n",
       "    </tr>\n",
       "    <tr>\n",
       "      <th>1982</th>\n",
       "      <td>0.817012</td>\n",
       "      <td>100.543498</td>\n",
       "      <td>NaN</td>\n",
       "      <td>NaN</td>\n",
       "    </tr>\n",
       "    <tr>\n",
       "      <th>1983</th>\n",
       "      <td>-2.930728</td>\n",
       "      <td>135.027595</td>\n",
       "      <td>NaN</td>\n",
       "      <td>NaN</td>\n",
       "    </tr>\n",
       "    <tr>\n",
       "      <th>1984</th>\n",
       "      <td>6.358646</td>\n",
       "      <td>192.121770</td>\n",
       "      <td>NaN</td>\n",
       "      <td>NaN</td>\n",
       "    </tr>\n",
       "    <tr>\n",
       "      <th>1985</th>\n",
       "      <td>7.526882</td>\n",
       "      <td>225.991556</td>\n",
       "      <td>NaN</td>\n",
       "      <td>NaN</td>\n",
       "    </tr>\n",
       "    <tr>\n",
       "      <th>1986</th>\n",
       "      <td>7.000000</td>\n",
       "      <td>147.142166</td>\n",
       "      <td>NaN</td>\n",
       "      <td>NaN</td>\n",
       "    </tr>\n",
       "    <tr>\n",
       "      <th>1987</th>\n",
       "      <td>3.380561</td>\n",
       "      <td>228.335135</td>\n",
       "      <td>NaN</td>\n",
       "      <td>NaN</td>\n",
       "    </tr>\n",
       "    <tr>\n",
       "      <th>1988</th>\n",
       "      <td>-0.059936</td>\n",
       "      <td>629.114727</td>\n",
       "      <td>NaN</td>\n",
       "      <td>NaN</td>\n",
       "    </tr>\n",
       "    <tr>\n",
       "      <th>1989</th>\n",
       "      <td>4.024481</td>\n",
       "      <td>1430.723231</td>\n",
       "      <td>NaN</td>\n",
       "      <td>NaN</td>\n",
       "    </tr>\n",
       "    <tr>\n",
       "      <th>1990</th>\n",
       "      <td>0.426087</td>\n",
       "      <td>2947.732930</td>\n",
       "      <td>NaN</td>\n",
       "      <td>NaN</td>\n",
       "    </tr>\n",
       "    <tr>\n",
       "      <th>1991</th>\n",
       "      <td>1.030000</td>\n",
       "      <td>432.784602</td>\n",
       "      <td>NaN</td>\n",
       "      <td>NaN</td>\n",
       "    </tr>\n",
       "    <tr>\n",
       "      <th>1992</th>\n",
       "      <td>-0.540000</td>\n",
       "      <td>951.648460</td>\n",
       "      <td>NaN</td>\n",
       "      <td>NaN</td>\n",
       "    </tr>\n",
       "    <tr>\n",
       "      <th>1993</th>\n",
       "      <td>4.920000</td>\n",
       "      <td>1927.983498</td>\n",
       "      <td>NaN</td>\n",
       "      <td>NaN</td>\n",
       "    </tr>\n",
       "    <tr>\n",
       "      <th>1994</th>\n",
       "      <td>5.850000</td>\n",
       "      <td>2075.887182</td>\n",
       "      <td>NaN</td>\n",
       "      <td>NaN</td>\n",
       "    </tr>\n",
       "    <tr>\n",
       "      <th>1995</th>\n",
       "      <td>4.220000</td>\n",
       "      <td>66.007876</td>\n",
       "      <td>NaN</td>\n",
       "      <td>NaN</td>\n",
       "    </tr>\n",
       "    <tr>\n",
       "      <th>1996</th>\n",
       "      <td>2.150499</td>\n",
       "      <td>15.757436</td>\n",
       "      <td>NaN</td>\n",
       "      <td>NaN</td>\n",
       "    </tr>\n",
       "    <tr>\n",
       "      <th>1997</th>\n",
       "      <td>3.375298</td>\n",
       "      <td>6.925317</td>\n",
       "      <td>NaN</td>\n",
       "      <td>NaN</td>\n",
       "    </tr>\n",
       "    <tr>\n",
       "      <th>1998</th>\n",
       "      <td>0.035346</td>\n",
       "      <td>3.198592</td>\n",
       "      <td>NaN</td>\n",
       "      <td>NaN</td>\n",
       "    </tr>\n",
       "    <tr>\n",
       "      <th>1999</th>\n",
       "      <td>0.254079</td>\n",
       "      <td>4.857966</td>\n",
       "      <td>19.00</td>\n",
       "      <td>14.142034</td>\n",
       "    </tr>\n",
       "    <tr>\n",
       "      <th>2000</th>\n",
       "      <td>4.306187</td>\n",
       "      <td>7.044702</td>\n",
       "      <td>15.75</td>\n",
       "      <td>8.705298</td>\n",
       "    </tr>\n",
       "    <tr>\n",
       "      <th>2001</th>\n",
       "      <td>1.310000</td>\n",
       "      <td>6.837831</td>\n",
       "      <td>19.00</td>\n",
       "      <td>12.162169</td>\n",
       "    </tr>\n",
       "    <tr>\n",
       "      <th>2002</th>\n",
       "      <td>2.660000</td>\n",
       "      <td>8.450221</td>\n",
       "      <td>25.00</td>\n",
       "      <td>16.549779</td>\n",
       "    </tr>\n",
       "    <tr>\n",
       "      <th>2003</th>\n",
       "      <td>1.150000</td>\n",
       "      <td>14.715326</td>\n",
       "      <td>16.50</td>\n",
       "      <td>1.784674</td>\n",
       "    </tr>\n",
       "    <tr>\n",
       "      <th>2004</th>\n",
       "      <td>5.710000</td>\n",
       "      <td>6.599125</td>\n",
       "      <td>17.75</td>\n",
       "      <td>11.150875</td>\n",
       "    </tr>\n",
       "    <tr>\n",
       "      <th>2005</th>\n",
       "      <td>3.160000</td>\n",
       "      <td>6.867350</td>\n",
       "      <td>18.00</td>\n",
       "      <td>11.132650</td>\n",
       "    </tr>\n",
       "    <tr>\n",
       "      <th>2006</th>\n",
       "      <td>3.960000</td>\n",
       "      <td>4.183681</td>\n",
       "      <td>13.25</td>\n",
       "      <td>9.066319</td>\n",
       "    </tr>\n",
       "    <tr>\n",
       "      <th>2007</th>\n",
       "      <td>6.090000</td>\n",
       "      <td>3.637028</td>\n",
       "      <td>11.25</td>\n",
       "      <td>7.612972</td>\n",
       "    </tr>\n",
       "    <tr>\n",
       "      <th>2008</th>\n",
       "      <td>5.170000</td>\n",
       "      <td>5.663099</td>\n",
       "      <td>13.75</td>\n",
       "      <td>8.086901</td>\n",
       "    </tr>\n",
       "    <tr>\n",
       "      <th>2009</th>\n",
       "      <td>-0.330000</td>\n",
       "      <td>4.886408</td>\n",
       "      <td>8.75</td>\n",
       "      <td>3.863592</td>\n",
       "    </tr>\n",
       "    <tr>\n",
       "      <th>2010</th>\n",
       "      <td>7.530000</td>\n",
       "      <td>5.038317</td>\n",
       "      <td>10.75</td>\n",
       "      <td>5.711683</td>\n",
       "    </tr>\n",
       "    <tr>\n",
       "      <th>2011</th>\n",
       "      <td>2.730000</td>\n",
       "      <td>6.636199</td>\n",
       "      <td>11.00</td>\n",
       "      <td>4.363801</td>\n",
       "    </tr>\n",
       "    <tr>\n",
       "      <th>2012</th>\n",
       "      <td>1.821317</td>\n",
       "      <td>5.608352</td>\n",
       "      <td>7.25</td>\n",
       "      <td>1.641648</td>\n",
       "    </tr>\n",
       "    <tr>\n",
       "      <th>2013</th>\n",
       "      <td>2.176416</td>\n",
       "      <td>5.839574</td>\n",
       "      <td>10.00</td>\n",
       "      <td>4.160426</td>\n",
       "    </tr>\n",
       "  </tbody>\n",
       "</table>\n",
       "</div>"
      ],
      "text/plain": [
       "           GDP    Inflation  Interest  RInterest\n",
       "Time                                            \n",
       "1981 -4.233655   101.724821       NaN        NaN\n",
       "1982  0.817012   100.543498       NaN        NaN\n",
       "1983 -2.930728   135.027595       NaN        NaN\n",
       "1984  6.358646   192.121770       NaN        NaN\n",
       "1985  7.526882   225.991556       NaN        NaN\n",
       "1986  7.000000   147.142166       NaN        NaN\n",
       "1987  3.380561   228.335135       NaN        NaN\n",
       "1988 -0.059936   629.114727       NaN        NaN\n",
       "1989  4.024481  1430.723231       NaN        NaN\n",
       "1990  0.426087  2947.732930       NaN        NaN\n",
       "1991  1.030000   432.784602       NaN        NaN\n",
       "1992 -0.540000   951.648460       NaN        NaN\n",
       "1993  4.920000  1927.983498       NaN        NaN\n",
       "1994  5.850000  2075.887182       NaN        NaN\n",
       "1995  4.220000    66.007876       NaN        NaN\n",
       "1996  2.150499    15.757436       NaN        NaN\n",
       "1997  3.375298     6.925317       NaN        NaN\n",
       "1998  0.035346     3.198592       NaN        NaN\n",
       "1999  0.254079     4.857966     19.00  14.142034\n",
       "2000  4.306187     7.044702     15.75   8.705298\n",
       "2001  1.310000     6.837831     19.00  12.162169\n",
       "2002  2.660000     8.450221     25.00  16.549779\n",
       "2003  1.150000    14.715326     16.50   1.784674\n",
       "2004  5.710000     6.599125     17.75  11.150875\n",
       "2005  3.160000     6.867350     18.00  11.132650\n",
       "2006  3.960000     4.183681     13.25   9.066319\n",
       "2007  6.090000     3.637028     11.25   7.612972\n",
       "2008  5.170000     5.663099     13.75   8.086901\n",
       "2009 -0.330000     4.886408      8.75   3.863592\n",
       "2010  7.530000     5.038317     10.75   5.711683\n",
       "2011  2.730000     6.636199     11.00   4.363801\n",
       "2012  1.821317     5.608352      7.25   1.641648\n",
       "2013  2.176416     5.839574     10.00   4.160426"
      ]
     },
     "execution_count": 3,
     "metadata": {},
     "output_type": "execute_result"
    }
   ],
   "source": [
    "df['RInterest'] = df.Interest - df.Inflation\n",
    "brazil = df.sort()\n",
    "brazil"
   ]
  },
  {
   "cell_type": "markdown",
   "metadata": {},
   "source": [
    "##Regressão entre taxa de inflação e taxa de crescimento do PIB"
   ]
  },
  {
   "cell_type": "markdown",
   "metadata": {},
   "source": [
    "Como já evidenciado em outros estudos [[1](http://citeseerx.ist.psu.edu/viewdoc/download?doi=10.1.1.197.5261&rep=rep1&type=pdf)] [[2](https://www.imf.org/external/pubs/cat/longres.cfm?sk=1873.0)] [[3](http://courses.umass.edu/econ797a-rpollin/Bruno%201995%20paper.pdf)] e [[4](http://research.stlouisfed.org/publications/review/96/05/9605mb.pdf)] não existe correlação negativa entre inflação e crescimento para valores de inflação de até 10%, mesmo no Brasil."
   ]
  },
  {
   "cell_type": "code",
   "execution_count": 4,
   "metadata": {
    "collapsed": false
   },
   "outputs": [
    {
     "data": {
      "text/plain": [
       "<matplotlib.text.Text at 0x7f2c1f93e8d0>"
      ]
     },
     "execution_count": 4,
     "metadata": {},
     "output_type": "execute_result"
    },
    {
     "data": {
      "image/png": "[encoded data removed]",
      "text/plain": [
       "<matplotlib.figure.Figure at 0x7f2c21987a90>"
      ]
     },
     "metadata": {},
     "output_type": "display_data"
    }
   ],
   "source": [
    "filter = brazil.Inflation < 11.0\n",
    "sns.set(style=\"darkgrid\")\n",
    "plt.title(\"PIB vs Inflação até faixa de 10%\")\n",
    "ax = sns.regplot(brazil[filter].Inflation, brazil[filter].GDP, robust=True, n_boot=500)\n",
    "ax.set_xlabel(u\"Inflação\")\n",
    "ax.set_ylabel(u\"PIB\")"
   ]
  },
  {
   "cell_type": "markdown",
   "metadata": {},
   "source": [
    "## Regressão entre taxa de juros e inflação"
   ]
  },
  {
   "cell_type": "markdown",
   "metadata": {},
   "source": [
    "Um estudo recente [[4](http://www.scielo.br/scielo.php?pid=S0101-31572014000100001&script=sci_arttext)] aponta para a falta de evidências nas explicações frequentemente fornecidas para que as taxas de juros no Brasil precisem ser tão altas e por tão longo tempo e sugerem:\n",
    "> *Hence a wise central bank should consider \"testing\" the market to make sure it is not dealing with an extreme equilibrium configuration or a long standing disequilibrium.*\n",
    "\n",
    "Inpirado pelos 4 estudos citados até aqui resolvemos verificar a correlação entre taxas de juros e inflação nos patamares de até 10%."
   ]
  },
  {
   "cell_type": "code",
   "execution_count": 5,
   "metadata": {
    "collapsed": false
   },
   "outputs": [
    {
     "data": {
      "image/png": "[encoded data removed]",
      "text/plain": [
       "<matplotlib.figure.Figure at 0x7f2c21987a58>"
      ]
     },
     "metadata": {},
     "output_type": "display_data"
    }
   ],
   "source": [
    "filter = brazil.Inflation < 11.0\n",
    "color = sns.color_palette()[2]\n",
    "f, (ax1, ax2) = plt.subplots(1, 2, sharey=True)\n",
    "f.set_figwidth(12)\n",
    "sns.regplot(brazil[filter].Interest, brazil[filter].Inflation, robust=True, n_boot=500, ax=ax1)\n",
    "sns.regplot(brazil[filter].RInterest, brazil[filter].Inflation, robust=True, n_boot=500, ax=ax2).set_ylabel(\"\")\n",
    "ax1.set_xlabel(u\"Taxa de juros nominal\")\n",
    "ax2.set_xlabel(u\"Taxa de juros real\")\n",
    "ax1.set_ylabel(u\"Inflação\")\n",
    "\n",
    "f.tight_layout()"
   ]
  },
  {
   "cell_type": "markdown",
   "metadata": {},
   "source": [
    "Note inflação correlaciona positivamente com taxa de juros, porém isso se explica pelo fato de se subir os juros\n",
    "quando se entende que inflação está elevada. Alega-se em geral que variações nas taxas de juros levam ao\n",
    "menos 6 meses para atuarem sobre o mercado, assim na próxima seção fazemos um shift de um ano sobre a taxa de juros."
   ]
  },
  {
   "cell_type": "markdown",
   "metadata": {},
   "source": [
    "## Regressão entre taxa de juros e inflação no ano seguinte."
   ]
  },
  {
   "cell_type": "markdown",
   "metadata": {},
   "source": [
    "Shift de um ano na taxa de juros."
   ]
  },
  {
   "cell_type": "code",
   "execution_count": 6,
   "metadata": {
    "collapsed": false
   },
   "outputs": [],
   "source": [
    "brazil_ir_s1 = brazil.copy()\n",
    "brazil_ir_s1.Interest = brazil.Interest.shift(1)\n",
    "brazil_ir_s1.RInterest = brazil.RInterest.shift(1)"
   ]
  },
  {
   "cell_type": "markdown",
   "metadata": {},
   "source": [
    "Sanity check"
   ]
  },
  {
   "cell_type": "code",
   "execution_count": 7,
   "metadata": {
    "collapsed": false
   },
   "outputs": [
    {
     "data": {
      "text/html": [
       "<div style=\"max-height:1000px;max-width:1500px;overflow:auto;\">\n",
       "<table border=\"1\" class=\"dataframe\">\n",
       "  <thead>\n",
       "    <tr style=\"text-align: right;\">\n",
       "      <th></th>\n",
       "      <th>GDP</th>\n",
       "      <th>Inflation</th>\n",
       "      <th>Interest</th>\n",
       "      <th>RInterest</th>\n",
       "    </tr>\n",
       "    <tr>\n",
       "      <th>Time</th>\n",
       "      <th></th>\n",
       "      <th></th>\n",
       "      <th></th>\n",
       "      <th></th>\n",
       "    </tr>\n",
       "  </thead>\n",
       "  <tbody>\n",
       "    <tr>\n",
       "      <th>1997</th>\n",
       "      <td>3.375298</td>\n",
       "      <td>6.925317</td>\n",
       "      <td>NaN</td>\n",
       "      <td>NaN</td>\n",
       "    </tr>\n",
       "    <tr>\n",
       "      <th>1998</th>\n",
       "      <td>0.035346</td>\n",
       "      <td>3.198592</td>\n",
       "      <td>NaN</td>\n",
       "      <td>NaN</td>\n",
       "    </tr>\n",
       "    <tr>\n",
       "      <th>1999</th>\n",
       "      <td>0.254079</td>\n",
       "      <td>4.857966</td>\n",
       "      <td>NaN</td>\n",
       "      <td>NaN</td>\n",
       "    </tr>\n",
       "    <tr>\n",
       "      <th>2000</th>\n",
       "      <td>4.306187</td>\n",
       "      <td>7.044702</td>\n",
       "      <td>19.00</td>\n",
       "      <td>14.142034</td>\n",
       "    </tr>\n",
       "    <tr>\n",
       "      <th>2001</th>\n",
       "      <td>1.310000</td>\n",
       "      <td>6.837831</td>\n",
       "      <td>15.75</td>\n",
       "      <td>8.705298</td>\n",
       "    </tr>\n",
       "    <tr>\n",
       "      <th>2002</th>\n",
       "      <td>2.660000</td>\n",
       "      <td>8.450221</td>\n",
       "      <td>19.00</td>\n",
       "      <td>12.162169</td>\n",
       "    </tr>\n",
       "    <tr>\n",
       "      <th>2004</th>\n",
       "      <td>5.710000</td>\n",
       "      <td>6.599125</td>\n",
       "      <td>16.50</td>\n",
       "      <td>1.784674</td>\n",
       "    </tr>\n",
       "    <tr>\n",
       "      <th>2005</th>\n",
       "      <td>3.160000</td>\n",
       "      <td>6.867350</td>\n",
       "      <td>17.75</td>\n",
       "      <td>11.150875</td>\n",
       "    </tr>\n",
       "    <tr>\n",
       "      <th>2006</th>\n",
       "      <td>3.960000</td>\n",
       "      <td>4.183681</td>\n",
       "      <td>18.00</td>\n",
       "      <td>11.132650</td>\n",
       "    </tr>\n",
       "    <tr>\n",
       "      <th>2007</th>\n",
       "      <td>6.090000</td>\n",
       "      <td>3.637028</td>\n",
       "      <td>13.25</td>\n",
       "      <td>9.066319</td>\n",
       "    </tr>\n",
       "    <tr>\n",
       "      <th>2008</th>\n",
       "      <td>5.170000</td>\n",
       "      <td>5.663099</td>\n",
       "      <td>11.25</td>\n",
       "      <td>7.612972</td>\n",
       "    </tr>\n",
       "    <tr>\n",
       "      <th>2009</th>\n",
       "      <td>-0.330000</td>\n",
       "      <td>4.886408</td>\n",
       "      <td>13.75</td>\n",
       "      <td>8.086901</td>\n",
       "    </tr>\n",
       "    <tr>\n",
       "      <th>2010</th>\n",
       "      <td>7.530000</td>\n",
       "      <td>5.038317</td>\n",
       "      <td>8.75</td>\n",
       "      <td>3.863592</td>\n",
       "    </tr>\n",
       "    <tr>\n",
       "      <th>2011</th>\n",
       "      <td>2.730000</td>\n",
       "      <td>6.636199</td>\n",
       "      <td>10.75</td>\n",
       "      <td>5.711683</td>\n",
       "    </tr>\n",
       "    <tr>\n",
       "      <th>2012</th>\n",
       "      <td>1.821317</td>\n",
       "      <td>5.608352</td>\n",
       "      <td>11.00</td>\n",
       "      <td>4.363801</td>\n",
       "    </tr>\n",
       "    <tr>\n",
       "      <th>2013</th>\n",
       "      <td>2.176416</td>\n",
       "      <td>5.839574</td>\n",
       "      <td>7.25</td>\n",
       "      <td>1.641648</td>\n",
       "    </tr>\n",
       "  </tbody>\n",
       "</table>\n",
       "</div>"
      ],
      "text/plain": [
       "           GDP  Inflation  Interest  RInterest\n",
       "Time                                          \n",
       "1997  3.375298   6.925317       NaN        NaN\n",
       "1998  0.035346   3.198592       NaN        NaN\n",
       "1999  0.254079   4.857966       NaN        NaN\n",
       "2000  4.306187   7.044702     19.00  14.142034\n",
       "2001  1.310000   6.837831     15.75   8.705298\n",
       "2002  2.660000   8.450221     19.00  12.162169\n",
       "2004  5.710000   6.599125     16.50   1.784674\n",
       "2005  3.160000   6.867350     17.75  11.150875\n",
       "2006  3.960000   4.183681     18.00  11.132650\n",
       "2007  6.090000   3.637028     13.25   9.066319\n",
       "2008  5.170000   5.663099     11.25   7.612972\n",
       "2009 -0.330000   4.886408     13.75   8.086901\n",
       "2010  7.530000   5.038317      8.75   3.863592\n",
       "2011  2.730000   6.636199     10.75   5.711683\n",
       "2012  1.821317   5.608352     11.00   4.363801\n",
       "2013  2.176416   5.839574      7.25   1.641648"
      ]
     },
     "execution_count": 7,
     "metadata": {},
     "output_type": "execute_result"
    }
   ],
   "source": [
    "brazil_ir_s1[brazil_ir_s1.Inflation < 11]"
   ]
  },
  {
   "cell_type": "code",
   "execution_count": 8,
   "metadata": {
    "collapsed": false
   },
   "outputs": [
    {
     "data": {
      "image/png": "[encoded data removed]",
      "text/plain": [
       "<matplotlib.figure.Figure at 0x7f2c1d81bcf8>"
      ]
     },
     "metadata": {},
     "output_type": "display_data"
    }
   ],
   "source": [
    "filter = brazil_ir_s1.Inflation < 11\n",
    "\n",
    "color = sns.color_palette()[2]\n",
    "f, (ax1, ax2) = plt.subplots(1, 2, sharey=True)\n",
    "f.set_figwidth(12)\n",
    "sns.regplot(brazil_ir_s1[filter].Interest, brazil_ir_s1[filter].Inflation, robust=True, n_boot=500, ax=ax1)\n",
    "sns.regplot(brazil_ir_s1[filter].RInterest, brazil_ir_s1[filter].Inflation, robust=True, n_boot=500, ax=ax2).set_ylabel(\"\")\n",
    "ax1.set_xlabel(u\"Taxa de juros nominal do ano anterior\")\n",
    "ax2.set_xlabel(u\"Taxa de juros real do ano anterior\")\n",
    "ax1.set_ylabel(u\"Inflação\")\n",
    "\n",
    "f.tight_layout()"
   ]
  },
  {
   "cell_type": "markdown",
   "metadata": {},
   "source": [
    "Note que a **não há evidência estatística** de que taxas de juros maiores provoquem reduçaõ da inflação no ano seguinte!"
   ]
  },
  {
   "cell_type": "markdown",
   "metadata": {},
   "source": [
    "Talvez os efeitos da taxas de juros no Brasil sejam meio retardados... :-)\n",
    "Vamos verificar para 2 anos de diferença"
   ]
  },
  {
   "cell_type": "markdown",
   "metadata": {},
   "source": [
    "## Regressão entre taxa de juros e inflação dois anos à frente."
   ]
  },
  {
   "cell_type": "code",
   "execution_count": 9,
   "metadata": {
    "collapsed": true
   },
   "outputs": [],
   "source": [
    "brazil_ir_s2 = brazil.copy()\n",
    "brazil_ir_s2.Interest = brazil.Interest.shift(2)\n",
    "brazil_ir_s2.RInterest = brazil.RInterest.shift(2)"
   ]
  },
  {
   "cell_type": "code",
   "execution_count": 10,
   "metadata": {
    "collapsed": false
   },
   "outputs": [
    {
     "data": {
      "image/png": "[encoded data removed]",
      "text/plain": [
       "<matplotlib.figure.Figure at 0x7f2c1d6f4080>"
      ]
     },
     "metadata": {},
     "output_type": "display_data"
    }
   ],
   "source": [
    "filter = brazil_ir_s2.Inflation < 11\n",
    "sns.set(style=\"darkgrid\")\n",
    "color = sns.color_palette()[2]\n",
    "f, (ax1, ax2) = plt.subplots(1, 2, sharey=True)\n",
    "f.set_figwidth(12)\n",
    "sns.regplot(brazil_ir_s2[filter].Interest, brazil_ir_s2[filter].Inflation, robust=True, n_boot=500, ax=ax1)\n",
    "sns.regplot(brazil_ir_s2[filter].RInterest, brazil_ir_s2[filter].Inflation, robust=True, n_boot=500, ax=ax2).set_ylabel(\"\")\n",
    "ax1.set_xlabel(u\"Taxa de juros nominal de dois anos antes\")\n",
    "ax2.set_xlabel(u\"Taxa de juros real de dois anos antes\")\n",
    "ax1.set_ylabel(u\"Inflação\")\n",
    "\n",
    "f.tight_layout()"
   ]
  },
  {
   "cell_type": "markdown",
   "metadata": {},
   "source": [
    "Note que a **não há evidência estatística** de que taxas de juros maiores provoquem redução da inflação dois anos após!"
   ]
  },
  {
   "cell_type": "markdown",
   "metadata": {},
   "source": [
    "## Conclusão"
   ]
  },
  {
   "cell_type": "markdown",
   "metadata": {
    "collapsed": true
   },
   "source": [
    "*Work in progress*"
   ]
  },
  {
   "cell_type": "code",
   "execution_count": null,
   "metadata": {
    "collapsed": true
   },
   "outputs": [],
   "source": []
  },
  {
   "cell_type": "code",
   "execution_count": null,
   "metadata": {
    "collapsed": true
   },
   "outputs": [],
   "source": []
  }
 ],
 "metadata": {
  "kernelspec": {
   "display_name": "Python 3",
   "language": "python",
   "name": "python3"
  },
  "language_info": {
   "codemirror_mode": {
    "name": "ipython",
    "version": 3
   },
   "file_extension": ".py",
   "mimetype": "text/x-python",
   "name": "python",
   "nbconvert_exporter": "python",
   "pygments_lexer": "ipython3",
   "version": "3.4.0"
  }
 },
 "nbformat": 4,
 "nbformat_minor": 0
}
