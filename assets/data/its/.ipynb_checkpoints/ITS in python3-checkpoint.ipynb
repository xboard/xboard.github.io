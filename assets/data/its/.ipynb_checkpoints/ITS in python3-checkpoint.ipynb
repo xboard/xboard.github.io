{
 "cells": [
  {
   "cell_type": "code",
   "execution_count": 1,
   "id": "b8712aec",
   "metadata": {},
   "outputs": [],
   "source": [
    "%matplotlib inline"
   ]
  },
  {
   "cell_type": "code",
   "execution_count": 2,
   "id": "b71a0613",
   "metadata": {},
   "outputs": [],
   "source": [
    "import matplotlib.pyplot as plt\n",
    "import numpy as np\n",
    "import pandas as pd\n",
    "import statsmodels.api as sm\n",
    "import statsmodels.formula.api as smf"
   ]
  },
  {
   "cell_type": "code",
   "execution_count": 3,
   "id": "3165559e",
   "metadata": {},
   "outputs": [
    {
     "data": {
      "text/html": [
       "<div>\n",
       "<style scoped>\n",
       "    .dataframe tbody tr th:only-of-type {\n",
       "        vertical-align: middle;\n",
       "    }\n",
       "\n",
       "    .dataframe tbody tr th {\n",
       "        vertical-align: top;\n",
       "    }\n",
       "\n",
       "    .dataframe thead th {\n",
       "        text-align: right;\n",
       "    }\n",
       "</style>\n",
       "<table border=\"1\" class=\"dataframe\">\n",
       "  <thead>\n",
       "    <tr style=\"text-align: right;\">\n",
       "      <th></th>\n",
       "      <th>Y</th>\n",
       "      <th>T</th>\n",
       "      <th>D</th>\n",
       "      <th>P</th>\n",
       "      <th>Weeks</th>\n",
       "    </tr>\n",
       "  </thead>\n",
       "  <tbody>\n",
       "    <tr>\n",
       "      <th>0</th>\n",
       "      <td>12.91645</td>\n",
       "      <td>1</td>\n",
       "      <td>0</td>\n",
       "      <td>0</td>\n",
       "      <td>1</td>\n",
       "    </tr>\n",
       "    <tr>\n",
       "      <th>1</th>\n",
       "      <td>13.03090</td>\n",
       "      <td>2</td>\n",
       "      <td>0</td>\n",
       "      <td>0</td>\n",
       "      <td>2</td>\n",
       "    </tr>\n",
       "    <tr>\n",
       "      <th>2</th>\n",
       "      <td>13.05717</td>\n",
       "      <td>3</td>\n",
       "      <td>0</td>\n",
       "      <td>0</td>\n",
       "      <td>3</td>\n",
       "    </tr>\n",
       "    <tr>\n",
       "      <th>3</th>\n",
       "      <td>13.16564</td>\n",
       "      <td>4</td>\n",
       "      <td>0</td>\n",
       "      <td>0</td>\n",
       "      <td>4</td>\n",
       "    </tr>\n",
       "    <tr>\n",
       "      <th>4</th>\n",
       "      <td>13.19299</td>\n",
       "      <td>5</td>\n",
       "      <td>0</td>\n",
       "      <td>0</td>\n",
       "      <td>5</td>\n",
       "    </tr>\n",
       "  </tbody>\n",
       "</table>\n",
       "</div>"
      ],
      "text/plain": [
       "          Y  T  D  P  Weeks\n",
       "0  12.91645  1  0  0      1\n",
       "1  13.03090  2  0  0      2\n",
       "2  13.05717  3  0  0      3\n",
       "3  13.16564  4  0  0      4\n",
       "4  13.19299  5  0  0      5"
      ]
     },
     "execution_count": 3,
     "metadata": {},
     "output_type": "execute_result"
    }
   ],
   "source": [
    "df = pd.read_csv(\"enriched_data.csv\")\n",
    "df['Weeks'] = df['T']\n",
    "df.head()"
   ]
  },
  {
   "cell_type": "code",
   "execution_count": 4,
   "id": "8b383116",
   "metadata": {},
   "outputs": [],
   "source": [
    "model = smf.ols(formula='Y ~ T + D + P', data=df)"
   ]
  },
  {
   "cell_type": "code",
   "execution_count": 5,
   "id": "331efef1",
   "metadata": {},
   "outputs": [
    {
     "name": "stdout",
     "output_type": "stream",
     "text": [
      "                            OLS Regression Results                            \n",
      "==============================================================================\n",
      "Dep. Variable:                      Y   R-squared:                       0.666\n",
      "Model:                            OLS   Adj. R-squared:                  0.643\n",
      "Method:                 Least Squares   F-statistic:                     29.18\n",
      "Date:                Wed, 29 Dec 2021   Prob (F-statistic):           1.52e-10\n",
      "Time:                        09:46:21   Log-Likelihood:                 4.8860\n",
      "No. Observations:                  48   AIC:                            -1.772\n",
      "Df Residuals:                      44   BIC:                             5.713\n",
      "Df Model:                           3                                         \n",
      "Covariance Type:            nonrobust                                         \n",
      "==============================================================================\n",
      "                 coef    std err          t      P>|t|      [0.025      0.975]\n",
      "------------------------------------------------------------------------------\n",
      "Intercept     12.9100      0.096    134.225      0.000      12.716      13.104\n",
      "T              0.0129      0.007      1.920      0.061      -0.001       0.026\n",
      "D             -0.5202      0.132     -3.942      0.000      -0.786      -0.254\n",
      "P             -0.0297      0.010     -3.115      0.003      -0.049      -0.010\n",
      "==============================================================================\n",
      "Omnibus:                        3.137   Durbin-Watson:                   0.665\n",
      "Prob(Omnibus):                  0.208   Jarque-Bera (JB):                1.995\n",
      "Skew:                           0.279   Prob(JB):                        0.369\n",
      "Kurtosis:                       2.172   Cond. No.                         125.\n",
      "==============================================================================\n",
      "\n",
      "Notes:\n",
      "[1] Standard Errors assume that the covariance matrix of the errors is correctly specified.\n"
     ]
    }
   ],
   "source": [
    "res = model.fit()\n",
    "print(res.summary())"
   ]
  },
  {
   "cell_type": "code",
   "execution_count": 6,
   "id": "945ee92c",
   "metadata": {},
   "outputs": [
    {
     "name": "stdout",
     "output_type": "stream",
     "text": [
      "Intercept    12.910017\n",
      "T             0.012923\n",
      "D            -0.520244\n",
      "P            -0.029658\n",
      "dtype: float64\n"
     ]
    }
   ],
   "source": [
    "print(res.params)"
   ]
  },
  {
   "cell_type": "code",
   "execution_count": 7,
   "id": "f793c1ad",
   "metadata": {},
   "outputs": [
    {
     "data": {
      "text/plain": [
       "<matplotlib.collections.PathCollection at 0x7fa83880efa0>"
      ]
     },
     "execution_count": 7,
     "metadata": {},
     "output_type": "execute_result"
    },
    {
     "data": {
      "image/png": "[encoded data removed]",
      "text/plain": [
       "<Figure size 432x288 with 1 Axes>"
      ]
     },
     "metadata": {
      "needs_background": "light"
     },
     "output_type": "display_data"
    }
   ],
   "source": [
    "plt.scatter(df[\"T\"], df.Y - res.fittedvalues)"
   ]
  },
  {
   "cell_type": "code",
   "execution_count": 8,
   "id": "53da5bdf",
   "metadata": {},
   "outputs": [
    {
     "data": {
      "text/html": [
       "<div>\n",
       "<style scoped>\n",
       "    .dataframe tbody tr th:only-of-type {\n",
       "        vertical-align: middle;\n",
       "    }\n",
       "\n",
       "    .dataframe tbody tr th {\n",
       "        vertical-align: top;\n",
       "    }\n",
       "\n",
       "    .dataframe thead th {\n",
       "        text-align: right;\n",
       "    }\n",
       "</style>\n",
       "<table border=\"1\" class=\"dataframe\">\n",
       "  <thead>\n",
       "    <tr style=\"text-align: right;\">\n",
       "      <th></th>\n",
       "      <th>Weeks</th>\n",
       "      <th>residuals</th>\n",
       "    </tr>\n",
       "  </thead>\n",
       "  <tbody>\n",
       "    <tr>\n",
       "      <th>0</th>\n",
       "      <td>1</td>\n",
       "      <td>-0.006490</td>\n",
       "    </tr>\n",
       "    <tr>\n",
       "      <th>1</th>\n",
       "      <td>2</td>\n",
       "      <td>0.095037</td>\n",
       "    </tr>\n",
       "    <tr>\n",
       "      <th>2</th>\n",
       "      <td>3</td>\n",
       "      <td>0.108383</td>\n",
       "    </tr>\n",
       "    <tr>\n",
       "      <th>3</th>\n",
       "      <td>4</td>\n",
       "      <td>0.203930</td>\n",
       "    </tr>\n",
       "    <tr>\n",
       "      <th>4</th>\n",
       "      <td>5</td>\n",
       "      <td>0.218357</td>\n",
       "    </tr>\n",
       "    <tr>\n",
       "      <th>5</th>\n",
       "      <td>6</td>\n",
       "      <td>-0.260466</td>\n",
       "    </tr>\n",
       "    <tr>\n",
       "      <th>6</th>\n",
       "      <td>7</td>\n",
       "      <td>-0.164349</td>\n",
       "    </tr>\n",
       "    <tr>\n",
       "      <th>7</th>\n",
       "      <td>8</td>\n",
       "      <td>-0.262602</td>\n",
       "    </tr>\n",
       "    <tr>\n",
       "      <th>8</th>\n",
       "      <td>9</td>\n",
       "      <td>-0.084596</td>\n",
       "    </tr>\n",
       "    <tr>\n",
       "      <th>9</th>\n",
       "      <td>10</td>\n",
       "      <td>-0.038389</td>\n",
       "    </tr>\n",
       "    <tr>\n",
       "      <th>10</th>\n",
       "      <td>11</td>\n",
       "      <td>-0.172222</td>\n",
       "    </tr>\n",
       "    <tr>\n",
       "      <th>11</th>\n",
       "      <td>12</td>\n",
       "      <td>-0.218765</td>\n",
       "    </tr>\n",
       "    <tr>\n",
       "      <th>12</th>\n",
       "      <td>13</td>\n",
       "      <td>-0.023708</td>\n",
       "    </tr>\n",
       "    <tr>\n",
       "      <th>13</th>\n",
       "      <td>14</td>\n",
       "      <td>-0.054341</td>\n",
       "    </tr>\n",
       "    <tr>\n",
       "      <th>14</th>\n",
       "      <td>15</td>\n",
       "      <td>0.153885</td>\n",
       "    </tr>\n",
       "    <tr>\n",
       "      <th>15</th>\n",
       "      <td>16</td>\n",
       "      <td>0.043732</td>\n",
       "    </tr>\n",
       "    <tr>\n",
       "      <th>16</th>\n",
       "      <td>17</td>\n",
       "      <td>0.098709</td>\n",
       "    </tr>\n",
       "    <tr>\n",
       "      <th>17</th>\n",
       "      <td>18</td>\n",
       "      <td>0.444686</td>\n",
       "    </tr>\n",
       "    <tr>\n",
       "      <th>18</th>\n",
       "      <td>19</td>\n",
       "      <td>0.350493</td>\n",
       "    </tr>\n",
       "    <tr>\n",
       "      <th>19</th>\n",
       "      <td>20</td>\n",
       "      <td>0.105240</td>\n",
       "    </tr>\n",
       "    <tr>\n",
       "      <th>20</th>\n",
       "      <td>21</td>\n",
       "      <td>0.067716</td>\n",
       "    </tr>\n",
       "    <tr>\n",
       "      <th>21</th>\n",
       "      <td>22</td>\n",
       "      <td>-0.309007</td>\n",
       "    </tr>\n",
       "    <tr>\n",
       "      <th>22</th>\n",
       "      <td>23</td>\n",
       "      <td>-0.138830</td>\n",
       "    </tr>\n",
       "    <tr>\n",
       "      <th>23</th>\n",
       "      <td>24</td>\n",
       "      <td>-0.156403</td>\n",
       "    </tr>\n",
       "    <tr>\n",
       "      <th>24</th>\n",
       "      <td>25</td>\n",
       "      <td>-0.172844</td>\n",
       "    </tr>\n",
       "    <tr>\n",
       "      <th>25</th>\n",
       "      <td>26</td>\n",
       "      <td>-0.223489</td>\n",
       "    </tr>\n",
       "    <tr>\n",
       "      <th>26</th>\n",
       "      <td>27</td>\n",
       "      <td>-0.242124</td>\n",
       "    </tr>\n",
       "    <tr>\n",
       "      <th>27</th>\n",
       "      <td>28</td>\n",
       "      <td>0.116850</td>\n",
       "    </tr>\n",
       "    <tr>\n",
       "      <th>28</th>\n",
       "      <td>29</td>\n",
       "      <td>0.222015</td>\n",
       "    </tr>\n",
       "    <tr>\n",
       "      <th>29</th>\n",
       "      <td>30</td>\n",
       "      <td>0.366210</td>\n",
       "    </tr>\n",
       "    <tr>\n",
       "      <th>30</th>\n",
       "      <td>31</td>\n",
       "      <td>0.397315</td>\n",
       "    </tr>\n",
       "    <tr>\n",
       "      <th>31</th>\n",
       "      <td>32</td>\n",
       "      <td>0.331540</td>\n",
       "    </tr>\n",
       "    <tr>\n",
       "      <th>32</th>\n",
       "      <td>33</td>\n",
       "      <td>0.159044</td>\n",
       "    </tr>\n",
       "    <tr>\n",
       "      <th>33</th>\n",
       "      <td>34</td>\n",
       "      <td>0.095219</td>\n",
       "    </tr>\n",
       "    <tr>\n",
       "      <th>34</th>\n",
       "      <td>35</td>\n",
       "      <td>-0.132846</td>\n",
       "    </tr>\n",
       "    <tr>\n",
       "      <th>35</th>\n",
       "      <td>36</td>\n",
       "      <td>-0.159441</td>\n",
       "    </tr>\n",
       "    <tr>\n",
       "      <th>36</th>\n",
       "      <td>37</td>\n",
       "      <td>-0.118646</td>\n",
       "    </tr>\n",
       "    <tr>\n",
       "      <th>37</th>\n",
       "      <td>38</td>\n",
       "      <td>-0.383072</td>\n",
       "    </tr>\n",
       "    <tr>\n",
       "      <th>38</th>\n",
       "      <td>39</td>\n",
       "      <td>-0.349407</td>\n",
       "    </tr>\n",
       "    <tr>\n",
       "      <th>39</th>\n",
       "      <td>40</td>\n",
       "      <td>-0.271822</td>\n",
       "    </tr>\n",
       "    <tr>\n",
       "      <th>40</th>\n",
       "      <td>41</td>\n",
       "      <td>-0.040907</td>\n",
       "    </tr>\n",
       "    <tr>\n",
       "      <th>41</th>\n",
       "      <td>42</td>\n",
       "      <td>0.047198</td>\n",
       "    </tr>\n",
       "    <tr>\n",
       "      <th>42</th>\n",
       "      <td>43</td>\n",
       "      <td>-0.014117</td>\n",
       "    </tr>\n",
       "    <tr>\n",
       "      <th>43</th>\n",
       "      <td>44</td>\n",
       "      <td>-0.128793</td>\n",
       "    </tr>\n",
       "    <tr>\n",
       "      <th>44</th>\n",
       "      <td>45</td>\n",
       "      <td>-0.307268</td>\n",
       "    </tr>\n",
       "    <tr>\n",
       "      <th>45</th>\n",
       "      <td>46</td>\n",
       "      <td>0.116757</td>\n",
       "    </tr>\n",
       "    <tr>\n",
       "      <th>46</th>\n",
       "      <td>47</td>\n",
       "      <td>0.424562</td>\n",
       "    </tr>\n",
       "    <tr>\n",
       "      <th>47</th>\n",
       "      <td>48</td>\n",
       "      <td>0.268067</td>\n",
       "    </tr>\n",
       "  </tbody>\n",
       "</table>\n",
       "</div>"
      ],
      "text/plain": [
       "    Weeks  residuals\n",
       "0       1  -0.006490\n",
       "1       2   0.095037\n",
       "2       3   0.108383\n",
       "3       4   0.203930\n",
       "4       5   0.218357\n",
       "5       6  -0.260466\n",
       "6       7  -0.164349\n",
       "7       8  -0.262602\n",
       "8       9  -0.084596\n",
       "9      10  -0.038389\n",
       "10     11  -0.172222\n",
       "11     12  -0.218765\n",
       "12     13  -0.023708\n",
       "13     14  -0.054341\n",
       "14     15   0.153885\n",
       "15     16   0.043732\n",
       "16     17   0.098709\n",
       "17     18   0.444686\n",
       "18     19   0.350493\n",
       "19     20   0.105240\n",
       "20     21   0.067716\n",
       "21     22  -0.309007\n",
       "22     23  -0.138830\n",
       "23     24  -0.156403\n",
       "24     25  -0.172844\n",
       "25     26  -0.223489\n",
       "26     27  -0.242124\n",
       "27     28   0.116850\n",
       "28     29   0.222015\n",
       "29     30   0.366210\n",
       "30     31   0.397315\n",
       "31     32   0.331540\n",
       "32     33   0.159044\n",
       "33     34   0.095219\n",
       "34     35  -0.132846\n",
       "35     36  -0.159441\n",
       "36     37  -0.118646\n",
       "37     38  -0.383072\n",
       "38     39  -0.349407\n",
       "39     40  -0.271822\n",
       "40     41  -0.040907\n",
       "41     42   0.047198\n",
       "42     43  -0.014117\n",
       "43     44  -0.128793\n",
       "44     45  -0.307268\n",
       "45     46   0.116757\n",
       "46     47   0.424562\n",
       "47     48   0.268067"
      ]
     },
     "execution_count": 8,
     "metadata": {},
     "output_type": "execute_result"
    }
   ],
   "source": [
    "res_df = pd.DataFrame({\"Weeks\": df[\"T\"], \"residuals\": df.Y - res.fittedvalues})\n",
    "res_df"
   ]
  },
  {
   "cell_type": "markdown",
   "id": "4ce97e83",
   "metadata": {},
   "source": [
    "## Residuals plot"
   ]
  },
  {
   "cell_type": "code",
   "execution_count": 9,
   "id": "e03e9556",
   "metadata": {},
   "outputs": [
    {
     "data": {
      "text/plain": [
       "<AxesSubplot:ylabel='Density'>"
      ]
     },
     "execution_count": 9,
     "metadata": {},
     "output_type": "execute_result"
    },
    {
     "data": {
      "image/png": "[encoded data removed]",
      "text/plain": [
       "<Figure size 432x288 with 1 Axes>"
      ]
     },
     "metadata": {
      "needs_background": "light"
     },
     "output_type": "display_data"
    }
   ],
   "source": [
    "res.resid.plot(kind=\"kde\")"
   ]
  },
  {
   "cell_type": "code",
   "execution_count": 10,
   "id": "b3f08ac6",
   "metadata": {},
   "outputs": [
    {
     "data": {
      "text/html": [
       "\n",
       "<div id=\"altair-viz-3595a55ad6c24834a7345488e9d5499e\"></div>\n",
       "<script type=\"text/javascript\">\n",
       "  (function(spec, embedOpt){\n",
       "    let outputDiv = document.currentScript.previousElementSibling;\n",
       "    if (outputDiv.id !== \"altair-viz-3595a55ad6c24834a7345488e9d5499e\") {\n",
       "      outputDiv = document.getElementById(\"altair-viz-3595a55ad6c24834a7345488e9d5499e\");\n",
       "    }\n",
       "    const paths = {\n",
       "      \"vega\": \"https://cdn.jsdelivr.net/npm//vega@5?noext\",\n",
       "      \"vega-lib\": \"https://cdn.jsdelivr.net/npm//vega-lib?noext\",\n",
       "      \"vega-lite\": \"https://cdn.jsdelivr.net/npm//vega-lite@4.8.1?noext\",\n",
       "      \"vega-embed\": \"https://cdn.jsdelivr.net/npm//vega-embed@6?noext\",\n",
       "    };\n",
       "\n",
       "    function loadScript(lib) {\n",
       "      return new Promise(function(resolve, reject) {\n",
       "        var s = document.createElement('script');\n",
       "        s.src = paths[lib];\n",
       "        s.async = true;\n",
       "        s.onload = () => resolve(paths[lib]);\n",
       "        s.onerror = () => reject(`Error loading script: ${paths[lib]}`);\n",
       "        document.getElementsByTagName(\"head\")[0].appendChild(s);\n",
       "      });\n",
       "    }\n",
       "\n",
       "    function showError(err) {\n",
       "      outputDiv.innerHTML = `<div class=\"error\" style=\"color:red;\">${err}</div>`;\n",
       "      throw err;\n",
       "    }\n",
       "\n",
       "    function displayChart(vegaEmbed) {\n",
       "      vegaEmbed(outputDiv, spec, embedOpt)\n",
       "        .catch(err => showError(`Javascript Error: ${err.message}<br>This usually means there's a typo in your chart specification. See the javascript console for the full traceback.`));\n",
       "    }\n",
       "\n",
       "    if(typeof define === \"function\" && define.amd) {\n",
       "      requirejs.config({paths});\n",
       "      require([\"vega-embed\"], displayChart, err => showError(`Error loading script: ${err.message}`));\n",
       "    } else if (typeof vegaEmbed === \"function\") {\n",
       "      displayChart(vegaEmbed);\n",
       "    } else {\n",
       "      loadScript(\"vega\")\n",
       "        .then(() => loadScript(\"vega-lite\"))\n",
       "        .then(() => loadScript(\"vega-embed\"))\n",
       "        .catch(showError)\n",
       "        .then(() => displayChart(vegaEmbed));\n",
       "    }\n",
       "  })({\"config\": {\"view\": {\"continuousWidth\": 400, \"continuousHeight\": 300}}, \"data\": {\"name\": \"data-510c05db569bf4baa26b2d5c478737a3\"}, \"mark\": \"point\", \"encoding\": {\"x\": {\"type\": \"quantitative\", \"field\": \"Actual\", \"scale\": {\"domain\": [12, 13.6]}}, \"y\": {\"type\": \"quantitative\", \"field\": \"Predicted\", \"scale\": {\"domain\": [12, 13.6]}}}, \"$schema\": \"https://vega.github.io/schema/vega-lite/v4.8.1.json\", \"datasets\": {\"data-510c05db569bf4baa26b2d5c478737a3\": [{\"Actual\": 12.91645, \"Predicted\": 12.922940166666674}, {\"Actual\": 13.0309, \"Predicted\": 12.935863340579717}, {\"Actual\": 13.05717, \"Predicted\": 12.948786514492761}, {\"Actual\": 13.16564, \"Predicted\": 12.961709688405804}, {\"Actual\": 13.19299, \"Predicted\": 12.974632862318847}, {\"Actual\": 12.72709, \"Predicted\": 12.98755603623189}, {\"Actual\": 12.83613, \"Predicted\": 13.000479210144935}, {\"Actual\": 12.7508, \"Predicted\": 13.013402384057978}, {\"Actual\": 12.94173, \"Predicted\": 13.02632555797102}, {\"Actual\": 13.00086, \"Predicted\": 13.039248731884063}, {\"Actual\": 12.87995, \"Predicted\": 13.052171905797108}, {\"Actual\": 12.84633, \"Predicted\": 13.06509507971015}, {\"Actual\": 13.05431, \"Predicted\": 13.078018253623194}, {\"Actual\": 13.0366, \"Predicted\": 13.090941427536237}, {\"Actual\": 13.25775, \"Predicted\": 13.10386460144928}, {\"Actual\": 13.16052, \"Predicted\": 13.116787775362324}, {\"Actual\": 13.22842, \"Predicted\": 13.129710949275367}, {\"Actual\": 13.58732, \"Predicted\": 13.14263412318841}, {\"Actual\": 13.50605, \"Predicted\": 13.155557297101453}, {\"Actual\": 13.27372, \"Predicted\": 13.168480471014497}, {\"Actual\": 13.24912, \"Predicted\": 13.18140364492754}, {\"Actual\": 12.88532, \"Predicted\": 13.194326818840583}, {\"Actual\": 13.06842, \"Predicted\": 13.207249992753626}, {\"Actual\": 13.06377, \"Predicted\": 13.22017316666667}, {\"Actual\": 12.51035, \"Predicted\": 12.683194100000007}, {\"Actual\": 12.44297, \"Predicted\": 12.666459286956528}, {\"Actual\": 12.4076, \"Predicted\": 12.649724473913048}, {\"Actual\": 12.74984, \"Predicted\": 12.632989660869569}, {\"Actual\": 12.83827, \"Predicted\": 12.61625484782609}, {\"Actual\": 12.96573, \"Predicted\": 12.59952003478261}, {\"Actual\": 12.9801, \"Predicted\": 12.582785221739131}, {\"Actual\": 12.89759, \"Predicted\": 12.566050408695652}, {\"Actual\": 12.70836, \"Predicted\": 12.549315595652173}, {\"Actual\": 12.6278, \"Predicted\": 12.532580782608694}, {\"Actual\": 12.383, \"Predicted\": 12.515845969565214}, {\"Actual\": 12.33967, \"Predicted\": 12.499111156521735}, {\"Actual\": 12.36373, \"Predicted\": 12.482376343478258}, {\"Actual\": 12.08257, \"Predicted\": 12.465641530434779}, {\"Actual\": 12.0995, \"Predicted\": 12.4489067173913}, {\"Actual\": 12.16035, \"Predicted\": 12.43217190434782}, {\"Actual\": 12.37453, \"Predicted\": 12.41543709130434}, {\"Actual\": 12.4459, \"Predicted\": 12.398702278260862}, {\"Actual\": 12.36785, \"Predicted\": 12.381967465217382}, {\"Actual\": 12.23644, \"Predicted\": 12.365232652173903}, {\"Actual\": 12.04123, \"Predicted\": 12.348497839130424}, {\"Actual\": 12.44852, \"Predicted\": 12.331763026086945}, {\"Actual\": 12.73959, \"Predicted\": 12.315028213043465}, {\"Actual\": 12.56636, \"Predicted\": 12.298293399999986}]}}, {\"mode\": \"vega-lite\"});\n",
       "</script>"
      ],
      "text/plain": [
       "alt.Chart(...)"
      ]
     },
     "execution_count": 10,
     "metadata": {},
     "output_type": "execute_result"
    }
   ],
   "source": [
    "import altair as alt\n",
    "\n",
    "res_actual_pred = pd.DataFrame({\"Actual\": df[\"Y\"], \"Predicted\": res.fittedvalues})\n",
    "\n",
    "alt.Chart(res_actual_pred).mark_point().encode(\n",
    "    x=alt.X('Actual', scale=alt.Scale(domain=(12, 13.6))),\n",
    "    y=alt.Y('Predicted', scale=alt.Scale(domain=(12, 13.6)))\n",
    ")"
   ]
  },
  {
   "cell_type": "code",
   "execution_count": 17,
   "id": "adfeaba9",
   "metadata": {},
   "outputs": [
    {
     "data": {
      "text/html": [
       "\n",
       "<div id=\"altair-viz-213ef0789ff34087a4797a5fccd29199\"></div>\n",
       "<script type=\"text/javascript\">\n",
       "  (function(spec, embedOpt){\n",
       "    let outputDiv = document.currentScript.previousElementSibling;\n",
       "    if (outputDiv.id !== \"altair-viz-213ef0789ff34087a4797a5fccd29199\") {\n",
       "      outputDiv = document.getElementById(\"altair-viz-213ef0789ff34087a4797a5fccd29199\");\n",
       "    }\n",
       "    const paths = {\n",
       "      \"vega\": \"https://cdn.jsdelivr.net/npm//vega@5?noext\",\n",
       "      \"vega-lib\": \"https://cdn.jsdelivr.net/npm//vega-lib?noext\",\n",
       "      \"vega-lite\": \"https://cdn.jsdelivr.net/npm//vega-lite@4.8.1?noext\",\n",
       "      \"vega-embed\": \"https://cdn.jsdelivr.net/npm//vega-embed@6?noext\",\n",
       "    };\n",
       "\n",
       "    function loadScript(lib) {\n",
       "      return new Promise(function(resolve, reject) {\n",
       "        var s = document.createElement('script');\n",
       "        s.src = paths[lib];\n",
       "        s.async = true;\n",
       "        s.onload = () => resolve(paths[lib]);\n",
       "        s.onerror = () => reject(`Error loading script: ${paths[lib]}`);\n",
       "        document.getElementsByTagName(\"head\")[0].appendChild(s);\n",
       "      });\n",
       "    }\n",
       "\n",
       "    function showError(err) {\n",
       "      outputDiv.innerHTML = `<div class=\"error\" style=\"color:red;\">${err}</div>`;\n",
       "      throw err;\n",
       "    }\n",
       "\n",
       "    function displayChart(vegaEmbed) {\n",
       "      vegaEmbed(outputDiv, spec, embedOpt)\n",
       "        .catch(err => showError(`Javascript Error: ${err.message}<br>This usually means there's a typo in your chart specification. See the javascript console for the full traceback.`));\n",
       "    }\n",
       "\n",
       "    if(typeof define === \"function\" && define.amd) {\n",
       "      requirejs.config({paths});\n",
       "      require([\"vega-embed\"], displayChart, err => showError(`Error loading script: ${err.message}`));\n",
       "    } else if (typeof vegaEmbed === \"function\") {\n",
       "      displayChart(vegaEmbed);\n",
       "    } else {\n",
       "      loadScript(\"vega\")\n",
       "        .then(() => loadScript(\"vega-lite\"))\n",
       "        .then(() => loadScript(\"vega-embed\"))\n",
       "        .catch(showError)\n",
       "        .then(() => displayChart(vegaEmbed));\n",
       "    }\n",
       "  })({\"config\": {\"view\": {\"continuousWidth\": 400, \"continuousHeight\": 300}}, \"layer\": [{\"data\": {\"name\": \"data-48591289c249eb28e3a7e2ecbbb7becb\"}, \"mark\": \"rule\", \"encoding\": {\"color\": {\"type\": \"nominal\", \"field\": \"color\", \"scale\": null}, \"y\": {\"type\": \"quantitative\", \"field\": \"residuals\"}}}, {\"data\": {\"name\": \"data-6eaaf1772a5fe707298273f76eab9064\"}, \"mark\": \"point\", \"encoding\": {\"x\": {\"type\": \"quantitative\", \"field\": \"Weeks\"}, \"y\": {\"type\": \"quantitative\", \"field\": \"residuals\"}}}], \"$schema\": \"https://vega.github.io/schema/vega-lite/v4.8.1.json\", \"datasets\": {\"data-48591289c249eb28e3a7e2ecbbb7becb\": [{\"residuals\": 0.0, \"color\": \"black\"}], \"data-6eaaf1772a5fe707298273f76eab9064\": [{\"Weeks\": 1, \"residuals\": -0.006490166666674568}, {\"Weeks\": 2, \"residuals\": 0.09503665942028405}, {\"Weeks\": 3, \"residuals\": 0.10838348550723786}, {\"Weeks\": 4, \"residuals\": 0.2039303115941955}, {\"Weeks\": 5, \"residuals\": 0.21835713768115284}, {\"Weeks\": 6, \"residuals\": -0.2604660362318896}, {\"Weeks\": 7, \"residuals\": -0.16434921014493398}, {\"Weeks\": 8, \"residuals\": -0.26260238405797764}, {\"Weeks\": 9, \"residuals\": -0.0845955579710207}, {\"Weeks\": 10, \"residuals\": -0.03838873188406389}, {\"Weeks\": 11, \"residuals\": -0.17222190579710883}, {\"Weeks\": 12, \"residuals\": -0.2187650797101508}, {\"Weeks\": 13, \"residuals\": -0.02370825362319451}, {\"Weeks\": 14, \"residuals\": -0.05434142753623661}, {\"Weeks\": 15, \"residuals\": 0.15388539855072025}, {\"Weeks\": 16, \"residuals\": 0.0437322246376759}, {\"Weeks\": 17, \"residuals\": 0.09870905072463287}, {\"Weeks\": 18, \"residuals\": 0.4446858768115902}, {\"Weeks\": 19, \"residuals\": 0.3504927028985474}, {\"Weeks\": 20, \"residuals\": 0.10523952898550348}, {\"Weeks\": 21, \"residuals\": 0.06771635507245932}, {\"Weeks\": 22, \"residuals\": -0.309006818840583}, {\"Weeks\": 23, \"residuals\": -0.13882999275362629}, {\"Weeks\": 24, \"residuals\": -0.15640316666667076}, {\"Weeks\": 25, \"residuals\": -0.17284410000000605}, {\"Weeks\": 26, \"residuals\": -0.2234892869565268}, {\"Weeks\": 27, \"residuals\": -0.24212447391304792}, {\"Weeks\": 28, \"residuals\": 0.11685033913043164}, {\"Weeks\": 29, \"residuals\": 0.22201515217390977}, {\"Weeks\": 30, \"residuals\": 0.36620996521739}, {\"Weeks\": 31, \"residuals\": 0.3973147782608688}, {\"Weeks\": 32, \"residuals\": 0.33153959130434707}, {\"Weeks\": 33, \"residuals\": 0.15904440434782785}, {\"Weeks\": 34, \"residuals\": 0.0952192173913069}, {\"Weeks\": 35, \"residuals\": -0.13284596956521533}, {\"Weeks\": 36, \"residuals\": -0.1594411565217353}, {\"Weeks\": 37, \"residuals\": -0.11864634347825742}, {\"Weeks\": 38, \"residuals\": -0.38307153043477804}, {\"Weeks\": 39, \"residuals\": -0.34940671739129847}, {\"Weeks\": 40, \"residuals\": -0.2718219043478207}, {\"Weeks\": 41, \"residuals\": -0.04090709130434078}, {\"Weeks\": 42, \"residuals\": 0.04719772173913839}, {\"Weeks\": 43, \"residuals\": -0.014117465217381664}, {\"Weeks\": 44, \"residuals\": -0.12879265217390312}, {\"Weeks\": 45, \"residuals\": -0.3072678391304233}, {\"Weeks\": 46, \"residuals\": 0.11675697391305562}, {\"Weeks\": 47, \"residuals\": 0.42456178695653435}, {\"Weeks\": 48, \"residuals\": 0.26806660000001337}]}}, {\"mode\": \"vega-lite\"});\n",
       "</script>"
      ],
      "text/plain": [
       "alt.LayerChart(...)"
      ]
     },
     "execution_count": 17,
     "metadata": {},
     "output_type": "execute_result"
    }
   ],
   "source": [
    "import altair as alt\n",
    "\n",
    "rules = alt.Chart(pd.DataFrame({\n",
    "  'residuals': [0.0],\n",
    "  'color': ['black']\n",
    "})).mark_rule().encode(\n",
    "  y='residuals',\n",
    "  color=alt.Color('color:N', scale=None)\n",
    ")\n",
    "\n",
    "residual_plot = alt.Chart(res_df).mark_point().encode(\n",
    "    x=alt.X('Weeks'),\n",
    "    y=alt.Y('residuals')\n",
    ")\n",
    "\n",
    "rules + residual_plot "
   ]
  },
  {
   "cell_type": "code",
   "execution_count": 12,
   "id": "5d5140c1",
   "metadata": {},
   "outputs": [
    {
     "data": {
      "text/plain": [
       "0.04029434546862897"
      ]
     },
     "execution_count": 12,
     "metadata": {},
     "output_type": "execute_result"
    }
   ],
   "source": [
    "0.5202/12.91"
   ]
  },
  {
   "cell_type": "markdown",
   "id": "a7462d5b",
   "metadata": {},
   "source": [
    "## Data plot"
   ]
  },
  {
   "cell_type": "code",
   "execution_count": 13,
   "id": "24e4917e",
   "metadata": {},
   "outputs": [
    {
     "data": {
      "text/html": [
       "\n",
       "<div id=\"altair-viz-b1047cf7cc904963b84eb79b99772998\"></div>\n",
       "<script type=\"text/javascript\">\n",
       "  (function(spec, embedOpt){\n",
       "    let outputDiv = document.currentScript.previousElementSibling;\n",
       "    if (outputDiv.id !== \"altair-viz-b1047cf7cc904963b84eb79b99772998\") {\n",
       "      outputDiv = document.getElementById(\"altair-viz-b1047cf7cc904963b84eb79b99772998\");\n",
       "    }\n",
       "    const paths = {\n",
       "      \"vega\": \"https://cdn.jsdelivr.net/npm//vega@5?noext\",\n",
       "      \"vega-lib\": \"https://cdn.jsdelivr.net/npm//vega-lib?noext\",\n",
       "      \"vega-lite\": \"https://cdn.jsdelivr.net/npm//vega-lite@4.8.1?noext\",\n",
       "      \"vega-embed\": \"https://cdn.jsdelivr.net/npm//vega-embed@6?noext\",\n",
       "    };\n",
       "\n",
       "    function loadScript(lib) {\n",
       "      return new Promise(function(resolve, reject) {\n",
       "        var s = document.createElement('script');\n",
       "        s.src = paths[lib];\n",
       "        s.async = true;\n",
       "        s.onload = () => resolve(paths[lib]);\n",
       "        s.onerror = () => reject(`Error loading script: ${paths[lib]}`);\n",
       "        document.getElementsByTagName(\"head\")[0].appendChild(s);\n",
       "      });\n",
       "    }\n",
       "\n",
       "    function showError(err) {\n",
       "      outputDiv.innerHTML = `<div class=\"error\" style=\"color:red;\">${err}</div>`;\n",
       "      throw err;\n",
       "    }\n",
       "\n",
       "    function displayChart(vegaEmbed) {\n",
       "      vegaEmbed(outputDiv, spec, embedOpt)\n",
       "        .catch(err => showError(`Javascript Error: ${err.message}<br>This usually means there's a typo in your chart specification. See the javascript console for the full traceback.`));\n",
       "    }\n",
       "\n",
       "    if(typeof define === \"function\" && define.amd) {\n",
       "      requirejs.config({paths});\n",
       "      require([\"vega-embed\"], displayChart, err => showError(`Error loading script: ${err.message}`));\n",
       "    } else if (typeof vegaEmbed === \"function\") {\n",
       "      displayChart(vegaEmbed);\n",
       "    } else {\n",
       "      loadScript(\"vega\")\n",
       "        .then(() => loadScript(\"vega-lite\"))\n",
       "        .then(() => loadScript(\"vega-embed\"))\n",
       "        .catch(showError)\n",
       "        .then(() => displayChart(vegaEmbed));\n",
       "    }\n",
       "  })({\"config\": {\"view\": {\"continuousWidth\": 400, \"continuousHeight\": 300}}, \"layer\": [{\"data\": {\"name\": \"data-aba47f549b07830abaa538efd2d144f3\"}, \"mark\": \"rule\", \"encoding\": {\"color\": {\"type\": \"nominal\", \"field\": \"color\", \"scale\": null}, \"x\": {\"type\": \"quantitative\", \"field\": \"Weeks\"}}}, {\"data\": {\"name\": \"data-bced59d28bf5aba2c7ddc76454fbbca8\"}, \"mark\": \"point\", \"encoding\": {\"x\": {\"type\": \"quantitative\", \"field\": \"Weeks\"}, \"y\": {\"type\": \"quantitative\", \"axis\": {\"title\": \"bounce rate (%)\"}, \"field\": \"Y\", \"scale\": {\"domain\": [5, 15]}}}}], \"$schema\": \"https://vega.github.io/schema/vega-lite/v4.8.1.json\", \"datasets\": {\"data-aba47f549b07830abaa538efd2d144f3\": [{\"Weeks\": 24.5, \"color\": \"red\"}], \"data-bced59d28bf5aba2c7ddc76454fbbca8\": [{\"Y\": 12.91645, \"T\": 1, \"D\": 0, \"P\": 0, \"Weeks\": 1}, {\"Y\": 13.0309, \"T\": 2, \"D\": 0, \"P\": 0, \"Weeks\": 2}, {\"Y\": 13.05717, \"T\": 3, \"D\": 0, \"P\": 0, \"Weeks\": 3}, {\"Y\": 13.16564, \"T\": 4, \"D\": 0, \"P\": 0, \"Weeks\": 4}, {\"Y\": 13.19299, \"T\": 5, \"D\": 0, \"P\": 0, \"Weeks\": 5}, {\"Y\": 12.72709, \"T\": 6, \"D\": 0, \"P\": 0, \"Weeks\": 6}, {\"Y\": 12.83613, \"T\": 7, \"D\": 0, \"P\": 0, \"Weeks\": 7}, {\"Y\": 12.7508, \"T\": 8, \"D\": 0, \"P\": 0, \"Weeks\": 8}, {\"Y\": 12.94173, \"T\": 9, \"D\": 0, \"P\": 0, \"Weeks\": 9}, {\"Y\": 13.00086, \"T\": 10, \"D\": 0, \"P\": 0, \"Weeks\": 10}, {\"Y\": 12.87995, \"T\": 11, \"D\": 0, \"P\": 0, \"Weeks\": 11}, {\"Y\": 12.84633, \"T\": 12, \"D\": 0, \"P\": 0, \"Weeks\": 12}, {\"Y\": 13.05431, \"T\": 13, \"D\": 0, \"P\": 0, \"Weeks\": 13}, {\"Y\": 13.0366, \"T\": 14, \"D\": 0, \"P\": 0, \"Weeks\": 14}, {\"Y\": 13.25775, \"T\": 15, \"D\": 0, \"P\": 0, \"Weeks\": 15}, {\"Y\": 13.16052, \"T\": 16, \"D\": 0, \"P\": 0, \"Weeks\": 16}, {\"Y\": 13.22842, \"T\": 17, \"D\": 0, \"P\": 0, \"Weeks\": 17}, {\"Y\": 13.58732, \"T\": 18, \"D\": 0, \"P\": 0, \"Weeks\": 18}, {\"Y\": 13.50605, \"T\": 19, \"D\": 0, \"P\": 0, \"Weeks\": 19}, {\"Y\": 13.27372, \"T\": 20, \"D\": 0, \"P\": 0, \"Weeks\": 20}, {\"Y\": 13.24912, \"T\": 21, \"D\": 0, \"P\": 0, \"Weeks\": 21}, {\"Y\": 12.88532, \"T\": 22, \"D\": 0, \"P\": 0, \"Weeks\": 22}, {\"Y\": 13.06842, \"T\": 23, \"D\": 0, \"P\": 0, \"Weeks\": 23}, {\"Y\": 13.06377, \"T\": 24, \"D\": 0, \"P\": 0, \"Weeks\": 24}, {\"Y\": 12.51035, \"T\": 25, \"D\": 1, \"P\": 1, \"Weeks\": 25}, {\"Y\": 12.44297, \"T\": 26, \"D\": 1, \"P\": 2, \"Weeks\": 26}, {\"Y\": 12.4076, \"T\": 27, \"D\": 1, \"P\": 3, \"Weeks\": 27}, {\"Y\": 12.74984, \"T\": 28, \"D\": 1, \"P\": 4, \"Weeks\": 28}, {\"Y\": 12.83827, \"T\": 29, \"D\": 1, \"P\": 5, \"Weeks\": 29}, {\"Y\": 12.96573, \"T\": 30, \"D\": 1, \"P\": 6, \"Weeks\": 30}, {\"Y\": 12.9801, \"T\": 31, \"D\": 1, \"P\": 7, \"Weeks\": 31}, {\"Y\": 12.89759, \"T\": 32, \"D\": 1, \"P\": 8, \"Weeks\": 32}, {\"Y\": 12.70836, \"T\": 33, \"D\": 1, \"P\": 9, \"Weeks\": 33}, {\"Y\": 12.6278, \"T\": 34, \"D\": 1, \"P\": 10, \"Weeks\": 34}, {\"Y\": 12.383, \"T\": 35, \"D\": 1, \"P\": 11, \"Weeks\": 35}, {\"Y\": 12.33967, \"T\": 36, \"D\": 1, \"P\": 12, \"Weeks\": 36}, {\"Y\": 12.36373, \"T\": 37, \"D\": 1, \"P\": 13, \"Weeks\": 37}, {\"Y\": 12.08257, \"T\": 38, \"D\": 1, \"P\": 14, \"Weeks\": 38}, {\"Y\": 12.0995, \"T\": 39, \"D\": 1, \"P\": 15, \"Weeks\": 39}, {\"Y\": 12.16035, \"T\": 40, \"D\": 1, \"P\": 16, \"Weeks\": 40}, {\"Y\": 12.37453, \"T\": 41, \"D\": 1, \"P\": 17, \"Weeks\": 41}, {\"Y\": 12.4459, \"T\": 42, \"D\": 1, \"P\": 18, \"Weeks\": 42}, {\"Y\": 12.36785, \"T\": 43, \"D\": 1, \"P\": 19, \"Weeks\": 43}, {\"Y\": 12.23644, \"T\": 44, \"D\": 1, \"P\": 20, \"Weeks\": 44}, {\"Y\": 12.04123, \"T\": 45, \"D\": 1, \"P\": 21, \"Weeks\": 45}, {\"Y\": 12.44852, \"T\": 46, \"D\": 1, \"P\": 22, \"Weeks\": 46}, {\"Y\": 12.73959, \"T\": 47, \"D\": 1, \"P\": 23, \"Weeks\": 47}, {\"Y\": 12.56636, \"T\": 48, \"D\": 1, \"P\": 24, \"Weeks\": 48}]}}, {\"mode\": \"vega-lite\"});\n",
       "</script>"
      ],
      "text/plain": [
       "alt.LayerChart(...)"
      ]
     },
     "execution_count": 13,
     "metadata": {},
     "output_type": "execute_result"
    }
   ],
   "source": [
    "import altair as alt\n",
    "\n",
    "intervention = rules = alt.Chart(pd.DataFrame({\n",
    "  'Weeks': [24.5],\n",
    "  'color': ['red']\n",
    "})).mark_rule().encode(\n",
    "  x='Weeks',\n",
    "  color=alt.Color('color:N', scale=None)\n",
    ")\n",
    "\n",
    "dataplot = alt.Chart(df).mark_point().encode(\n",
    "    x='Weeks',\n",
    "    y=alt.Y('Y', scale=alt.Scale(domain=(5, 15)), axis=alt.Axis(title='bounce rate (%)'))\n",
    ")\n",
    "\n",
    "intervention + dataplot"
   ]
  },
  {
   "cell_type": "markdown",
   "id": "3da2573e",
   "metadata": {},
   "source": [
    "## Plot with counterfactual"
   ]
  },
  {
   "cell_type": "code",
   "execution_count": 14,
   "id": "199ff5e6",
   "metadata": {},
   "outputs": [],
   "source": [
    "start = 24\n",
    "end = 48\n",
    "beta = res.params\n",
    "\n",
    "predictions = res.get_prediction(df)\n",
    "summary = predictions.summary_frame(alpha=0.05)\n",
    "\n",
    "y_trend = predictions.predicted_mean[:start]\n",
    "ci_lower = summary[\"obs_ci_lower\"]\n",
    "ci_upper = summary[\"obs_ci_upper\"]\n",
    "y_cf = beta[0] + beta[1]*df[\"T\"][start-1:] \n",
    "y_new_trend = predictions.predicted_mean[start:]\n"
   ]
  },
  {
   "cell_type": "code",
   "execution_count": 15,
   "id": "d338bdc3",
   "metadata": {},
   "outputs": [
    {
     "data": {
      "image/png": "[encoded data removed]",
      "text/plain": [
       "<Figure size 1152x720 with 1 Axes>"
      ]
     },
     "metadata": {},
     "output_type": "display_data"
    }
   ],
   "source": [
    "plt.style.use('seaborn-whitegrid')\n",
    "fig, ax = plt.subplots(figsize=(16,10))\n",
    "\n",
    "ax.scatter(df[\"T\"], df[\"Y\"], facecolors='none', edgecolors='steelblue', label=\"data\", linewidths=2)\n",
    "ax.plot(df[\"T\"][:start], ci_upper[:start], 'k--')\n",
    "ax.plot(df[\"T\"][:start], y_trend[:start], 'k.-', label=\"pre-intervention trend\")\n",
    "ax.plot(df[\"T\"][:start], ci_lower[:start], 'k--')\n",
    "ax.plot(df[\"T\"][start-1:], y_cf, 'k.', label=\"counterfactual\")\n",
    "ax.plot(df[\"T\"][start:], ci_upper[start:], 'g--')\n",
    "ax.plot(df[\"T\"][start:], y_new_trend, 'g.-', label=\"pos-intervention trend\")\n",
    "ax.plot(df[\"T\"][start:], ci_lower[start:], 'g--')\n",
    "ax.axvline(x = 24.5, color = 'r', label = 'intervention')\n",
    "ax.legend(loc='best')\n",
    "plt.ylim([10, 15])\n",
    "plt.xlabel(\"Weeks\")\n",
    "plt.ylabel(\"Bounce rate (%)\");"
   ]
  },
  {
   "cell_type": "code",
   "execution_count": 16,
   "id": "e82aed86",
   "metadata": {},
   "outputs": [
    {
     "name": "stderr",
     "output_type": "stream",
     "text": [
      "/mnt/home/regis/anaconda3/envs/kaggle_env/lib/python3.9/site-packages/statsmodels/graphics/gofplots.py:993: UserWarning: marker is redundantly defined by the 'marker' keyword argument and the fmt string \"bo\" (-> marker='o'). The keyword argument will take precedence.\n",
      "  ax.plot(x, y, fmt, **plot_style)\n"
     ]
    },
    {
     "data": {
      "image/png": "[encoded data removed]",
      "text/plain": [
       "<Figure size 432x288 with 1 Axes>"
      ]
     },
     "metadata": {},
     "output_type": "display_data"
    }
   ],
   "source": [
    "import scipy as sp\n",
    "from statsmodels.graphics.gofplots import qqplot\n",
    "fig = sm.qqplot(res.resid, sp.stats.t, fit=True, line=\"45\")\n",
    "plt.show();"
   ]
  },
  {
   "cell_type": "code",
   "execution_count": null,
   "id": "b43d0186",
   "metadata": {},
   "outputs": [],
   "source": []
  },
  {
   "cell_type": "code",
   "execution_count": 25,
   "id": "ab6a90b6",
   "metadata": {},
   "outputs": [
    {
     "ename": "TypeError",
     "evalue": "show() got an unexpected keyword argument 'figsize'",
     "output_type": "error",
     "traceback": [
      "\u001b[0;31m---------------------------------------------------------------------------\u001b[0m",
      "\u001b[0;31mTypeError\u001b[0m                                 Traceback (most recent call last)",
      "\u001b[0;32m/tmp/ipykernel_234139/3998967103.py\u001b[0m in \u001b[0;36m<module>\u001b[0;34m\u001b[0m\n\u001b[1;32m      1\u001b[0m \u001b[0;31m# autocorrelation\u001b[0m\u001b[0;34m\u001b[0m\u001b[0;34m\u001b[0m\u001b[0;34m\u001b[0m\u001b[0m\n\u001b[1;32m      2\u001b[0m \u001b[0msm\u001b[0m\u001b[0;34m.\u001b[0m\u001b[0mgraphics\u001b[0m\u001b[0;34m.\u001b[0m\u001b[0mtsa\u001b[0m\u001b[0;34m.\u001b[0m\u001b[0mplot_acf\u001b[0m\u001b[0;34m(\u001b[0m\u001b[0mres\u001b[0m\u001b[0;34m.\u001b[0m\u001b[0mresid\u001b[0m\u001b[0;34m,\u001b[0m \u001b[0mlags\u001b[0m\u001b[0;34m=\u001b[0m\u001b[0;36m10\u001b[0m\u001b[0;34m)\u001b[0m\u001b[0;34m\u001b[0m\u001b[0;34m\u001b[0m\u001b[0m\n\u001b[0;32m----> 3\u001b[0;31m \u001b[0mplt\u001b[0m\u001b[0;34m.\u001b[0m\u001b[0mshow\u001b[0m\u001b[0;34m(\u001b[0m\u001b[0mfigsize\u001b[0m\u001b[0;34m=\u001b[0m\u001b[0;34m(\u001b[0m\u001b[0;36m12\u001b[0m\u001b[0;34m,\u001b[0m \u001b[0;36m8\u001b[0m\u001b[0;34m)\u001b[0m\u001b[0;34m)\u001b[0m\u001b[0;34m\u001b[0m\u001b[0;34m\u001b[0m\u001b[0m\n\u001b[0m",
      "\u001b[0;32m~/anaconda3/envs/kaggle_env/lib/python3.9/site-packages/matplotlib/pyplot.py\u001b[0m in \u001b[0;36mshow\u001b[0;34m(*args, **kwargs)\u001b[0m\n\u001b[1;32m    376\u001b[0m     \"\"\"\n\u001b[1;32m    377\u001b[0m     \u001b[0m_warn_if_gui_out_of_main_thread\u001b[0m\u001b[0;34m(\u001b[0m\u001b[0;34m)\u001b[0m\u001b[0;34m\u001b[0m\u001b[0;34m\u001b[0m\u001b[0m\n\u001b[0;32m--> 378\u001b[0;31m     \u001b[0;32mreturn\u001b[0m \u001b[0m_backend_mod\u001b[0m\u001b[0;34m.\u001b[0m\u001b[0mshow\u001b[0m\u001b[0;34m(\u001b[0m\u001b[0;34m*\u001b[0m\u001b[0margs\u001b[0m\u001b[0;34m,\u001b[0m \u001b[0;34m**\u001b[0m\u001b[0mkwargs\u001b[0m\u001b[0;34m)\u001b[0m\u001b[0;34m\u001b[0m\u001b[0;34m\u001b[0m\u001b[0m\n\u001b[0m\u001b[1;32m    379\u001b[0m \u001b[0;34m\u001b[0m\u001b[0m\n\u001b[1;32m    380\u001b[0m \u001b[0;34m\u001b[0m\u001b[0m\n",
      "\u001b[0;31mTypeError\u001b[0m: show() got an unexpected keyword argument 'figsize'"
     ]
    },
    {
     "data": {
      "image/png": "[encoded data removed]",
      "text/plain": [
       "<Figure size 432x288 with 1 Axes>"
      ]
     },
     "metadata": {},
     "output_type": "display_data"
    }
   ],
   "source": [
    "# autocorrelation\n",
    "sm.graphics.tsa.plot_acf(res.resid, lags=10)\n",
    "plt.show()"
   ]
  },
  {
   "cell_type": "code",
   "execution_count": 23,
   "id": "be835f98",
   "metadata": {},
   "outputs": [
    {
     "data": {
      "image/png": "[encoded data removed]",
      "text/plain": [
       "<Figure size 432x288 with 1 Axes>"
      ]
     },
     "metadata": {},
     "output_type": "display_data"
    }
   ],
   "source": [
    "# partial autocorrelation\n",
    "sm.graphics.tsa.plot_pacf(res.resid, lags=10)\n",
    "plt.show()"
   ]
  },
  {
   "cell_type": "code",
   "execution_count": null,
   "id": "0fefae30",
   "metadata": {},
   "outputs": [],
   "source": []
  }
 ],
 "metadata": {
  "kernelspec": {
   "display_name": "Python 3",
   "language": "python",
   "name": "python3"
  },
  "language_info": {
   "codemirror_mode": {
    "name": "ipython",
    "version": 3
   },
   "file_extension": ".py",
   "mimetype": "text/x-python",
   "name": "python",
   "nbconvert_exporter": "python",
   "pygments_lexer": "ipython3",
   "version": "3.9.6"
  }
 },
 "nbformat": 4,
 "nbformat_minor": 5
}
